{
 "cells": [
  {
   "cell_type": "markdown",
   "metadata": {},
   "source": [
    "# Titanic "
   ]
  },
  {
   "cell_type": "markdown",
   "metadata": {},
   "source": [
    "### 1. Reference¶\n",
    "#### Datasets:\n",
    "In this project I was working with the data set \"Titanic Data\" from the Udacity website. \n",
    "\n",
    "https://www.udacity.com/api/nodes/5420148578/supplemental_media/titanic-datacsv/download?_ga=1.57940330.157342817.1461748645\n",
    "\n",
    "It contains demographics and passenger information from 891 of the 2224 passengers and crew on board the Titanic.\n",
    "\n",
    "This link allows to see the description of this dataset on the Kaggle website, where the data was obtained.\n",
    "\n",
    "https://www.kaggle.com/c/titanic/data\n",
    "\n",
    "#### Articles:\n",
    "\n",
    "http://matplotlib.org/examples/pylab_examples/\n",
    "\n",
    "http://people.duke.edu/~ccc14/pcfb/numpympl/MatplotlibBarPlots.html\n",
    "\n",
    "http://pandas.pydata.org/pandas-docs/stable/generated/pandas.DataFrame.groupby.html#pandas.DataFrame.groupby\n",
    "\n",
    "http://docs.scipy.org/doc/scipy/reference/generated/scipy.stats.linregress.html\n",
    "\n",
    "https://en.wikipedia.org/wiki/Pearson_product-moment_correlation_coefficient\n",
    "\n",
    "#### Resources :\n",
    "Online Statistics Education: An Interactive Multimedia Course of Study.\n",
    "Project Leader: David M. Lane, Rice University.\n",
    "\n",
    "http://onlinestatbook.com/2/index.html\n"
   ]
  },
  {
   "cell_type": "markdown",
   "metadata": {},
   "source": [
    "### 2. Selection of Tools\n",
    "#### I choose the IPython notebook, in which case I can submit both the code I wrote and the report of my findings in the same document. "
   ]
  },
  {
   "cell_type": "markdown",
   "metadata": {},
   "source": [
    "#### The section below is for the code libraries."
   ]
  },
  {
   "cell_type": "code",
   "execution_count": 196,
   "metadata": {
    "collapsed": true
   },
   "outputs": [],
   "source": [
    "import scipy"
   ]
  },
  {
   "cell_type": "code",
   "execution_count": 197,
   "metadata": {
    "collapsed": true
   },
   "outputs": [],
   "source": [
    "import pandas as pd"
   ]
  },
  {
   "cell_type": "code",
   "execution_count": 198,
   "metadata": {
    "collapsed": true
   },
   "outputs": [],
   "source": [
    "import numpy as np"
   ]
  },
  {
   "cell_type": "code",
   "execution_count": 199,
   "metadata": {
    "collapsed": false
   },
   "outputs": [
    {
     "name": "stdout",
     "output_type": "stream",
     "text": [
      "Populating the interactive namespace from numpy and matplotlib\n"
     ]
    }
   ],
   "source": [
    "%pylab inline\n",
    "import matplotlib.mlab as mlab\n",
    "import matplotlib.pyplot as plt"
   ]
  },
  {
   "cell_type": "code",
   "execution_count": 200,
   "metadata": {
    "collapsed": true
   },
   "outputs": [],
   "source": [
    "import seaborn as sns"
   ]
  },
  {
   "cell_type": "code",
   "execution_count": 201,
   "metadata": {
    "collapsed": true
   },
   "outputs": [],
   "source": [
    "from scipy import stats\n",
    "from pylab import plot,show"
   ]
  },
  {
   "cell_type": "code",
   "execution_count": 202,
   "metadata": {
    "collapsed": true
   },
   "outputs": [],
   "source": [
    "from operator import truediv"
   ]
  },
  {
   "cell_type": "code",
   "execution_count": 203,
   "metadata": {
    "collapsed": false
   },
   "outputs": [],
   "source": [
    "def convert_list_to_int(x):\n",
    "    y =[]\n",
    "    for element in x:\n",
    "        el = element[0]\n",
    "        y.append(el)\n",
    "    return y"
   ]
  },
  {
   "cell_type": "code",
   "execution_count": 204,
   "metadata": {
    "collapsed": true
   },
   "outputs": [],
   "source": [
    "def percentages_xy(x,y):\n",
    "    return 100.0*x/y"
   ]
  },
  {
   "cell_type": "code",
   "execution_count": 205,
   "metadata": {
    "collapsed": true
   },
   "outputs": [],
   "source": [
    "def pieplot(x,xlabel):\n",
    "    figure(1, figsize=(5,5))\n",
    "    ax = axes([0.1, 0.1, 0.8, 0.8])\n",
    "\n",
    "    labels = '1', '2', '3'\n",
    "    fracs = np.array(x)\n",
    "    explode=(0, 0.05, 0)\n",
    "\n",
    "    pie(fracs, explode=explode, labels=labels,\n",
    "                autopct='%1.0f%%', shadow=True, startangle=0)\n",
    "    title(xlabel)\n",
    "    show() "
   ]
  },
  {
   "cell_type": "code",
   "execution_count": 206,
   "metadata": {
    "collapsed": false
   },
   "outputs": [],
   "source": [
    "def pearson_stat(x,y,ylabel):\n",
    "    x1 = np.array(x)\n",
    "    y1 = np.array(y) \n",
    "\n",
    "    slope, intercept, r_value, p_value, std_err = stats.linregress(x,y)\n",
    "\n",
    "    print '     slope                   r                    standard deviation   '\n",
    "    print '                                                               '\n",
    "    print '   ', slope, \"      \", r_value, \"        \", std_err\n",
    "\n",
    "    line = slope*x1+intercept\n",
    "    plot(x1,line,'m-',x1,y1,'o')\n",
    "    pylab.xlim([x[0]-0.5,x[-1]+0.5])\n",
    "    if x == pclass_list:\n",
    "        pylab.xlabel('Pclass')\n",
    "    elif x == index0:\n",
    "        pylab.xlabel('Group by fare')\n",
    "    else:\n",
    "        pylab.xlabel('Age category')\n",
    "    pylab.ylabel(ylabel)\n",
    "    show()"
   ]
  },
  {
   "cell_type": "markdown",
   "metadata": {},
   "source": [
    "### 3. Analyzing of the data\n",
    "#### 3.1 Dataset.\n",
    "#### Let's have a look on the data set and do a basic statistical calculation on it using code. We extract data from the file and look at the available indicators."
   ]
  },
  {
   "cell_type": "code",
   "execution_count": 207,
   "metadata": {
    "collapsed": false
   },
   "outputs": [
    {
     "data": {
      "text/html": [
       "<div>\n",
       "<table border=\"1\" class=\"dataframe\">\n",
       "  <thead>\n",
       "    <tr style=\"text-align: right;\">\n",
       "      <th></th>\n",
       "      <th>PassengerId</th>\n",
       "      <th>Survived</th>\n",
       "      <th>Pclass</th>\n",
       "      <th>Name</th>\n",
       "      <th>Sex</th>\n",
       "      <th>Age</th>\n",
       "      <th>SibSp</th>\n",
       "      <th>Parch</th>\n",
       "      <th>Ticket</th>\n",
       "      <th>Fare</th>\n",
       "      <th>Cabin</th>\n",
       "      <th>Embarked</th>\n",
       "    </tr>\n",
       "  </thead>\n",
       "  <tbody>\n",
       "    <tr>\n",
       "      <th>0</th>\n",
       "      <td>1</td>\n",
       "      <td>0</td>\n",
       "      <td>3</td>\n",
       "      <td>Braund, Mr. Owen Harris</td>\n",
       "      <td>male</td>\n",
       "      <td>22.0</td>\n",
       "      <td>1</td>\n",
       "      <td>0</td>\n",
       "      <td>A/5 21171</td>\n",
       "      <td>7.2500</td>\n",
       "      <td>NaN</td>\n",
       "      <td>S</td>\n",
       "    </tr>\n",
       "    <tr>\n",
       "      <th>1</th>\n",
       "      <td>2</td>\n",
       "      <td>1</td>\n",
       "      <td>1</td>\n",
       "      <td>Cumings, Mrs. John Bradley (Florence Briggs Th...</td>\n",
       "      <td>female</td>\n",
       "      <td>38.0</td>\n",
       "      <td>1</td>\n",
       "      <td>0</td>\n",
       "      <td>PC 17599</td>\n",
       "      <td>71.2833</td>\n",
       "      <td>C85</td>\n",
       "      <td>C</td>\n",
       "    </tr>\n",
       "    <tr>\n",
       "      <th>2</th>\n",
       "      <td>3</td>\n",
       "      <td>1</td>\n",
       "      <td>3</td>\n",
       "      <td>Heikkinen, Miss. Laina</td>\n",
       "      <td>female</td>\n",
       "      <td>26.0</td>\n",
       "      <td>0</td>\n",
       "      <td>0</td>\n",
       "      <td>STON/O2. 3101282</td>\n",
       "      <td>7.9250</td>\n",
       "      <td>NaN</td>\n",
       "      <td>S</td>\n",
       "    </tr>\n",
       "    <tr>\n",
       "      <th>3</th>\n",
       "      <td>4</td>\n",
       "      <td>1</td>\n",
       "      <td>1</td>\n",
       "      <td>Futrelle, Mrs. Jacques Heath (Lily May Peel)</td>\n",
       "      <td>female</td>\n",
       "      <td>35.0</td>\n",
       "      <td>1</td>\n",
       "      <td>0</td>\n",
       "      <td>113803</td>\n",
       "      <td>53.1000</td>\n",
       "      <td>C123</td>\n",
       "      <td>S</td>\n",
       "    </tr>\n",
       "    <tr>\n",
       "      <th>4</th>\n",
       "      <td>5</td>\n",
       "      <td>0</td>\n",
       "      <td>3</td>\n",
       "      <td>Allen, Mr. William Henry</td>\n",
       "      <td>male</td>\n",
       "      <td>35.0</td>\n",
       "      <td>0</td>\n",
       "      <td>0</td>\n",
       "      <td>373450</td>\n",
       "      <td>8.0500</td>\n",
       "      <td>NaN</td>\n",
       "      <td>S</td>\n",
       "    </tr>\n",
       "  </tbody>\n",
       "</table>\n",
       "</div>"
      ],
      "text/plain": [
       "   PassengerId  Survived  Pclass  \\\n",
       "0            1         0       3   \n",
       "1            2         1       1   \n",
       "2            3         1       3   \n",
       "3            4         1       1   \n",
       "4            5         0       3   \n",
       "\n",
       "                                                Name     Sex   Age  SibSp  \\\n",
       "0                            Braund, Mr. Owen Harris    male  22.0      1   \n",
       "1  Cumings, Mrs. John Bradley (Florence Briggs Th...  female  38.0      1   \n",
       "2                             Heikkinen, Miss. Laina  female  26.0      0   \n",
       "3       Futrelle, Mrs. Jacques Heath (Lily May Peel)  female  35.0      1   \n",
       "4                           Allen, Mr. William Henry    male  35.0      0   \n",
       "\n",
       "   Parch            Ticket     Fare Cabin Embarked  \n",
       "0      0         A/5 21171   7.2500   NaN        S  \n",
       "1      0          PC 17599  71.2833   C85        C  \n",
       "2      0  STON/O2. 3101282   7.9250   NaN        S  \n",
       "3      0            113803  53.1000  C123        S  \n",
       "4      0            373450   8.0500   NaN        S  "
      ]
     },
     "execution_count": 207,
     "metadata": {},
     "output_type": "execute_result"
    }
   ],
   "source": [
    "titanic_df = pd.read_csv('/Users/olgabelitskaya/Downloads/titanic_data.csv')\n",
    "\n",
    "titanic_df.head()"
   ]
  },
  {
   "cell_type": "markdown",
   "metadata": {},
   "source": [
    "#### The most interesting variable we could observe here is \"Survived\". The main question is: what factors made people more likely to survive? Let us investigate them step by step. \n",
    "#### I propose to consider whether the number of survivors was dependent on their age, sex, social status (class and fare) or not."
   ]
  },
  {
   "cell_type": "markdown",
   "metadata": {},
   "source": [
    "#### The total number of passengers in the sample:"
   ]
  },
  {
   "cell_type": "code",
   "execution_count": 208,
   "metadata": {
    "collapsed": false
   },
   "outputs": [
    {
     "data": {
      "text/plain": [
       "891"
      ]
     },
     "execution_count": 208,
     "metadata": {},
     "output_type": "execute_result"
    }
   ],
   "source": [
    "len(titanic_df)"
   ]
  },
  {
   "cell_type": "markdown",
   "metadata": {},
   "source": [
    "#### The number of survivors in the sample:"
   ]
  },
  {
   "cell_type": "code",
   "execution_count": 209,
   "metadata": {
    "collapsed": false
   },
   "outputs": [
    {
     "data": {
      "text/plain": [
       "342"
      ]
     },
     "execution_count": 209,
     "metadata": {},
     "output_type": "execute_result"
    }
   ],
   "source": [
    "titanic_df['Survived'].sum()"
   ]
  },
  {
   "cell_type": "markdown",
   "metadata": {},
   "source": [
    "#### (including this indicator in percentage):"
   ]
  },
  {
   "cell_type": "code",
   "execution_count": 210,
   "metadata": {
    "collapsed": false
   },
   "outputs": [
    {
     "data": {
      "text/plain": [
       "38.38383838383838"
      ]
     },
     "execution_count": 210,
     "metadata": {},
     "output_type": "execute_result"
    }
   ],
   "source": [
    "100*titanic_df['Survived'].mean()"
   ]
  },
  {
   "cell_type": "markdown",
   "metadata": {},
   "source": [
    "#### We note that in the database there is no information on the age, the cabins and the ports of embarkation for the part of the ship passengers in this sample. This will prevent the qualitative analysis in some cases."
   ]
  },
  {
   "cell_type": "code",
   "execution_count": 211,
   "metadata": {
    "collapsed": false
   },
   "outputs": [
    {
     "name": "stdout",
     "output_type": "stream",
     "text": [
      "<class 'pandas.core.frame.DataFrame'>\n",
      "RangeIndex: 891 entries, 0 to 890\n",
      "Data columns (total 12 columns):\n",
      "PassengerId    891 non-null int64\n",
      "Survived       891 non-null int64\n",
      "Pclass         891 non-null int64\n",
      "Name           891 non-null object\n",
      "Sex            891 non-null object\n",
      "Age            714 non-null float64\n",
      "SibSp          891 non-null int64\n",
      "Parch          891 non-null int64\n",
      "Ticket         891 non-null object\n",
      "Fare           891 non-null float64\n",
      "Cabin          204 non-null object\n",
      "Embarked       889 non-null object\n",
      "dtypes: float64(2), int64(5), object(5)\n",
      "memory usage: 83.6+ KB\n"
     ]
    }
   ],
   "source": [
    "titanic_df.info()"
   ]
  },
  {
   "cell_type": "markdown",
   "metadata": {},
   "source": [
    "#### 3.2 Pclass\n",
    "#### Let's find out what kind of classes were on the ship: "
   ]
  },
  {
   "cell_type": "code",
   "execution_count": 212,
   "metadata": {
    "collapsed": false
   },
   "outputs": [
    {
     "data": {
      "text/plain": [
       "[1, 2, 3]"
      ]
     },
     "execution_count": 212,
     "metadata": {},
     "output_type": "execute_result"
    }
   ],
   "source": [
    "pclass = pd.Series(titanic_df['Pclass'])\n",
    "pclass_list = list(set(pclass.values))\n",
    "pclass_list"
   ]
  },
  {
   "cell_type": "markdown",
   "metadata": {},
   "source": [
    "#### and the number of passengers for each class:"
   ]
  },
  {
   "cell_type": "code",
   "execution_count": 213,
   "metadata": {
    "collapsed": true
   },
   "outputs": [],
   "source": [
    "number_by_pclass = titanic_df.groupby('Pclass').count()['PassengerId']"
   ]
  },
  {
   "cell_type": "markdown",
   "metadata": {},
   "source": [
    "#### We can estimate the percentage composition of how many passengers these classes have:"
   ]
  },
  {
   "cell_type": "code",
   "execution_count": 214,
   "metadata": {
    "collapsed": false
   },
   "outputs": [
    {
     "data": {
      "text/html": [
       "<div>\n",
       "<table border=\"1\" class=\"dataframe\">\n",
       "  <thead>\n",
       "    <tr style=\"text-align: right;\">\n",
       "      <th></th>\n",
       "      <th>Number by Pclass</th>\n",
       "      <th>Number by Pclass in percentages</th>\n",
       "    </tr>\n",
       "    <tr>\n",
       "      <th>Pclass</th>\n",
       "      <th></th>\n",
       "      <th></th>\n",
       "    </tr>\n",
       "  </thead>\n",
       "  <tbody>\n",
       "    <tr>\n",
       "      <th>1</th>\n",
       "      <td>216</td>\n",
       "      <td>24.242424</td>\n",
       "    </tr>\n",
       "    <tr>\n",
       "      <th>2</th>\n",
       "      <td>184</td>\n",
       "      <td>20.650954</td>\n",
       "    </tr>\n",
       "    <tr>\n",
       "      <th>3</th>\n",
       "      <td>491</td>\n",
       "      <td>55.106622</td>\n",
       "    </tr>\n",
       "  </tbody>\n",
       "</table>\n",
       "</div>"
      ],
      "text/plain": [
       "        Number by Pclass  Number by Pclass in percentages\n",
       "Pclass                                                   \n",
       "1                    216                        24.242424\n",
       "2                    184                        20.650954\n",
       "3                    491                        55.106622"
      ]
     },
     "execution_count": 214,
     "metadata": {},
     "output_type": "execute_result"
    }
   ],
   "source": [
    "number_by_pclass_percent = percentages_xy(number_by_pclass,len(titanic_df))\n",
    "number_by_pclass_df = pd.DataFrame(data={'Number by Pclass': number_by_pclass,\n",
    "                                         'Number by Pclass in percentages':number_by_pclass_percent})\n",
    "number_by_pclass_df"
   ]
  },
  {
   "cell_type": "code",
   "execution_count": 215,
   "metadata": {
    "collapsed": false
   },
   "outputs": [
    {
     "data": {
      "image/png": "[encoded data removed]",
      "text/plain": [
       "<matplotlib.figure.Figure at 0x11d899850>"
      ]
     },
     "metadata": {},
     "output_type": "display_data"
    }
   ],
   "source": [
    "pieplot(number_by_pclass,'Number by Pclass in percentages')"
   ]
  },
  {
   "cell_type": "markdown",
   "metadata": {},
   "source": [
    "#### And the number of survivors for all classes and the percentage of survivors for each class:"
   ]
  },
  {
   "cell_type": "code",
   "execution_count": 216,
   "metadata": {
    "collapsed": false
   },
   "outputs": [
    {
     "data": {
      "text/html": [
       "<div>\n",
       "<table border=\"1\" class=\"dataframe\">\n",
       "  <thead>\n",
       "    <tr style=\"text-align: right;\">\n",
       "      <th></th>\n",
       "      <th>Survived by Pclass</th>\n",
       "      <th>Survived by Pclass in percentages I</th>\n",
       "      <th>Survived by Pclass in percentages II</th>\n",
       "    </tr>\n",
       "    <tr>\n",
       "      <th>Pclass</th>\n",
       "      <th></th>\n",
       "      <th></th>\n",
       "      <th></th>\n",
       "    </tr>\n",
       "  </thead>\n",
       "  <tbody>\n",
       "    <tr>\n",
       "      <th>1</th>\n",
       "      <td>136</td>\n",
       "      <td>39.766082</td>\n",
       "      <td>62.962963</td>\n",
       "    </tr>\n",
       "    <tr>\n",
       "      <th>2</th>\n",
       "      <td>87</td>\n",
       "      <td>25.438596</td>\n",
       "      <td>47.282609</td>\n",
       "    </tr>\n",
       "    <tr>\n",
       "      <th>3</th>\n",
       "      <td>119</td>\n",
       "      <td>34.795322</td>\n",
       "      <td>24.236253</td>\n",
       "    </tr>\n",
       "  </tbody>\n",
       "</table>\n",
       "</div>"
      ],
      "text/plain": [
       "        Survived by Pclass  Survived by Pclass in percentages I  \\\n",
       "Pclass                                                            \n",
       "1                      136                            39.766082   \n",
       "2                       87                            25.438596   \n",
       "3                      119                            34.795322   \n",
       "\n",
       "        Survived by Pclass in percentages II  \n",
       "Pclass                                        \n",
       "1                                  62.962963  \n",
       "2                                  47.282609  \n",
       "3                                  24.236253  "
      ]
     },
     "execution_count": 216,
     "metadata": {},
     "output_type": "execute_result"
    }
   ],
   "source": [
    "survived_by_pclass = titanic_df.groupby('Pclass').sum()['Survived']\n",
    "survived_by_pclass_percent1 = percentages_xy(titanic_df.groupby('Pclass').sum()['Survived'],titanic_df['Survived'].sum())\n",
    "survived_by_pclass_percent2 = percentages_xy(titanic_df.groupby('Pclass').sum()['Survived'],number_by_pclass)\n",
    "survived_by_pclass_df = pd.DataFrame(data={'Survived by Pclass': survived_by_pclass,\n",
    "                                         'Survived by Pclass in percentages I':survived_by_pclass_percent1,\n",
    "                                          'Survived by Pclass in percentages II':survived_by_pclass_percent2,})\n",
    "survived_by_pclass_df"
   ]
  },
  {
   "cell_type": "markdown",
   "metadata": {},
   "source": [
    "#### The variable \"Survived by Pclass in percentages I\" determines the percentage of passengers who survived in this class in relation to the total number of survivors.\n",
    "#### The variable \"Survived by Pclass in percentages II\" determines the percentage of passengers who survived in this class in relation to the total number of passengers in this class."
   ]
  },
  {
   "cell_type": "code",
   "execution_count": 217,
   "metadata": {
    "collapsed": false
   },
   "outputs": [
    {
     "data": {
      "image/png": "[encoded data removed]",
      "text/plain": [
       "<matplotlib.figure.Figure at 0x11d89ef50>"
      ]
     },
     "metadata": {},
     "output_type": "display_data"
    }
   ],
   "source": [
    "pieplot(survived_by_pclass,'Survived by Pclass in percentages I')"
   ]
  },
  {
   "cell_type": "markdown",
   "metadata": {
    "collapsed": false
   },
   "source": [
    "#### A certain tendency is immediately detected: the higher class of passengers (the lower number of the class), the greater percentage of passengers who survived in  this class in relation to the total number of passengers in this class."
   ]
  },
  {
   "cell_type": "markdown",
   "metadata": {},
   "source": [
    "#### In this situation we can use the Pearson product-moment correlation coefficient as a measure of the strength of the linear relationship between two variables. Looking at the data, it can be assumed that between the independent variable \"Pclass\" and the dependent variable \"Survived by Pclass in percentages II\" there is a negative linear relationship."
   ]
  },
  {
   "cell_type": "code",
   "execution_count": 218,
   "metadata": {
    "collapsed": false
   },
   "outputs": [
    {
     "name": "stdout",
     "output_type": "stream",
     "text": [
      "     slope                   r                    standard deviation   \n",
      "                                                               \n",
      "    -19.3633552086        -0.994024355227          2.12638158486\n"
     ]
    },
    {
     "data": {
      "image/png": "[encoded data removed]",
      "text/plain": [
       "<matplotlib.figure.Figure at 0x11db20590>"
      ]
     },
     "metadata": {},
     "output_type": "display_data"
    }
   ],
   "source": [
    " pearson_stat(pclass_list,survived_by_pclass_df['Survived by Pclass in percentages II'] ,\n",
    "              'Survived by Pclass in percentages II')"
   ]
  },
  {
   "cell_type": "markdown",
   "metadata": {},
   "source": [
    "#### This picture and the calculations show a plot for which Pearson's r = -0.994024355227. It's extremly close to r = -1, so the relationship between the variable \"Pclass\" and the variable \"Survived by Pclass in percentages II\" is a strong negative linear regression."
   ]
  },
  {
   "cell_type": "markdown",
   "metadata": {},
   "source": [
    "#### 3.3 Fare\n",
    "#### Let us investigate possible links between the variable \"Fare\" and other indicators.\n",
    "#### We can guess that the lower the price of the ticket, the more passengers on board with a ticket at this price. It's also easy to assume that the cost of travel depends on the class. Therefore (bearing in mind paragraph 3.2) it's possible to detect the relationship between the number of survived people and the cost of their tickets."
   ]
  },
  {
   "cell_type": "markdown",
   "metadata": {},
   "source": [
    "#### 3.3.1 At first, we can find the average fare for passengers of each class."
   ]
  },
  {
   "cell_type": "code",
   "execution_count": 219,
   "metadata": {
    "collapsed": false
   },
   "outputs": [
    {
     "data": {
      "text/plain": [
       "Pclass\n",
       "1    84.154687\n",
       "2    20.662183\n",
       "3    13.675550\n",
       "Name: Fare, dtype: float64"
      ]
     },
     "execution_count": 219,
     "metadata": {},
     "output_type": "execute_result"
    }
   ],
   "source": [
    "fare_mean_by_class = titanic_df.groupby('Pclass').mean()['Fare']\n",
    "fare_mean_by_class"
   ]
  },
  {
   "cell_type": "markdown",
   "metadata": {},
   "source": [
    "#### The calculations below show a plot for which Pearson's r = -0.907494151378. It's enough close to r = -1, so the relationship between the independent variable \"Pclass\" and the dependent variable \"Fare mean by class\" is a strong negative linear regression."
   ]
  },
  {
   "cell_type": "code",
   "execution_count": 220,
   "metadata": {
    "collapsed": false
   },
   "outputs": [
    {
     "name": "stdout",
     "output_type": "stream",
     "text": [
      "     slope                   r                    standard deviation   \n",
      "                                                               \n",
      "    -35.2395686991        -0.907494151378          16.3118400022\n"
     ]
    },
    {
     "data": {
      "image/png": "[encoded data removed]",
      "text/plain": [
       "<matplotlib.figure.Figure at 0x11de59a90>"
      ]
     },
     "metadata": {},
     "output_type": "display_data"
    }
   ],
   "source": [
    "pearson_stat(pclass_list,fare_mean_by_class,'Fare mean by Pclass')"
   ]
  },
  {
   "cell_type": "markdown",
   "metadata": {},
   "source": [
    "#### 3.3.2 Let us now consider the general indicators of the fare (minimum, maximum and average values)."
   ]
  },
  {
   "cell_type": "code",
   "execution_count": 221,
   "metadata": {
    "collapsed": true
   },
   "outputs": [],
   "source": [
    "fare = pd.Series(titanic_df['Fare'])"
   ]
  },
  {
   "cell_type": "code",
   "execution_count": 222,
   "metadata": {
    "collapsed": false
   },
   "outputs": [
    {
     "name": "stdout",
     "output_type": "stream",
     "text": [
      "max = 512.3292\n",
      "min = 0.0\n",
      "mean = 32.2042079686\n"
     ]
    }
   ],
   "source": [
    "print 'max =', max(fare)\n",
    "print 'min =', min(fare)\n",
    "print 'mean =', mean(fare)"
   ]
  },
  {
   "cell_type": "markdown",
   "metadata": {},
   "source": [
    "#### We construct a histogram distributing the passengers by intervals of the fare."
   ]
  },
  {
   "cell_type": "code",
   "execution_count": 223,
   "metadata": {
    "collapsed": false
   },
   "outputs": [
    {
     "data": {
      "text/plain": [
       "<matplotlib.text.Text at 0x11dee8f50>"
      ]
     },
     "execution_count": 223,
     "metadata": {},
     "output_type": "execute_result"
    },
    {
     "data": {
      "image/png": "[encoded data removed]",
      "text/plain": [
       "<matplotlib.figure.Figure at 0x11defe190>"
      ]
     },
     "metadata": {},
     "output_type": "display_data"
    }
   ],
   "source": [
    "titanic_df.Fare.hist()\n",
    "plt.xlabel(\"Fare\") \n",
    "plt.ylabel(\"Number by fare\")"
   ]
  },
  {
   "cell_type": "markdown",
   "metadata": {},
   "source": [
    "#### At the intervals of about 50 units the large spread the number of passengers with minimum and maximum level of payment is observed."
   ]
  },
  {
   "cell_type": "code",
   "execution_count": 224,
   "metadata": {
    "collapsed": false
   },
   "outputs": [],
   "source": [
    "number_by_fare = pd.Series(titanic_df.groupby('Fare').count()['PassengerId'])"
   ]
  },
  {
   "cell_type": "markdown",
   "metadata": {},
   "source": [
    "#### For better understanding of the distribution of passengers in the group, I have also constructed the line. It looks like an interval about 10 units will be a better decision."
   ]
  },
  {
   "cell_type": "code",
   "execution_count": 225,
   "metadata": {
    "collapsed": false
   },
   "outputs": [
    {
     "data": {
      "text/plain": [
       "<matplotlib.text.Text at 0x11e18d750>"
      ]
     },
     "execution_count": 225,
     "metadata": {},
     "output_type": "execute_result"
    },
    {
     "data": {
      "image/png": "[encoded data removed]",
      "text/plain": [
       "<matplotlib.figure.Figure at 0x11e0eb150>"
      ]
     },
     "metadata": {},
     "output_type": "display_data"
    }
   ],
   "source": [
    "number_by_fare.plot(color='blue', linewidth=1.5, linestyle=\"-\")\n",
    "plt.xlabel(\"Fare\") \n",
    "plt.ylabel(\"Number by fare\") "
   ]
  },
  {
   "cell_type": "markdown",
   "metadata": {},
   "source": [
    "#### For the next analisis all the passengers had been divided into categories depending on the fare with the difference approximately equal to 10 units."
   ]
  },
  {
   "cell_type": "code",
   "execution_count": 226,
   "metadata": {
    "collapsed": false
   },
   "outputs": [],
   "source": [
    "bins1 = np.linspace(fare.min(), fare.max(), 52)\n",
    "groups = fare.groupby(pd.cut(fare, bins1)).count()\n",
    "groups1 = groups.tolist()\n",
    "\n",
    "index1 = [i for i in range(0,510) if i%10 == 0]\n",
    "\n",
    "groups_df = pd.DataFrame(data={'Number in group by fare': groups1}, index=index1)"
   ]
  },
  {
   "cell_type": "markdown",
   "metadata": {},
   "source": [
    "#### We can construct a graph showing the number of the passengers fall into each category."
   ]
  },
  {
   "cell_type": "code",
   "execution_count": 227,
   "metadata": {
    "collapsed": false
   },
   "outputs": [
    {
     "data": {
      "text/plain": [
       "<matplotlib.text.Text at 0x11e18d550>"
      ]
     },
     "execution_count": 227,
     "metadata": {},
     "output_type": "execute_result"
    },
    {
     "data": {
      "image/png": "[encoded data removed]",
      "text/plain": [
       "<matplotlib.figure.Figure at 0x11e19b290>"
      ]
     },
     "metadata": {},
     "output_type": "display_data"
    }
   ],
   "source": [
    "groups_df.plot(color='red', linewidth=1.5, linestyle=\"-\")\n",
    "plt.xlabel(\"Fare\") \n",
    "plt.ylabel(\"Number in group by fare\") "
   ]
  },
  {
   "cell_type": "markdown",
   "metadata": {
    "collapsed": true
   },
   "source": [
    "#### Let us exclude outliers. First 27 groups include the majority of passengers, the remaining groups - only three people."
   ]
  },
  {
   "cell_type": "code",
   "execution_count": 228,
   "metadata": {
    "collapsed": false
   },
   "outputs": [
    {
     "name": "stdout",
     "output_type": "stream",
     "text": [
      "3\n"
     ]
    }
   ],
   "source": [
    "groups0 = groups1[:27]\n",
    "index0 = index1[:27]\n",
    "\n",
    "number_in_rest = sum(groups1[27:])\n",
    "print number_in_rest"
   ]
  },
  {
   "cell_type": "markdown",
   "metadata": {},
   "source": [
    "#### Now we can estimate the existence of dependence."
   ]
  },
  {
   "cell_type": "code",
   "execution_count": 229,
   "metadata": {
    "collapsed": false
   },
   "outputs": [
    {
     "name": "stdout",
     "output_type": "stream",
     "text": [
      "     slope                   r                    standard deviation   \n",
      "                                                               \n",
      "    -0.558913308913        -0.617051133707          0.142556020365\n"
     ]
    },
    {
     "data": {
      "image/png": "[encoded data removed]",
      "text/plain": [
       "<matplotlib.figure.Figure at 0x11bc120d0>"
      ]
     },
     "metadata": {},
     "output_type": "display_data"
    }
   ],
   "source": [
    "pearson_stat(index0,groups0,'Number in group by fare')"
   ]
  },
  {
   "cell_type": "markdown",
   "metadata": {},
   "source": [
    "#### In this case Pearson's r = -0.617051133707. It's not so close to r = -1, so the relationship between the independent variable \"Group by fare\" and the dependent variable \"Number in group by fare\" is a weak negative relationship."
   ]
  },
  {
   "cell_type": "markdown",
   "metadata": {},
   "source": [
    "#### 3.3.3 Let us have a look at the variable \"Fare\" and the variable \"Survived\". Here is a built database for these categories."
   ]
  },
  {
   "cell_type": "code",
   "execution_count": 230,
   "metadata": {
    "collapsed": false
   },
   "outputs": [],
   "source": [
    "survived_by_fare = titanic_df.groupby('Fare').sum()['Survived']\n",
    "survived_groups_df = pd.DataFrame(data={'Survived by fare': survived_by_fare})"
   ]
  },
  {
   "cell_type": "code",
   "execution_count": 231,
   "metadata": {
    "collapsed": false
   },
   "outputs": [],
   "source": [
    "survived_groups_df.reset_index(inplace=True)"
   ]
  },
  {
   "cell_type": "markdown",
   "metadata": {},
   "source": [
    "#### As in the paragraph 3.3.2 passengers had been divided into several dozen categories according to the price of the ticket and the number of survivors in each category was counted. Outliers were also excluded."
   ]
  },
  {
   "cell_type": "code",
   "execution_count": 232,
   "metadata": {
    "collapsed": false
   },
   "outputs": [
    {
     "data": {
      "text/html": [
       "<div>\n",
       "<table border=\"1\" class=\"dataframe\">\n",
       "  <thead>\n",
       "    <tr style=\"text-align: right;\">\n",
       "      <th></th>\n",
       "      <th>Number by group</th>\n",
       "      <th>Survived by group</th>\n",
       "    </tr>\n",
       "  </thead>\n",
       "  <tbody>\n",
       "    <tr>\n",
       "      <th>0</th>\n",
       "      <td>321</td>\n",
       "      <td>66</td>\n",
       "    </tr>\n",
       "    <tr>\n",
       "      <th>10</th>\n",
       "      <td>179</td>\n",
       "      <td>76</td>\n",
       "    </tr>\n",
       "    <tr>\n",
       "      <th>20</th>\n",
       "      <td>144</td>\n",
       "      <td>64</td>\n",
       "    </tr>\n",
       "    <tr>\n",
       "      <th>30</th>\n",
       "      <td>57</td>\n",
       "      <td>22</td>\n",
       "    </tr>\n",
       "    <tr>\n",
       "      <th>40</th>\n",
       "      <td>15</td>\n",
       "      <td>4</td>\n",
       "    </tr>\n",
       "  </tbody>\n",
       "</table>\n",
       "</div>"
      ],
      "text/plain": [
       "    Number by group  Survived by group\n",
       "0               321                 66\n",
       "10              179                 76\n",
       "20              144                 64\n",
       "30               57                 22\n",
       "40               15                  4"
      ]
     },
     "execution_count": 232,
     "metadata": {},
     "output_type": "execute_result"
    }
   ],
   "source": [
    "survived_groups = survived_groups_df.groupby(pd.cut(survived_groups_df[\"Fare\"], bins1)).sum()\n",
    "\n",
    "survived_groups1 = survived_groups.fillna(0)\n",
    "\n",
    "survived_groups2 = survived_groups1['Survived by fare'][:27].tolist()\n",
    "survived_groups2 = [int(x) for x in survived_groups2]\n",
    "\n",
    "fare_groups_df = pd.DataFrame(data={'Number by group': groups0, 'Survived by group': survived_groups2}, index=index0)\n",
    "fare_groups_df.head()"
   ]
  },
  {
   "cell_type": "markdown",
   "metadata": {},
   "source": [
    "#### The data had adjusted by using the function \"db.fillna(0)\" in two cases:\n",
    "#### 1) values do not fall in the ranges;\n",
    "#### 2) the value was zero and it was impossible to find the result of division.\n",
    "#### Missing data were replaced by zero."
   ]
  },
  {
   "cell_type": "code",
   "execution_count": 233,
   "metadata": {
    "collapsed": false
   },
   "outputs": [],
   "source": [
    "m = np.array(survived_groups2)\n",
    "n = np.array(groups0)\n",
    "\n",
    "survived_groups_in_percentages0 = 100.0*np.true_divide(m,n)\n",
    "survived_groups_in_percentages1 = pd.Series(survived_groups_in_percentages0).fillna(0)"
   ]
  },
  {
   "cell_type": "markdown",
   "metadata": {},
   "source": [
    "#### Let us estimate the existence of dependence between \"Group by fare\" and \"Survived in group by fare in percentages\" t"
   ]
  },
  {
   "cell_type": "code",
   "execution_count": 234,
   "metadata": {
    "collapsed": false
   },
   "outputs": [
    {
     "name": "stdout",
     "output_type": "stream",
     "text": [
      "     slope                   r                    standard deviation   \n",
      "                                                               \n",
      "    -0.0689445193963        -0.157400468005          0.0865119614025\n"
     ]
    },
    {
     "data": {
      "image/png": "[encoded data removed]",
      "text/plain": [
       "<matplotlib.figure.Figure at 0x11e4b52d0>"
      ]
     },
     "metadata": {},
     "output_type": "display_data"
    }
   ],
   "source": [
    "pearson_stat(index0,survived_groups_in_percentages1,'Survived in group by fare in percentages')"
   ]
  },
  {
   "cell_type": "markdown",
   "metadata": {
    "collapsed": true
   },
   "source": [
    "#### In this case Pearson's r = -0.157400468005. It's enough close to r = 0, so between the independent variable \"Group by fare\" and the dependent variable \"Survived in group by fare in percentages\" there is no relationship."
   ]
  },
  {
   "cell_type": "markdown",
   "metadata": {},
   "source": [
    "#### 3.4 Sex\n",
    "####  Now let us check the variable \"Sex\", the variable \"Survived\" and their possible dependence. Here is a special database for these categories including the indicators in percentages."
   ]
  },
  {
   "cell_type": "code",
   "execution_count": 235,
   "metadata": {
    "collapsed": false
   },
   "outputs": [],
   "source": [
    "number_by_sex = titanic_df.groupby('Sex').count()['PassengerId']\n",
    "number_by_sex_in_percentages = percentages_xy(titanic_df.groupby('Sex').count()['PassengerId'],len(titanic_df))"
   ]
  },
  {
   "cell_type": "code",
   "execution_count": 236,
   "metadata": {
    "collapsed": false
   },
   "outputs": [],
   "source": [
    "survived_by_sex = titanic_df.groupby('Sex').sum()['Survived']\n",
    "survived_by_sex_in_percentages1 = percentages_xy(titanic_df.groupby('Sex').sum()['Survived'],titanic_df['Survived'].sum())\n",
    "survived_by_sex_in_percentages2 = percentages_xy(titanic_df.groupby('Sex').sum()['Survived'],number_by_sex)"
   ]
  },
  {
   "cell_type": "markdown",
   "metadata": {},
   "source": [
    "#### For clarity, the data are combined into one table."
   ]
  },
  {
   "cell_type": "code",
   "execution_count": 237,
   "metadata": {
    "collapsed": false
   },
   "outputs": [
    {
     "data": {
      "text/html": [
       "<div>\n",
       "<table border=\"1\" class=\"dataframe\">\n",
       "  <thead>\n",
       "    <tr style=\"text-align: right;\">\n",
       "      <th></th>\n",
       "      <th>Number by sex</th>\n",
       "      <th>Number by sex in percentages</th>\n",
       "      <th>Survived by sex</th>\n",
       "      <th>Survived by sex in percentages I</th>\n",
       "      <th>Survived by sex in percentages II</th>\n",
       "    </tr>\n",
       "    <tr>\n",
       "      <th>Sex</th>\n",
       "      <th></th>\n",
       "      <th></th>\n",
       "      <th></th>\n",
       "      <th></th>\n",
       "      <th></th>\n",
       "    </tr>\n",
       "  </thead>\n",
       "  <tbody>\n",
       "    <tr>\n",
       "      <th>female</th>\n",
       "      <td>314</td>\n",
       "      <td>35.241302</td>\n",
       "      <td>233</td>\n",
       "      <td>68.128655</td>\n",
       "      <td>74.203822</td>\n",
       "    </tr>\n",
       "    <tr>\n",
       "      <th>male</th>\n",
       "      <td>577</td>\n",
       "      <td>64.758698</td>\n",
       "      <td>109</td>\n",
       "      <td>31.871345</td>\n",
       "      <td>18.890815</td>\n",
       "    </tr>\n",
       "  </tbody>\n",
       "</table>\n",
       "</div>"
      ],
      "text/plain": [
       "        Number by sex  Number by sex in percentages  Survived by sex  \\\n",
       "Sex                                                                    \n",
       "female            314                     35.241302              233   \n",
       "male              577                     64.758698              109   \n",
       "\n",
       "        Survived by sex in percentages I  Survived by sex in percentages II  \n",
       "Sex                                                                          \n",
       "female                         68.128655                          74.203822  \n",
       "male                           31.871345                          18.890815  "
      ]
     },
     "execution_count": 237,
     "metadata": {},
     "output_type": "execute_result"
    }
   ],
   "source": [
    "survived_by_sex_df = pd.DataFrame(data={'Number by sex': number_by_sex,\n",
    "                                        'Number by sex in percentages':number_by_sex_in_percentages,\n",
    "                                        'Survived by sex':survived_by_sex,\n",
    "                                        'Survived by sex in percentages I':survived_by_sex_in_percentages1,\n",
    "                                        'Survived by sex in percentages II':survived_by_sex_in_percentages2})\n",
    "survived_by_sex_df"
   ]
  },
  {
   "cell_type": "markdown",
   "metadata": {},
   "source": [
    "#### The variable \"Survived by sex in percentages I\" determines the percentage of survived passengers of this sex in relation to the total number of survivors.\n",
    "#### The variable \"Survived by sex in percentages II\" determines the percentage of survived passengers of this sex in relation to the total number of passengers of the same sex."
   ]
  },
  {
   "cell_type": "code",
   "execution_count": 238,
   "metadata": {
    "collapsed": false
   },
   "outputs": [
    {
     "data": {
      "image/png": "[encoded data removed]",
      "text/plain": [
       "<matplotlib.figure.Figure at 0x11e98d150>"
      ]
     },
     "metadata": {},
     "output_type": "display_data"
    }
   ],
   "source": [
    "fig = plt.figure()\n",
    "ax = fig.add_subplot(111)\n",
    "\n",
    "## the data\n",
    "Number_by_Sex_in_percentages = pd.Series(survived_by_sex_df['Number by sex in percentages'])\n",
    "Survived_by_Sex_in_percentages1 = pd.Series(survived_by_sex_df['Survived by sex in percentages I'])\n",
    "Survived_by_Sex_in_percentages2 = pd.Series(survived_by_sex_df['Survived by sex in percentages II'])\n",
    "\n",
    "## necessary variables\n",
    "ind = np.array([1,2])           # the x locations for the pclass\n",
    "width = 0.2     # the width of the bars\n",
    "\n",
    "## the bars\n",
    "rects1 = ax.bar(ind, Number_by_Sex_in_percentages, width, color='red', alpha = 0.7)\n",
    "rects2 = ax.bar(ind+width, Survived_by_Sex_in_percentages1, width, color='green', alpha = 0.7)\n",
    "rects3 = ax.bar(ind+2*width, Survived_by_Sex_in_percentages2, width, color='blue', alpha = 0.7)\n",
    "\n",
    "# axes and labels\n",
    "ax.set_xlim(-width+1,len(ind)+width+0.6)\n",
    "ax.set_ylim(0,90)\n",
    "ax.set_ylabel('Values by sex in percentages')\n",
    "ax.set_title('Number of passengers and Survived passengers by sex in percentages')\n",
    "xTickMarks = ['female','male']\n",
    "ax.set_xticks(ind+width)\n",
    "xtickNames = ax.set_xticklabels(xTickMarks)\n",
    "plt.setp(xtickNames, rotation=10, fontsize=30)\n",
    "\n",
    "## add a legend\n",
    "ax.legend((rects1[0], rects2[0], rects3[0]), \n",
    "          ('Number by sex in percentages', 'Survived by sex in percentages I', 'Survived by sex in percentages II') )\n",
    "plt.show()"
   ]
  },
  {
   "cell_type": "markdown",
   "metadata": {},
   "source": [
    "#### Combining the data in one histogram let us clearly see the tendency: female passengers were more likely to survive in this instance.\n",
    "#### Among the total number of passengers there were fewer women than men in percentage terms, and among the survived passengers women were the most."
   ]
  },
  {
   "cell_type": "markdown",
   "metadata": {},
   "source": [
    "#### 3.5 Age"
   ]
  },
  {
   "cell_type": "markdown",
   "metadata": {},
   "source": [
    "#### The next step - we have a look at the variable \"Age\" and the variable \"Survived\". "
   ]
  },
  {
   "cell_type": "code",
   "execution_count": 239,
   "metadata": {
    "collapsed": true
   },
   "outputs": [],
   "source": [
    "age = pd.Series(titanic_df['Age'])"
   ]
  },
  {
   "cell_type": "markdown",
   "metadata": {},
   "source": [
    "#### We can consider the general indicators of the age of passengers (minimum, maximum and average values)."
   ]
  },
  {
   "cell_type": "code",
   "execution_count": 240,
   "metadata": {
    "collapsed": false
   },
   "outputs": [
    {
     "name": "stdout",
     "output_type": "stream",
     "text": [
      "max = 80.0\n",
      "min = 0.42\n",
      "mean = 29.6991176471\n"
     ]
    }
   ],
   "source": [
    "print 'max =', max(age)\n",
    "print 'min =', min(age)\n",
    "print 'mean =', mean(age)"
   ]
  },
  {
   "cell_type": "markdown",
   "metadata": {},
   "source": [
    "#### We will group the passengers on the basis of age and consider their distribution."
   ]
  },
  {
   "cell_type": "code",
   "execution_count": 241,
   "metadata": {
    "collapsed": false
   },
   "outputs": [],
   "source": [
    "number_age = titanic_df.groupby('Age').count()['PassengerId']"
   ]
  },
  {
   "cell_type": "code",
   "execution_count": 242,
   "metadata": {
    "collapsed": false
   },
   "outputs": [
    {
     "data": {
      "text/plain": [
       "<matplotlib.text.Text at 0x11ea5f310>"
      ]
     },
     "execution_count": 242,
     "metadata": {},
     "output_type": "execute_result"
    },
    {
     "data": {
      "image/png": "[encoded data removed]",
      "text/plain": [
       "<matplotlib.figure.Figure at 0x11e827650>"
      ]
     },
     "metadata": {},
     "output_type": "display_data"
    }
   ],
   "source": [
    "titanic_df.Age.hist()\n",
    "plt.xlabel(\"Age\")\n",
    "plt.ylabel(\"Number by age\")"
   ]
  },
  {
   "cell_type": "markdown",
   "metadata": {},
   "source": [
    "#### Let us divide passengers into age categories and estimate the number of survivors in each of them. In this analysis, we do not count the passengers whose age is unknown."
   ]
  },
  {
   "cell_type": "code",
   "execution_count": 243,
   "metadata": {
    "collapsed": false
   },
   "outputs": [],
   "source": [
    "age = pd.cut(titanic_df['Age'], [0,13,19,35,60,85], labels=['child', 'teenager', 'young','middle-aged','old'])\n",
    "df_age = pd.DataFrame(data={'Age category': age,'Survived': titanic_df['Survived']})\n",
    "number_by_age = df_age.groupby('Age category').count() \n",
    "number_by_age1 = number_by_age.values.tolist()\n",
    "survived_by_age = df_age.groupby('Age category').sum()\n",
    "survived_by_age1 = survived_by_age.values.tolist()\n",
    "survived_by_age_in_percentages = percentages_xy(survived_by_age,number_by_age)\n",
    "survived_by_age_in_percentages1 = survived_by_age_in_percentages.values.tolist()"
   ]
  },
  {
   "cell_type": "markdown",
   "metadata": {},
   "source": [
    "#### Here is a built database for these categories."
   ]
  },
  {
   "cell_type": "code",
   "execution_count": 244,
   "metadata": {
    "collapsed": false
   },
   "outputs": [
    {
     "data": {
      "text/html": [
       "<div>\n",
       "<table border=\"1\" class=\"dataframe\">\n",
       "  <thead>\n",
       "    <tr style=\"text-align: right;\">\n",
       "      <th></th>\n",
       "      <th>Number by age category</th>\n",
       "      <th>Survived by age category</th>\n",
       "      <th>Survived by age category in percentages</th>\n",
       "    </tr>\n",
       "  </thead>\n",
       "  <tbody>\n",
       "    <tr>\n",
       "      <th>child</th>\n",
       "      <td>71</td>\n",
       "      <td>42</td>\n",
       "      <td>59.154930</td>\n",
       "    </tr>\n",
       "    <tr>\n",
       "      <th>teenager</th>\n",
       "      <td>93</td>\n",
       "      <td>37</td>\n",
       "      <td>39.784946</td>\n",
       "    </tr>\n",
       "    <tr>\n",
       "      <th>young</th>\n",
       "      <td>333</td>\n",
       "      <td>128</td>\n",
       "      <td>38.438438</td>\n",
       "    </tr>\n",
       "    <tr>\n",
       "      <th>middle-aged</th>\n",
       "      <td>195</td>\n",
       "      <td>78</td>\n",
       "      <td>40.000000</td>\n",
       "    </tr>\n",
       "    <tr>\n",
       "      <th>old</th>\n",
       "      <td>22</td>\n",
       "      <td>5</td>\n",
       "      <td>22.727273</td>\n",
       "    </tr>\n",
       "  </tbody>\n",
       "</table>\n",
       "</div>"
      ],
      "text/plain": [
       "             Number by age category  Survived by age category  \\\n",
       "child                            71                        42   \n",
       "teenager                         93                        37   \n",
       "young                           333                       128   \n",
       "middle-aged                     195                        78   \n",
       "old                              22                         5   \n",
       "\n",
       "             Survived by age category in percentages  \n",
       "child                                      59.154930  \n",
       "teenager                                   39.784946  \n",
       "young                                      38.438438  \n",
       "middle-aged                                40.000000  \n",
       "old                                        22.727273  "
      ]
     },
     "execution_count": 244,
     "metadata": {},
     "output_type": "execute_result"
    }
   ],
   "source": [
    "df_survived_by_age = pd.DataFrame(data={'Number by age category': convert_list_to_int(number_by_age1),\n",
    "                                        'Survived by age category': convert_list_to_int(survived_by_age1),\n",
    "                                        'Survived by age category in percentages': convert_list_to_int(survived_by_age_in_percentages1)},\n",
    "                                 index=['child', 'teenager', 'young','middle-aged','old'])\n",
    "df_survived_by_age"
   ]
  },
  {
   "cell_type": "markdown",
   "metadata": {},
   "source": [
    "#### We assign each age category ['child', 'teenager', 'young','middle-aged','old'] the corresponding number [1, 2, 3, 4, 5] and analyze the dependence of the variable \"Survived by age category in percentages\" on the variable \"Age category\"."
   ]
  },
  {
   "cell_type": "code",
   "execution_count": 245,
   "metadata": {
    "collapsed": false
   },
   "outputs": [
    {
     "name": "stdout",
     "output_type": "stream",
     "text": [
      "     slope                   r                    standard deviation   \n",
      "                                                               \n",
      "    -7.26402599369        -0.888941929837          2.16086549863\n"
     ]
    },
    {
     "data": {
      "image/png": "[encoded data removed]",
      "text/plain": [
       "<matplotlib.figure.Figure at 0x11ecbf610>"
      ]
     },
     "metadata": {},
     "output_type": "display_data"
    }
   ],
   "source": [
    "pearson_stat([1, 2, 3, 4, 5],\n",
    "             convert_list_to_int(survived_by_age_in_percentages1),\n",
    "             'Survived by age category in percentages')"
   ]
  },
  {
   "cell_type": "markdown",
   "metadata": {},
   "source": [
    "#### The calculations above show a plot for which Pearson's r = -0.888941929837. It's enough close to r = -1, so the relationship between the independent variable \"Age category\" and the dependent variable \"Survived by age category in percentages\" is a strong negative linear regression."
   ]
  },
  {
   "cell_type": "markdown",
   "metadata": {
    "collapsed": false
   },
   "source": [
    "### 4. Сonclusion\n"
   ]
  },
  {
   "cell_type": "markdown",
   "metadata": {},
   "source": [
    "#### 4.1 Identified trends"
   ]
  },
  {
   "cell_type": "markdown",
   "metadata": {
    "collapsed": true
   },
   "source": [
    "#### So, a strong negative linear relationship was found between the following pairs of variables:\n",
    "#### 1) the independent variable \"Pclass\" and the dependent variable \"Survived by Pclass in percentages II\" (the percentage of passengers who survived in this class in relation to the total number of passengers in this class);\n",
    "#### 2) the independent variable \"Pclass\" and the dependent variable \"Fare mean by Pclass\" (the average fare for passengers in this class);\n",
    "#### 3) the independent variable \"Age category\" and the dependent variable \"Survived by age category in percentages\" (the percentage of passengers who survived in the age category in relation to the total number of passengers in this age category.\n",
    "#### The revealed strong connections suggest that first-class passengers and children were more likely to survive.\n",
    "\n",
    "#### A weak negative correlation was found between the independent variable \"Group by fare\" and the dependent variable \"Number in group by fare\". According to the graph, the relationship is unlikely to be linear.\n",
    "#### However, we can say for sure: fewer the cost of the ticket, greater the number of passengers in this category of tickets.\n",
    "\n",
    "#### The relationship was not found between the independent variable \"Group by fare\" and the dependent variable \"Survived in group by fare in percentages\" (the percentage of passengers who survived in the group in relation to the total number of passengers in this group)."
   ]
  },
  {
   "cell_type": "markdown",
   "metadata": {
    "collapsed": true
   },
   "source": [
    "#### It should be noted that the percentage of survivors of passengers is much higher among women than among men. Perhaps, here analyzing of the dependence nature is not meaningful because the variable \"Sex\" has only two values."
   ]
  },
  {
   "cell_type": "markdown",
   "metadata": {},
   "source": [
    "#### 4.2 Reasons for trends"
   ]
  },
  {
   "cell_type": "markdown",
   "metadata": {},
   "source": [
    "#### The reasons for a few trends are so obvious that it is not worth the discussion: increasing of the average price of travel and reducing the number of the passengers with increased passenger class.\n",
    "#### Some relationships can be due to reasons of humanity (such as surviving more women and youngs).\n",
    "#### Some connections can have a whole range of bases. For example, a higher percentage of survivors among the passengers of the first class can be explained by the presence of a larger number of life-saving appliances,  damage of the ship far away from the cabins of the first class or the existence of class prejudices of the crew who saved at first all the passengers in this class."
   ]
  },
  {
   "cell_type": "markdown",
   "metadata": {},
   "source": [
    "#### 4.3 Restrictions in research"
   ]
  },
  {
   "cell_type": "markdown",
   "metadata": {},
   "source": [
    "#### There were a lot of limitations in this analysis which casts doubt on some of the identified trends.\n",
    "#### 1) We have the data for only 891 passengers, but in this incident there were 1300 passengers in total and the crew members. If the rest of the passengers belong to a certain category (for example, only men or only first-class passengers), all the analysis in this category becomes fundamentally wrong.\n",
    "#### 2) We are not running statistical analysis to test for statistical significance between survival rates. So we can not be sure to decide if a data set is from a random process or not.\n",
    "#### 3) Some columns have missing data and it also could affect the analysis. For example, the trends in age categories and in the distribution of them of rescued passengers may be changed significantly.\n",
    "#### 4) To determine the reasons for some trends (for example, saving a large number of first-class passengers) there is no data at all, only guesses can be built as a result."
   ]
  },
  {
   "cell_type": "code",
   "execution_count": null,
   "metadata": {
    "collapsed": true
   },
   "outputs": [],
   "source": []
  }
 ],
 "metadata": {
  "anaconda-cloud": {},
  "kernelspec": {
   "display_name": "Python [Root]",
   "language": "python",
   "name": "Python [Root]"
  },
  "language_info": {
   "codemirror_mode": {
    "name": "ipython",
    "version": 2
   },
   "file_extension": ".py",
   "mimetype": "text/x-python",
   "name": "python",
   "nbconvert_exporter": "python",
   "pygments_lexer": "ipython2",
   "version": "2.7.12"
  }
 },
 "nbformat": 4,
 "nbformat_minor": 0
}
