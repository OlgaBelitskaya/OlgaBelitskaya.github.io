{
 "cells": [
  {
   "cell_type": "markdown",
   "metadata": {
    "outputExpanded": false
   },
   "source": [
    "# &#x1F4DD; &nbsp; Courses and Programs: \n",
    "https://olgabelitskaya.github.io/reflections/README.html"
   ]
  },
  {
   "cell_type": "markdown",
   "metadata": {
    "outputExpanded": false
   },
   "source": [
    "# &#x1F4DA; &nbsp; Notebooks and Data Files:\n",
    "https://olgabelitskaya.github.io/notebooks/README.html"
   ]
  },
  {
   "cell_type": "markdown",
   "metadata": {},
   "source": [
    "# &#x1F4DA; &nbsp; Additional Exercises:\n",
    "https://olgabelitskaya.github.io/README_EXERCISES.html"
   ]
  },
  {
   "cell_type": "markdown",
   "metadata": {
    "outputExpanded": false
   },
   "source": [
    "# &#x1F3D9; &nbsp; Projects:"
   ]
  },
  {
   "cell_type": "markdown",
   "metadata": {
    "outputExpanded": false
   },
   "source": [
    "### Data Analyst Nanodegree (udacity.com)  https://olgabelitskaya.github.io/certificate.pdf\n",
    "##### <span style=\"color:#338DD4\">click on the links to view</span>\n",
    "#### P0: Chopsticks! https://olgabelitskaya.github.io/Data_Analyst_ND_Project0.html\n",
    "#### P1: The Stroop Effect https://olgabelitskaya.github.io/Data_Analyst_ND_Project1.html\n",
    "#### P2: Titanic https://olgabelitskaya.github.io/Data_Analyst_ND_Project2.html\n",
    "#### P3 Extraction MongoDB: https://olgabelitskaya.github.io/Data_Analyst_ND_Project3_Dubai-AbuDhabi_Extraction_MongoDB.html\n",
    "#### P3 MongoDB: https://olgabelitskaya.github.io/Data_Analyst_ND_Project3_Dubai-AbuDhabi_MongoDB.html\n",
    "#### P3 Postcodes: https://olgabelitskaya.github.io/P3_postcodes.html\n",
    "#### P3 Additional SQL: https://olgabelitskaya.github.io/Data_Analyst_ND_Project3_Dubai-AbuDhabi_SQL.html\n",
    "#### P3 Additional R SQL MongoDB: https://olgabelitskaya.github.io/P3_R_SQL_MongoDB.html\n",
    "#### P3 Additional Moscow Region: https://olgabelitskaya.github.io/Data_Analyst_ND_Project3_MoscowRegion.html\n",
    "#### P4: Explore and Summarize Data  https://olgabelitskaya.github.io/P4Beta.html\n",
    "#### P5: Identify Fraud from Enron Email. Extraction https://olgabelitskaya.github.io/P5_Identify_Fraud_from_Enron_Email_Extraction.txt\n",
    "#### P5: Identify Fraud from Enron Email  https://olgabelitskaya.github.io/P5_Identify_Fraud_from_Enron_Email.html\n",
    "#### P5: Identify Fraud from Enron Email. Response Questions https://olgabelitskaya.github.io/P5_Enron_Submission_Free_Response_Questions.txt\n",
    "#### P6: Make Effective Data Visualization. Review  https://olgabelitskaya.github.io/P6_Readme.html\n",
    "#### P6: Make Effective Data Visualization  https://olgabelitskaya.github.io/P6_index_final.html\n",
    "#### P7: Design an A/B Test  https://olgabelitskaya.github.io/P7_Design_an_A_B_Test_Overview.html\n",
    "#### P7: Design an A/B Test. Extraction https://olgabelitskaya.github.io/P7_Design_an_A_B_Test_Extraction.pdf"
   ]
  },
  {
   "cell_type": "markdown",
   "metadata": {},
   "source": [
    "### Machine Learning Engineer Nanodegree (udacity.com) \n",
    "##### <span style=\"color:#338DD4\">click on the links to view</span>\n",
    "#### P0: Titanic Survival Exploration https://olgabelitskaya.github.io/MLE_ND_P0_V0.html\n",
    "#### P1: Predicting Boston Housing Prices https://olgabelitskaya.github.io/MLE_ND_P1_V0.html\n",
    "#### P2: Finding Donors for CharityML https://olgabelitskaya.github.io/MLE_ND_P2_V0.html\n",
    "#### P3: Creating Customer Segments https://olgabelitskaya.github.io/MLE_ND_P3_V0.html\n",
    "#### P4: Train a Smartcab to Drive https://olgabelitskaya.github.io/MLE_ND_P4_V0.html\n",
    "#### P5: Build a Digit Recognition Program \n",
    "- https://olgabelitskaya.github.io/MLE_ND_P5_V0_S1.html\n",
    "- https://olgabelitskaya.github.io/MLE_ND_P5_V0_S2.html\n",
    "- https://olgabelitskaya.github.io/MLE_ND_P5_V0_S3.html\n",
    "\n",
    "#### P6: Capstone Project https://olgabelitskaya.github.io/MLE_ND_P6_V0.html\n",
    "#### P7: Building a Student Intervention System https://olgabelitskaya.github.io/MLE_ND_P7_V0.html\n",
    "#### P8: Analyzing the NYC Subway Dataset https://olgabelitskaya.github.io/MLE_ND_P8_V0.html\n",
    "#### P9: Image Classification \n",
    "- https://olgabelitskaya.github.io/MLE_ND_P9_V0.html\n",
    "- https://olgabelitskaya.github.io/MLE_ND_P9_V3.html"
   ]
  },
  {
   "cell_type": "markdown",
   "metadata": {
    "outputExpanded": false
   },
   "source": [
    "### &#x1F4CB; &nbsp; Interview and Technical Interview Practice. Data Analyst. (constantly upgradable):\n",
    "Udacity_Interview_Practice.ipynb \n",
    "https://gist.github.com/OlgaBelitskaya/1ddb287592832cf581fc122d6bc2732e\n",
    "\n",
    "Udacity_Technical_Interview_Practice_Lessons.ipynb  https://gist.github.com/OlgaBelitskaya/a6cb19e1f3a041e6f6a56ccf58b4701c\n",
    "\n",
    "Udacity_Technical_Interview_Practice_Project.ipynb\n",
    "https://gist.github.com/OlgaBelitskaya/849e983dd6e90943d5760be4c4986501\n",
    "\n",
    "https://github.com/OlgaBelitskaya/resume-builder/blob/master/Exercises_Interview_Practice_Py.ipynb\n",
    "\n",
    "https://github.com/OlgaBelitskaya/resume-builder/blob/master/Exercises_Technical_Interview_Graph.ipynb\n",
    "\n",
    "https://github.com/OlgaBelitskaya/resume-builder/blob/master/Exercises_Technical_Interview_Map1.ipynb\n",
    "\n",
    "https://github.com/OlgaBelitskaya/resume-builder/blob/master/Exercises_Technical_Interview_Map2.ipynb\n",
    "\n",
    "https://github.com/OlgaBelitskaya/resume-builder/blob/master/Exercises_Technical_Interview_MathsStats.ipynb\n",
    "\n",
    "https://github.com/OlgaBelitskaya/resume-builder/blob/master/Exercises_Technical_Interview_Sort.ipynb"
   ]
  },
  {
   "cell_type": "markdown",
   "metadata": {
    "outputExpanded": false
   },
   "source": [
    "### &#x1F4CB; &nbsp; GitHub gists: https://gist.github.com/OlgaBelitskaya"
   ]
  },
  {
   "cell_type": "markdown",
   "metadata": {
    "outputExpanded": false
   },
   "source": [
    "### &#x1F4CB; &nbsp; Pages on http://bl.ocks.org/ :\n",
    "Olga Belitskaya’s Block \n",
    "- Visualization. Map I: http://bl.ocks.org/OlgaBelitskaya/bcc84d52267612a32b2a5bf79ae11b94\n",
    "- Visualization. Map II: http://bl.ocks.org/OlgaBelitskaya/de4685ce8630c2ea00229750097e1fb4\n",
    "- Visualization. Interpolation: http://bl.ocks.org/OlgaBelitskaya/aec204a67eec24cec8568258395ce62b"
   ]
  },
  {
   "cell_type": "markdown",
   "metadata": {},
   "source": [
    "### &#x1F4CB; &nbsp; Cocal.com Projects: \n",
    "https://cocalc.com/projects"
   ]
  },
  {
   "cell_type": "markdown",
   "metadata": {},
   "source": [
    "### &#x1F4CB; &nbsp; Microsoft AML Studio: \n",
    "https://studio.azureml.net/Home/"
   ]
  }
 ],
 "metadata": {
  "anaconda-cloud": {},
  "hide_input": false,
  "kernel_info": {
   "name": "python3"
  },
  "kernelspec": {
   "display_name": "Python 3",
   "language": "python",
   "name": "python3"
  },
  "language_info": {
   "codemirror_mode": {
    "name": "ipython",
    "version": 3
   },
   "file_extension": ".py",
   "mimetype": "text/x-python",
   "name": "python",
   "nbconvert_exporter": "python",
   "pygments_lexer": "ipython3",
   "version": "3.6.0"
  },
  "latex_envs": {
   "bibliofile": "biblio.bib",
   "cite_by": "apalike",
   "current_citInitial": 1,
   "eqLabelWithNumbers": true,
   "eqNumInitial": 0
  }
 },
 "nbformat": 4,
 "nbformat_minor": 2
}
