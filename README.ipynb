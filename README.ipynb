{
 "cells": [
  {
   "cell_type": "markdown",
   "metadata": {},
   "source": [
    "# &#x1F4CB; Page on http://bl.ocks.org/ :\n",
    "Olga Belitskaya’s Block http://bl.ocks.org/OlgaBelitskaya/bcc84d52267612a32b2a5bf79ae11b94"
   ]
  },
  {
   "cell_type": "markdown",
   "metadata": {},
   "source": [
    "# &#x1F3D9; List of projects:"
   ]
  },
  {
   "cell_type": "markdown",
   "metadata": {},
   "source": [
    "## Data Analyst Nanodegree (udacity.com)\n",
    "##### <span style=\"color:#338DD4\">click on the links to view</span>"
   ]
  },
  {
   "cell_type": "markdown",
   "metadata": {},
   "source": [
    "#### P0: Chopsticks! https://olgabelitskaya.github.io/Data_Analyst_ND_Project0.html"
   ]
  },
  {
   "cell_type": "markdown",
   "metadata": {},
   "source": [
    "#### P1: The Stroop Effect https://olgabelitskaya.github.io/Data_Analyst_ND_Project1.html"
   ]
  },
  {
   "cell_type": "markdown",
   "metadata": {},
   "source": [
    "#### P2: Titanic https://olgabelitskaya.github.io/Data_Analyst_ND_Project2.html"
   ]
  },
  {
   "cell_type": "markdown",
   "metadata": {},
   "source": [
    "#### P3 Extraction MongoDB: https://olgabelitskaya.github.io/Data_Analyst_ND_Project3_Dubai-AbuDhabi_Extraction_MongoDB.html"
   ]
  },
  {
   "cell_type": "markdown",
   "metadata": {},
   "source": [
    "#### P3 MongoDB: https://olgabelitskaya.github.io/Data_Analyst_ND_Project3_Dubai-AbuDhabi_MongoDB.html"
   ]
  },
  {
   "cell_type": "markdown",
   "metadata": {},
   "source": [
    "#### P3 Postcodes: https://olgabelitskaya.github.io/P3_postcodes.html"
   ]
  },
  {
   "cell_type": "markdown",
   "metadata": {},
   "source": [
    "#### P3 Additional SQL: https://olgabelitskaya.github.io/Data_Analyst_ND_Project3_Dubai-AbuDhabi_SQL.html"
   ]
  },
  {
   "cell_type": "markdown",
   "metadata": {},
   "source": [
    "#### P3 Additional R SQL MongoDB: https://olgabelitskaya.github.io/P3_R_SQL_MongoDB.html"
   ]
  },
  {
   "cell_type": "markdown",
   "metadata": {},
   "source": [
    "#### P3 Additional Moscow Region: https://olgabelitskaya.github.io/Data_Analyst_ND_Project3_MoscowRegion.html"
   ]
  },
  {
   "cell_type": "markdown",
   "metadata": {},
   "source": [
    "#### P4: Explore and Summarize Data  https://olgabelitskaya.github.io/P4Beta.html"
   ]
  },
  {
   "cell_type": "markdown",
   "metadata": {},
   "source": [
    "#### P5: Identify Fraud from Enron Email. Extraction https://olgabelitskaya.github.io/P5_Identify_Fraud_from_Enron_Email_Extraction.txt"
   ]
  },
  {
   "cell_type": "markdown",
   "metadata": {},
   "source": [
    "#### P5: Identify Fraud from Enron Email  https://olgabelitskaya.github.io/P5_Identify_Fraud_from_Enron_Email.html"
   ]
  },
  {
   "cell_type": "markdown",
   "metadata": {},
   "source": [
    "#### P5: Identify Fraud from Enron Email. Response Questions https://olgabelitskaya.github.io/P5_Enron_Submission_Free_Response_Questions.txt"
   ]
  },
  {
   "cell_type": "markdown",
   "metadata": {},
   "source": [
    "#### P6: Make Effective Data Visualization. Review  https://olgabelitskaya.github.io/P6_Readme.html"
   ]
  },
  {
   "cell_type": "markdown",
   "metadata": {},
   "source": [
    "#### P6: Make Effective Data Visualization  https://olgabelitskaya.github.io/P6_index_final.html"
   ]
  },
  {
   "cell_type": "markdown",
   "metadata": {},
   "source": [
    "#### P7: Design an A/B Test  https://olgabelitskaya.github.io/P7_Design_an_A_B_Test_Overview.html"
   ]
  },
  {
   "cell_type": "markdown",
   "metadata": {},
   "source": [
    "#### P7: Design an A/B Test. Extraction https://olgabelitskaya.github.io/P7_Design_an_A_B_Test_Extraction.pdf"
   ]
  },
  {
   "cell_type": "markdown",
   "metadata": {},
   "source": [
    "# &#x1F4DA; List of notebooks:\n",
    "##### <span style=\"color:#338DD4\">click on the links to load</span>"
   ]
  },
  {
   "cell_type": "markdown",
   "metadata": {},
   "source": [
    "#### Data_Analyst_ND_Project0.ipynb:  https://olgabelitskaya.github.io/Data_Analyst_ND_Project0.ipynb\n",
    "#### Data_Analyst_ND_Project1.ipynb:  https://olgabelitskaya.github.io/Data_Analyst_ND_Project1.ipynb\n",
    "#### Data_Analyst_ND_Project2.ipynb:  https://olgabelitskaya.github.io/Data_Analyst_ND_Project2.ipynb\n",
    "#### Data_Analyst_ND_Project3_Dubai-AbuDhabi_Extraction_MongoDB.ipynb:\n",
    "https://olgabelitskaya.github.io/Data_Analyst_ND_Project3_Dubai-AbuDhabi_Extraction_MongoDB.ipynb\n",
    "#### Data_Analyst_ND_Project3_Dubai-AbuDhabi_MongoDB.ipynb: \n",
    "https://olgabelitskaya.github.io/Data_Analyst_ND_Project3_Dubai-AbuDhabi_MongoDB.ipynb\n",
    "#### Data_Analyst_ND_Project3_Dubai-AbuDhabi_SQL.ipynb: \n",
    "https://olgabelitskaya.github.io/Data_Analyst_ND_Project3_Dubai-AbuDhabi_SQL.ipynb\n",
    "### Data_Analyst_ND_Project3_MoscowRegion.ipynb: \n",
    "https://olgabelitskaya.github.io/Data_Analyst_ND_Project3_MoscowRegion.ipynb\n",
    "#### P3_postcodes.ipynb: https://olgabelitskaya.github.io/P3_postcodes.ipynb\n",
    "#### P3_R_SQL_MongoDB.ipynb: https://olgabelitskaya.github.io/P3_R_SQL_MongoDB.ipynb\n",
    "#### P4.Rmd: https://olgabelitskaya.github.io/P4.Rmd\n",
    "#### P4Beta.Rmd: https://olgabelitskaya.github.io/P4Beta.Rmd\n",
    "#### P5_Identify_Fraud_from_Enron_Email.ipynb: https://olgabelitskaya.github.io/P5_Identify_Fraud_from_Enron_Email.ipynb\n",
    "#### P7_Design_an_A_B_Test_Overview.ipynb: https://olgabelitskaya.github.io/P7_Design_an_A_B_Test_Overview.ipynb"
   ]
  },
  {
   "cell_type": "markdown",
   "metadata": {
    "collapsed": true
   },
   "source": [
    "# &#x1F5C3; List of files:"
   ]
  },
  {
   "cell_type": "markdown",
   "metadata": {},
   "source": [
    "##### <span style=\"color:#338DD4\">click on the links to load"
   ]
  },
  {
   "cell_type": "markdown",
   "metadata": {
    "collapsed": true
   },
   "source": [
    "#### huge_cities.tsv: https://olgabelitskaya.github.io/huge_cities.tsv\n",
    "#### c_bank.xlsx: https://olgabelitskaya.github.io/c_bank.xlsx\n",
    "#### world_countries.json: https://olgabelitskaya.github.io/world_countries.json\n",
    "#### enron.csv: https://olgabelitskaya.github.io/enron.csv"
   ]
  },
  {
   "cell_type": "markdown",
   "metadata": {},
   "source": [
    "##### <span style=\"color:#338DD4\">click on the links to view</span>"
   ]
  },
  {
   "cell_type": "markdown",
   "metadata": {},
   "source": [
    "#### moscow_region.osm.json: https://github.com/OlgaBelitskaya/large-repo/blob/master/moscow_region.osm.json\n",
    "#### dubai_abu-dhabi.osm.json: https://github.com/OlgaBelitskaya/large-repo/blob/master/dubai_abu-dhabi.osm.json"
   ]
  }
 ],
 "metadata": {
  "anaconda-cloud": {},
  "hide_input": false,
  "kernelspec": {
   "display_name": "Python [conda root]",
   "language": "python",
   "name": "conda-root-py"
  },
  "language_info": {
   "codemirror_mode": {
    "name": "ipython",
    "version": 2
   },
   "file_extension": ".py",
   "mimetype": "text/x-python",
   "name": "python",
   "nbconvert_exporter": "python",
   "pygments_lexer": "ipython2",
   "version": "2.7.12"
  },
  "latex_envs": {
   "bibliofile": "biblio.bib",
   "cite_by": "apalike",
   "current_citInitial": 1,
   "eqLabelWithNumbers": true,
   "eqNumInitial": 0
  }
 },
 "nbformat": 4,
 "nbformat_minor": 2
}
