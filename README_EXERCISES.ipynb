{
 "cells": [
  {
   "cell_type": "markdown",
   "metadata": {},
   "source": [
    "# &#x1F3D9; &nbsp;  Various Exam Exercises &nbsp; &nbsp; &nbsp; &nbsp; &nbsp; &nbsp; &nbsp; &nbsp; &nbsp;<a href=\"https://olgabelitskaya.github.io/README.html\">&#x1F300; &nbsp; Home Page &nbsp; &nbsp;</a>"
   ]
  },
  {
   "cell_type": "markdown",
   "metadata": {},
   "source": [
    "## &#x1F4D1;  &nbsp; Pages Created for the Example of Student Websites\n",
    "### Maths\n",
    "<br/>WolframCloud\n",
    "#### [🌀 Example № 1](https://olgabelitskaya.github.io/mathTF1319W.html)\n",
    "<br/>Google Colaboratory\n",
    "#### [📓 Example № 1](https://colab.research.google.com/drive/1MT0iq9l_Hzeh6FTbicvLuVdvNbV6J82p) &nbsp; &nbsp; [📓 Example № 2](https://colab.research.google.com/drive/1VF7zOPBWvfhnfUXfOgSgLnz65MiC4ULh)\n",
    "<br/>SageMathCell<br/><br/>\n",
    "<a href=\"https://olgabelitskaya.github.io/mathTF1319_01.html\">🌀 № 1</a> &nbsp; &nbsp;\n",
    "<a href=\"https://olgabelitskaya.github.io/mathTF1319_02.html\">🌀 № 2</a> &nbsp; &nbsp;\n",
    "<a href=\"https://olgabelitskaya.github.io/mathTF1319_03.html\">🌀 № 3</a> &nbsp; &nbsp;\n",
    "<a href=\"https://olgabelitskaya.github.io/mathTF1319_04.html\">🌀 № 4</a> &nbsp; &nbsp;\n",
    "<a href=\"https://olgabelitskaya.github.io/mathTF1319_05.html\">🌀 № 5</a> &nbsp; &nbsp;\n",
    "<a href=\"https://olgabelitskaya.github.io/mathTF1319_09.html\">🌀 № 9</a> <br/><br/>\n",
    "<a href=\"https://olgabelitskaya.github.io/mathTF1319_11.html\">🌀 № 11</a> &nbsp; &nbsp;\n",
    "<a href=\"https://olgabelitskaya.github.io/mathTF1319_12.html\">🌀 № 12</a> &nbsp; &nbsp;\n",
    "<a href=\"https://olgabelitskaya.github.io/mathTF1319_13.html\">🌀 № 13</a> &nbsp; &nbsp;\n",
    "<a href=\"https://olgabelitskaya.github.io/mathTF1319_14.html\">🌀 № 14</a> &nbsp; &nbsp;\n",
    "<a href=\"https://olgabelitskaya.github.io/mathTF1319_15.html\">🌀 № 15</a> &nbsp; &nbsp;\n",
    "<a href=\"https://olgabelitskaya.github.io/mathTF1319_16.html\">🌀 № 16</a> &nbsp; &nbsp;\n",
    "<a href=\"https://olgabelitskaya.github.io/mathTF1319_17.html\">🌀 № 17</a> <br/><br/>\n",
    "### IT\n",
    "<br/>WolframCloud\n",
    "#### [🌀 Example № 1](https://olgabelitskaya.github.io/itTF1319W.html)\n",
    "<br/>Google Colaboratory\n",
    "#### [📓 Example № 1](https://colab.research.google.com/drive/1c1iJqa66AdXCwUru2aRfbAg4j-CGLVRe)\n",
    "<br/>SageMathCell<br/><br/>\n",
    "<a href=\"https://olgabelitskaya.github.io/itTF1319_01.html\">🌀 № 1</a> &nbsp; &nbsp;\n",
    "<a href=\"https://olgabelitskaya.github.io/itTF1319_02.html\">🌀 № 2</a> &nbsp; &nbsp;\n",
    "<a href=\"https://olgabelitskaya.github.io/itTF1319_03.html\">🌀 № 3</a> &nbsp; &nbsp;\n",
    "<a href=\"https://olgabelitskaya.github.io/itTF1319_04.html\">🌀 № 4</a> <br/><br/>"
   ]
  },
  {
   "cell_type": "markdown",
   "metadata": {},
   "source": [
    "<h2>&#x1F4D1; SageMathCell Practice & IT Studying Tasks</h2>\n",
    "\n",
    "<a href=\"https://olgabelitskaya.github.io/it_mini_campus/Task_1_1_Task_1_2.html\"> 🌀 &nbsp; Task 1.1. Task1.2</a> &nbsp; &nbsp; <a href=\"https://olgabelitskaya.github.io/it_mini_campus/Task_1_3_1.html\"> 🌀 &nbsp; Task 1.3.1</a> &nbsp; &nbsp; <a href=\"https://olgabelitskaya.github.io/it_mini_campus/Task_1_3_2.html\"> 🌀 &nbsp; Task 1.3.2</a> &nbsp; &nbsp;\n",
    "<a href=\"https://olgabelitskaya.github.io/it_mini_campus/Task_1_3_3.html\"> 🌀 &nbsp; Task 1.3.3</a> &nbsp; &nbsp;\n",
    "<a href=\"https://olgabelitskaya.github.io/it_mini_campus/Task_1_4_1.html\"> 🌀 &nbsp; Task 1.4.1</a> &nbsp; &nbsp;\n",
    "<a href=\"https://olgabelitskaya.github.io/it_mini_campus/Task_1_4_2.html\"> 🌀 &nbsp; Task 1.4.2</a> &nbsp; &nbsp; \n",
    "<a href=\"https://olgabelitskaya.github.io/it_mini_campus/Task_1_4_3.html\"> 🌀 &nbsp; Task 1.4.3</a><br/><br/>\n",
    "<a href=\"https://olgabelitskaya.github.io/it_mini_campus/Task_1_5.html\"> 🌀 &nbsp; Task 1.5</a> &nbsp; &nbsp;\n",
    "<a href=\"https://olgabelitskaya.github.io/it_mini_campus/Task_1_6.html\"> 🌀 &nbsp; Task 1.6</a> &nbsp; &nbsp;\n",
    "<a href=\"https://olgabelitskaya.github.io/it_mini_campus/Task_1_7.html\"> 🌀 &nbsp; Task 1.7</a> &nbsp; &nbsp;\n",
    "<a href=\"https://olgabelitskaya.github.io/it_mini_campus/Task_1_8.html\"> 🌀 &nbsp; Task 1.8</a> &nbsp; &nbsp;\n",
    "<a href=\"https://olgabelitskaya.github.io/it_mini_campus/Task_1_9_1.html\"> 🌀 &nbsp; Task 1.9.1</a> &nbsp; &nbsp;\n",
    "<a href=\"https://olgabelitskaya.github.io/it_mini_campus/Task_1_9_2.html\"> 🌀 &nbsp; Task 1.9.2</a> &nbsp; &nbsp;\n",
    "<a href=\"https://olgabelitskaya.github.io/it_mini_campus/Task_1_9_3.html\"> 🌀 &nbsp; Task 1.9.3</a> &nbsp; &nbsp;\n",
    "<a href=\"https://olgabelitskaya.github.io/it_mini_campus/Task_1_9_4.html\"> 🌀 &nbsp; Task 1.9.4</a><br/><br/>\n",
    "<a href=\"https://olgabelitskaya.github.io/it_mini_campus/Task_2_2.html\"> 🌀 &nbsp; Task 2.2</a> &nbsp; &nbsp;\n",
    "<a href=\"https://olgabelitskaya.github.io/it_mini_campus/Task_2_3.html\"> 🌀 &nbsp; Task 2.3</a> &nbsp; &nbsp;\n",
    "<a href=\"https://olgabelitskaya.github.io/it_mini_campus/Task_2_4.html\"> 🌀 &nbsp; Task 2.4</a> &nbsp; &nbsp;\n",
    "<a href=\"https://olgabelitskaya.github.io/it_mini_campus/Task_2_5_1.html\"> 🌀 &nbsp; Task 2.5.1</a> &nbsp; &nbsp;\n",
    "<a href=\"https://olgabelitskaya.github.io/it_mini_campus/Task_2_5_2.html\"> 🌀 &nbsp; Task 2.5.2</a> &nbsp; &nbsp;\n",
    "<a href=\"https://olgabelitskaya.github.io/it_mini_campus/Task_2_5_3.html\"> 🌀 &nbsp; Task 2.5.3</a> &nbsp; &nbsp;\n",
    "<a href=\"https://olgabelitskaya.github.io/it_mini_campus/Task_2_5_4.html\"> 🌀 &nbsp; Task 2.5.4</a> &nbsp; &nbsp;\n",
    "<a href=\"https://olgabelitskaya.github.io/it_mini_campus/Task_2_6.html\"> 🌀 &nbsp; Task 2.6</a> <br/><br/>\n",
    "<a href=\"https://olgabelitskaya.github.io/it_mini_campus/Task_3_1_1.html\"> 🌀 &nbsp; Task 3.3.1</a> &nbsp; &nbsp;\n",
    "<a href=\"https://olgabelitskaya.github.io/it_mini_campus/Task_3_1_2.html\"> 🌀 &nbsp; Task 3.3.2</a> &nbsp; &nbsp;"
   ]
  },
  {
   "cell_type": "markdown",
   "metadata": {},
   "source": [
    "## &#x1F4D1; &nbsp; School Exams \n",
    "### Math Exam Variants\n",
    "[Математика. Профильный уровень. 20 вариантов тестов. Тематическая рабочая тетрадь.](https://drive.google.com/file/d/0B8CJrELbJAyodmtvbV8xcEtZXzA/view)\n",
    "#### Variant 11:  &nbsp; [Notebook 📓](https://github.com/OlgaBelitskaya/math_20172018/blob/master/2018_Variant11.ipynb) [Web &#x1F310;](https://olgabelitskaya.github.io/2018_Variant11.html)\n",
    "#### Variant 12:  &nbsp; [Notebook 📓](https://github.com/OlgaBelitskaya/math_20172018/blob/master/2018_Variant12.ipynb) &nbsp; [Web &#x1F310;](https://olgabelitskaya.github.io/2018_Variant12.html)\n",
    "#### Variant 13:  &nbsp; [Notebook 📓](https://github.com/OlgaBelitskaya/math_20172018/blob/master/2018_Variant13.ipynb) &nbsp; [Web &#x1F310;](https://olgabelitskaya.github.io/2018_Variant13.html)\n",
    "#### Variant 14: &nbsp; [Notebook 📓](https://github.com/OlgaBelitskaya/math_20172018/blob/master/2018_Variant14.ipynb) &nbsp; [Web &#x1F310;](https://olgabelitskaya.github.io/2018_Variant14.html)\n",
    "#### Variant 15:  &nbsp; [Notebook 📓](https://github.com/OlgaBelitskaya/math_20172018/blob/master/2018_Variant15.ipynb) &nbsp; [Web &#x1F310;](https://olgabelitskaya.github.io/2018_Variant15.html)\n",
    "#### Variant 16:  &nbsp; [Notebook 📓](https://github.com/OlgaBelitskaya/math_20172018/blob/master/2018_Variant16.ipynb) &nbsp; [Web &#x1F310;](https://olgabelitskaya.github.io/2018_Variant16.html)\n",
    "#### Variant 17:  &nbsp; [Notebook 📓](https://github.com/OlgaBelitskaya/math_20172018/blob/master/2018_Variant17.ipynb) &nbsp; [Web &#x1F310;](https://olgabelitskaya.github.io/2018_Variant17.html)\n",
    "#### Variant 18:  &nbsp; [Notebook 📓](https://github.com/OlgaBelitskaya/math_20172018/blob/master/2018_Variant18.ipynb) &nbsp; [Web &#x1F310;](https://olgabelitskaya.github.io/2018_Variant18.html)\n",
    "#### Variant 19:  &nbsp; [Notebook 📓](https://github.com/OlgaBelitskaya/math_20172018/blob/master/2018_Variant19.ipynb) &nbsp; [Web &#x1F310;](https://olgabelitskaya.github.io/2018_Variant19.html)\n",
    "#### Variant 20:  &nbsp; [Notebook 📓](https://github.com/OlgaBelitskaya/math_20172018/blob/master/2018_Variant20.ipynb) &nbsp; [Web &#x1F310;](https://olgabelitskaya.github.io/2018_Variant20.html)\n",
    "### IT Exam Variants\n",
    "### 2017\n",
    "#### [ЕГЭ-2017. Информатика. 10 тренировочных вариантов. Ушаков Д.М](https://drive.google.com/file/d/0B6696ckkWj_zS2ptblAxNERHZzQ/view)\n",
    "#### Variant 1:  &nbsp; &nbsp; Python &nbsp; [Notebook 📓](https://github.com/OlgaBelitskaya/it_20172018/blob/master/2017_Variant1.ipynb) &nbsp; [Web &#x1F310;](https://olgabelitskaya.github.io/2017_Variant1.html) &nbsp; &nbsp; R &nbsp;  [Notebook 📓](https://github.com/OlgaBelitskaya/it_20172018/blob/master/2017_Variant1_R.ipynb) &nbsp; [Web &#x1F310;](https://olgabelitskaya.github.io/2017_Variant1_R.html)\n",
    "#### Variant 2:  &nbsp; &nbsp; Python &nbsp; [Notebook 📓](https://github.com/OlgaBelitskaya/it_20172018/blob/master/2017_Variant2.ipynb) &nbsp; [Web &#x1F310;](https://olgabelitskaya.github.io/2017_Variant2.html) &nbsp; &nbsp; R &nbsp;  [Notebook 📓](https://github.com/OlgaBelitskaya/it_20172018/blob/master/2017_Variant2_R.ipynb) &nbsp; [Web &#x1F310;](https://olgabelitskaya.github.io/2017_Variant2_R.html)\n",
    "#### Variant 3:  &nbsp; &nbsp; Python &nbsp; [Notebook 📓](https://github.com/OlgaBelitskaya/it_20172018/blob/master/2017_Variant3.ipynb) &nbsp; [Web &#x1F310;](https://olgabelitskaya.github.io/2017_Variant3.html) &nbsp; &nbsp; R &nbsp; [Notebook 📓](https://github.com/OlgaBelitskaya/it_20172018/blob/master/2017_Variant3_R.ipynb) &nbsp; [Web &#x1F310;](https://olgabelitskaya.github.io/2017_Variant3_R.html)\n",
    "#### Variant 4:  &nbsp; &nbsp; Python &nbsp; [Notebook 📓](https://github.com/OlgaBelitskaya/it_20172018/blob/master/2017_Variant4.ipynb) &nbsp; [Web &#x1F310;](https://olgabelitskaya.github.io/2017_Variant4.html) &nbsp; &nbsp; R &nbsp;  [Notebook 📓](https://github.com/OlgaBelitskaya/it_20172018/blob/master/2017_Variant4_R.ipynb) &nbsp; [Web &#x1F310;](https://olgabelitskaya.github.io/2017_Variant4_R.html)\n",
    "#### Variant 5:  &nbsp; &nbsp; Python &nbsp; [Notebook 📓](https://github.com/OlgaBelitskaya/it_20172018/blob/master/2017_Variant5.ipynb) &nbsp; [Web &#x1F310;](https://olgabelitskaya.github.io/2017_Variant5.html) &nbsp; &nbsp; R &nbsp;  [Notebook 📓](https://github.com/OlgaBelitskaya/it_20172018/blob/master/2017_Variant5_R.ipynb) &nbsp; [Web &#x1F310;](https://olgabelitskaya.github.io/2017_Variant5_R.html)\n",
    "#### Variant 6:  &nbsp; &nbsp; Python &nbsp; [Notebook 📓](https://github.com/OlgaBelitskaya/it_20172018/blob/master/2017_Variant6.ipynb) &nbsp; [Web &#x1F310;](https://olgabelitskaya.github.io/2017_Variant6.html) &nbsp; &nbsp; R &nbsp;  [Notebook 📓](https://github.com/OlgaBelitskaya/it_20172018/blob/master/2017_Variant6_R.ipynb) &nbsp; [Web &#x1F310;](https://olgabelitskaya.github.io/2017_Variant6_R.html)\n",
    "#### Variant 7:  &nbsp; &nbsp; Python &nbsp; [Notebook 📓](https://github.com/OlgaBelitskaya/it_20172018/blob/master/2017_Variant7.ipynb) &nbsp; [Web &#x1F310;](https://olgabelitskaya.github.io/2017_Variant7.html) &nbsp; &nbsp; R &nbsp; [Notebook 📓](https://github.com/OlgaBelitskaya/it_20172018/blob/master/2017_Variant7_R.ipynb) &nbsp; [Web &#x1F310;](https://olgabelitskaya.github.io/2017_Variant7_R.html)\n",
    "#### Variant 8:  &nbsp; &nbsp; Python &nbsp; [Notebook 📓](https://github.com/OlgaBelitskaya/it_20172018/blob/master/2017_Variant8.ipynb) &nbsp; [Web &#x1F310;](https://olgabelitskaya.github.io/2017_Variant8.html) &nbsp; &nbsp; R &nbsp;  [Notebook 📓](https://github.com/OlgaBelitskaya/it_20172018/blob/master/2017_Variant8_R.ipynb) &nbsp; [Web &#x1F310;](https://olgabelitskaya.github.io/2017_Variant8_R.html)\n",
    "#### Variant 9:  &nbsp; &nbsp; Python &nbsp; [Notebook 📓](https://github.com/OlgaBelitskaya/it_20172018/blob/master/2017_Variant9.ipynb) &nbsp; [Web &#x1F310;](https://olgabelitskaya.github.io/2017_Variant9.html) &nbsp; &nbsp; R &nbsp;  [Notebook 📓](https://github.com/OlgaBelitskaya/it_20172018/blob/master/2017_Variant9_R.ipynb) &nbsp; [Web &#x1F310;](https://olgabelitskaya.github.io/2017_Variant9_R.html)\n",
    "#### Variant 10:  &nbsp; &nbsp; Python &nbsp; [Notebook 📓](https://github.com/OlgaBelitskaya/it_20172018/blob/master/2017_Variant10.ipynb) &nbsp; [Web &#x1F310;](https://olgabelitskaya.github.io/2017_Variant10.html) &nbsp; &nbsp; R &nbsp; [Notebook 📓](https://github.com/OlgaBelitskaya/it_20172018/blob/master/2017_Variant10_R.ipynb) &nbsp; [Web &#x1F310;](https://olgabelitskaya.github.io/2017_Variant10_R.html)\n",
    "#### Д. В. Богданов:  &nbsp; &nbsp; Variant 1702:  &nbsp; [Notebook 📓](https://github.com/OlgaBelitskaya/it_20172018/blob/master/2017_Variant1702.ipynb) &nbsp; [Web &#x1F310;](https://olgabelitskaya.github.io/2017_Variant1702.html)\n",
    "### 2016\n",
    "#### СтатГрад: &nbsp; &nbsp; Variant ИН 10403:  &nbsp; [Notebook 📓](https://github.com/OlgaBelitskaya/it_20172018/blob/master/statgrad_in_10403_solutions.ipynb) &nbsp; [Web &#x1F310;](https://olgabelitskaya.github.io/statgrad_in_10403_solutions.html)"
   ]
  },
  {
   "cell_type": "code",
   "execution_count": 1,
   "metadata": {},
   "outputs": [
    {
     "data": {
      "text/html": [
       "<style>\n",
       "@import url('https://fonts.googleapis.com/css?family=Orbitron');\n",
       "@import url('https://fonts.googleapis.com/css?family=Roboto');\n",
       "body {background-color: #CBE5FA;}\n",
       "a {color: slategray; font-family: Roboto;}\n",
       "h1, h2 {color: #3883c2; font-family: Orbitron; text-shadow: 4px 4px 4px #aaa;}\n",
       "h3 {color: #346187; font-family: Orbitron; text-shadow: 4px 4px 4px #aaa;}\n",
       "h4 {color: #slategray; font-family: Roboto;}\n",
       "div.input_prompt {color: white;} \n",
       "div.text_cell_render {color: slategray}\n",
       "span {text-shadow: 4px 4px 4px #ccc;}   \n",
       "</style>"
      ],
      "text/plain": [
       "<IPython.core.display.HTML object>"
      ]
     },
     "metadata": {},
     "output_type": "display_data"
    }
   ],
   "source": [
    "%%html\n",
    "<style>\n",
    "@import url('https://fonts.googleapis.com/css?family=Orbitron');\n",
    "@import url('https://fonts.googleapis.com/css?family=Roboto');\n",
    "body {background-color: #CBE5FA;}\n",
    "a {color: slategray; font-family: Roboto;}\n",
    "h1, h2 {color: #3883c2; font-family: Orbitron; text-shadow: 4px 4px 4px #aaa;}\n",
    "h3 {color: #346187; font-family: Orbitron; text-shadow: 4px 4px 4px #aaa;}\n",
    "h4 {color: #slategray; font-family: Roboto;}\n",
    "div.input_prompt {color: white;} \n",
    "div.text_cell_render {color: slategray}\n",
    "span {text-shadow: 4px 4px 4px #ccc;}   \n",
    "</style>"
   ]
  }
 ],
 "metadata": {
  "kernelspec": {
   "display_name": "SageMath 9.0",
   "language": "sage",
   "name": "sagemath"
  },
  "language_info": {
   "codemirror_mode": {
    "name": "ipython",
    "version": 3
   },
   "file_extension": ".py",
   "mimetype": "text/x-python",
   "name": "python",
   "nbconvert_exporter": "python",
   "pygments_lexer": "ipython3",
   "version": "3.7.3"
  }
 },
 "nbformat": 4,
 "nbformat_minor": 2
}
