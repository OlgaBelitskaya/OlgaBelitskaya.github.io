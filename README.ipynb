{
 "cells": [
  {
   "cell_type": "markdown",
   "metadata": {
    "outputExpanded": false
   },
   "source": [
    "# &#x1F3D9; &nbsp; List of Courses and Programs: \n",
    "https://olgabelitskaya.github.io/reflections/README.html"
   ]
  },
  {
   "cell_type": "markdown",
   "metadata": {
    "outputExpanded": false
   },
   "source": [
    "### &#x1F4CB; &nbsp; GitHub gists: https://gist.github.com/OlgaBelitskaya"
   ]
  },
  {
   "cell_type": "markdown",
   "metadata": {
    "outputExpanded": false
   },
   "source": [
    "### &#x1F4CB; &nbsp; Pages on http://bl.ocks.org/ :\n",
    "Olga Belitskaya’s Block \n",
    "- Visualization. Map I: http://bl.ocks.org/OlgaBelitskaya/bcc84d52267612a32b2a5bf79ae11b94\n",
    "- Visualization. Map II: http://bl.ocks.org/OlgaBelitskaya/de4685ce8630c2ea00229750097e1fb4\n",
    "- Visualization. Interpolation: http://bl.ocks.org/OlgaBelitskaya/aec204a67eec24cec8568258395ce62b"
   ]
  },
  {
   "cell_type": "markdown",
   "metadata": {
    "outputExpanded": false
   },
   "source": [
    "# &#x1F3D9; &nbsp; List of Projects:"
   ]
  },
  {
   "cell_type": "markdown",
   "metadata": {
    "outputExpanded": false
   },
   "source": [
    "### Data Analyst Nanodegree (udacity.com)  https://olgabelitskaya.github.io/certificate.pdf\n",
    "##### <span style=\"color:#338DD4\">click on the links to view</span>"
   ]
  },
  {
   "cell_type": "markdown",
   "metadata": {
    "outputExpanded": false
   },
   "source": [
    "#### P0: Chopsticks! https://olgabelitskaya.github.io/Data_Analyst_ND_Project0.html\n",
    "#### P1: The Stroop Effect https://olgabelitskaya.github.io/Data_Analyst_ND_Project1.html\n",
    "#### P2: Titanic https://olgabelitskaya.github.io/Data_Analyst_ND_Project2.html\n",
    "#### P3 Extraction MongoDB: https://olgabelitskaya.github.io/Data_Analyst_ND_Project3_Dubai-AbuDhabi_Extraction_MongoDB.html\n",
    "#### P3 MongoDB: https://olgabelitskaya.github.io/Data_Analyst_ND_Project3_Dubai-AbuDhabi_MongoDB.html\n",
    "#### P3 Postcodes: https://olgabelitskaya.github.io/P3_postcodes.html\n",
    "#### P3 Additional SQL: https://olgabelitskaya.github.io/Data_Analyst_ND_Project3_Dubai-AbuDhabi_SQL.html\n",
    "#### P3 Additional R SQL MongoDB: https://olgabelitskaya.github.io/P3_R_SQL_MongoDB.html\n",
    "#### P3 Additional Moscow Region: https://olgabelitskaya.github.io/Data_Analyst_ND_Project3_MoscowRegion.html\n",
    "#### P4: Explore and Summarize Data  https://olgabelitskaya.github.io/P4Beta.html\n",
    "#### P5: Identify Fraud from Enron Email. Extraction https://olgabelitskaya.github.io/P5_Identify_Fraud_from_Enron_Email_Extraction.txt\n",
    "#### P5: Identify Fraud from Enron Email  https://olgabelitskaya.github.io/P5_Identify_Fraud_from_Enron_Email.html\n",
    "#### P5: Identify Fraud from Enron Email. Response Questions https://olgabelitskaya.github.io/P5_Enron_Submission_Free_Response_Questions.txt\n",
    "#### P6: Make Effective Data Visualization. Review  https://olgabelitskaya.github.io/P6_Readme.html\n",
    "#### P6: Make Effective Data Visualization  https://olgabelitskaya.github.io/P6_index_final.html\n",
    "#### P7: Design an A/B Test  https://olgabelitskaya.github.io/P7_Design_an_A_B_Test_Overview.html\n",
    "#### P7: Design an A/B Test. Extraction https://olgabelitskaya.github.io/P7_Design_an_A_B_Test_Extraction.pdf"
   ]
  },
  {
   "cell_type": "markdown",
   "metadata": {},
   "source": [
    "### Machine Learning Engineer Nanodegree (udacity.com) \n",
    "##### <span style=\"color:#338DD4\">click on the links to view</span>"
   ]
  },
  {
   "cell_type": "markdown",
   "metadata": {},
   "source": [
    "#### P0: Titanic Survival Exploration https://olgabelitskaya.github.io/MLE_ND_P0_V0.html\n",
    "#### P1: Predicting Boston Housing Prices https://olgabelitskaya.github.io/MLE_ND_P1_V0.html\n",
    "#### P2: Finding Donors for CharityML https://olgabelitskaya.github.io/MLE_ND_P2_V0.html"
   ]
  },
  {
   "cell_type": "markdown",
   "metadata": {
    "outputExpanded": false
   },
   "source": [
    "### &#x1F4CB; &nbsp; Interview and Technical Interview Practice. Data Analyst. (constantly upgradable):\n",
    "Udacity_Interview_Practice.ipynb \n",
    "https://gist.github.com/OlgaBelitskaya/1ddb287592832cf581fc122d6bc2732e\n",
    "\n",
    "Udacity_Technical_Interview_Practice_Lessons.ipynb  https://gist.github.com/OlgaBelitskaya/a6cb19e1f3a041e6f6a56ccf58b4701c\n",
    "\n",
    "Udacity_Technical_Interview_Practice_Project.ipynb\n",
    "https://gist.github.com/OlgaBelitskaya/849e983dd6e90943d5760be4c4986501\n",
    "\n",
    "https://github.com/OlgaBelitskaya/resume-builder/blob/master/Exercises_Interview_Practice_Py.ipynb\n",
    "\n",
    "https://github.com/OlgaBelitskaya/resume-builder/blob/master/Exercises_Technical_Interview_Graph.ipynb\n",
    "\n",
    "https://github.com/OlgaBelitskaya/resume-builder/blob/master/Exercises_Technical_Interview_Map1.ipynb\n",
    "\n",
    "https://github.com/OlgaBelitskaya/resume-builder/blob/master/Exercises_Technical_Interview_Map2.ipynb\n",
    "\n",
    "https://github.com/OlgaBelitskaya/resume-builder/blob/master/Exercises_Technical_Interview_MathsStats.ipynb\n",
    "\n",
    "https://github.com/OlgaBelitskaya/resume-builder/blob/master/Exercises_Technical_Interview_Sort.ipynb"
   ]
  },
  {
   "cell_type": "markdown",
   "metadata": {
    "outputExpanded": false
   },
   "source": [
    "# &#x1F4DA; &nbsp; List of Notebooks:\n",
    "##### <span style=\"color:#338DD4\">click on the links to load</span>"
   ]
  },
  {
   "cell_type": "markdown",
   "metadata": {
    "outputExpanded": false
   },
   "source": [
    "#### Data_Analyst_ND_Project0.ipynb:  https://olgabelitskaya.github.io/Data_Analyst_ND_Project0.ipynb\n",
    "#### Data_Analyst_ND_Project1.ipynb:  https://olgabelitskaya.github.io/Data_Analyst_ND_Project1.ipynb\n",
    "#### Data_Analyst_ND_Project2.ipynb:  https://olgabelitskaya.github.io/Data_Analyst_ND_Project2.ipynb\n",
    "#### Data_Analyst_ND_Project3_Dubai-AbuDhabi_Extraction_MongoDB.ipynb:\n",
    "https://olgabelitskaya.github.io/Data_Analyst_ND_Project3_Dubai-AbuDhabi_Extraction_MongoDB.ipynb\n",
    "#### Data_Analyst_ND_Project3_Dubai-AbuDhabi_MongoDB.ipynb: \n",
    "https://olgabelitskaya.github.io/Data_Analyst_ND_Project3_Dubai-AbuDhabi_MongoDB.ipynb\n",
    "#### Data_Analyst_ND_Project3_Dubai-AbuDhabi_SQL.ipynb: \n",
    "https://olgabelitskaya.github.io/Data_Analyst_ND_Project3_Dubai-AbuDhabi_SQL.ipynb\n",
    "#### Data_Analyst_ND_Project3_MoscowRegion.ipynb: \n",
    "https://olgabelitskaya.github.io/Data_Analyst_ND_Project3_MoscowRegion.ipynb\n",
    "#### P3_postcodes.ipynb: https://olgabelitskaya.github.io/P3_postcodes.ipynb\n",
    "#### P3_R_SQL_MongoDB.ipynb: https://olgabelitskaya.github.io/P3_R_SQL_MongoDB.ipynb\n",
    "#### P4.Rmd: https://olgabelitskaya.github.io/P4.Rmd\n",
    "#### P4Beta.Rmd: https://olgabelitskaya.github.io/P4Beta.Rmd\n",
    "#### P5_Identify_Fraud_from_Enron_Email.ipynb: https://olgabelitskaya.github.io/P5_Identify_Fraud_from_Enron_Email.ipynb\n",
    "#### P7_Design_an_A_B_Test_Overview.ipynb: https://olgabelitskaya.github.io/P7_Design_an_A_B_Test_Overview.ipynb"
   ]
  },
  {
   "cell_type": "markdown",
   "metadata": {},
   "source": [
    "### &#x1F4CB; &nbsp; SageMath Online Files: \n",
    "https://cloud.sagemath.com/projects/a64be705-e96c-478c-a25d-bcc323134ef8/files/"
   ]
  },
  {
   "cell_type": "markdown",
   "metadata": {
    "outputExpanded": false
   },
   "source": [
    "# &#x1F5C3; &nbsp; List of Files:"
   ]
  },
  {
   "cell_type": "markdown",
   "metadata": {
    "outputExpanded": false
   },
   "source": [
    "##### <span style=\"color:#338DD4\">click on the links to load"
   ]
  },
  {
   "cell_type": "markdown",
   "metadata": {
    "outputExpanded": false
   },
   "source": [
    "#### huge_cities.tsv: https://olgabelitskaya.github.io/huge_cities.tsv\n",
    "#### c_bank.xlsx: https://olgabelitskaya.github.io/c_bank.xlsx\n",
    "#### world_countries.json: https://olgabelitskaya.github.io/world_countries.json\n",
    "#### enron.csv: https://olgabelitskaya.github.io/enron.csv"
   ]
  },
  {
   "cell_type": "markdown",
   "metadata": {
    "outputExpanded": false
   },
   "source": [
    "##### <span style=\"color:#338DD4\">click on the links to view</span>"
   ]
  },
  {
   "cell_type": "markdown",
   "metadata": {
    "outputExpanded": false
   },
   "source": [
    "#### moscow_region.osm.json: https://github.com/OlgaBelitskaya/large-repo/blob/master/moscow_region.osm.json\n",
    "#### dubai_abu-dhabi.osm.json: https://github.com/OlgaBelitskaya/large-repo/blob/master/dubai_abu-dhabi.osm.json"
   ]
  }
 ],
 "metadata": {
  "anaconda-cloud": {},
  "hide_input": false,
  "kernel_info": {
   "name": "python3"
  },
  "kernelspec": {
   "display_name": "Python [default]",
   "language": "python",
   "name": "python3"
  },
  "language_info": {
   "codemirror_mode": {
    "name": "ipython",
    "version": 3
   },
   "file_extension": ".py",
   "mimetype": "text/x-python",
   "name": "python",
   "nbconvert_exporter": "python",
   "pygments_lexer": "ipython3",
   "version": "3.5.2"
  },
  "latex_envs": {
   "bibliofile": "biblio.bib",
   "cite_by": "apalike",
   "current_citInitial": 1,
   "eqLabelWithNumbers": true,
   "eqNumInitial": 0
  }
 },
 "nbformat": 4,
 "nbformat_minor": 2
}
