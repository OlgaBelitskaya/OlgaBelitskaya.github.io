{
 "cells": [
  {
   "cell_type": "markdown",
   "metadata": {
    "outputExpanded": false
   },
   "source": [
    "# &#x1F3D9; &nbsp;  Certificated Projects"
   ]
  },
  {
   "cell_type": "markdown",
   "metadata": {
    "outputExpanded": false
   },
   "source": [
    "## &#x1F4D1; &nbsp; Data Analyst Nanodegree \n",
    "### [Built with Udacity](https://www.udacity.com) &nbsp; [Certificate](https://olgabelitskaya.github.io/certificate.pdf)\n",
    "\n",
    "### &#x1F310; &nbsp; [click to view the github repository](https://github.com/OlgaBelitskaya/data-analyst-nd002)\n",
    "\n",
    "#### [P0: Chopsticks!](https://olgabelitskaya.github.io/Data_Analyst_ND_Project0.html) &nbsp;  [P1: The Stroop Effect](https://olgabelitskaya.github.io/Data_Analyst_ND_Project1.html) &nbsp;  [P2: Titanic](https://olgabelitskaya.github.io/Data_Analyst_ND_Project2.html)  &nbsp;  [P3: Extraction MongoDB](https://olgabelitskaya.github.io/Data_Analyst_ND_Project3_Dubai-AbuDhabi_Extraction_MongoDB.html) &nbsp;  [P3: MongoDB](https://olgabelitskaya.github.io/Data_Analyst_ND_Project3_Dubai-AbuDhabi_MongoDB.html) &nbsp; [P3: Postcodes](https://olgabelitskaya.github.io/P3_postcodes.html) \n",
    "#### [P3: Additional SQL](https://olgabelitskaya.github.io/Data_Analyst_ND_Project3_Dubai-AbuDhabi_SQL.html) &nbsp;  [P3: Additional R SQL MongoDB](https://olgabelitskaya.github.io/P3_R_SQL_MongoDB.html) &nbsp; [P3: Additional Moscow Region](https://olgabelitskaya.github.io/Data_Analyst_ND_Project3_MoscowRegion.html) &nbsp; [P4: Explore and Summarize Data](https://olgabelitskaya.github.io/P4Beta.html)\n",
    "#### [P5: Identify Fraud from Enron Email. Extraction](https://olgabelitskaya.github.io/P5_Identify_Fraud_from_Enron_Email_Extraction.txt) &nbsp;  [P5: Identify Fraud from Enron Email](https://olgabelitskaya.github.io/P5_Identify_Fraud_from_Enron_Email.html) &nbsp; [P5: Identify Fraud from Enron Email. Response Questions](https://olgabelitskaya.github.io/P5_Enron_Submission_Free_Response_Questions.txt)\n",
    "#### [P6: Make Effective Data Visualization. Review](https://olgabelitskaya.github.io/P6_Readme.html) &nbsp;  [P6: Make Effective Data Visualization](https://olgabelitskaya.github.io/P6_index_final.html)\n",
    "#### [P7: Design an A/B Test](https://olgabelitskaya.github.io/P7_Design_an_A_B_Test_Overview.html) &nbsp;  [P7: Design an A/B Test. Extraction](https://olgabelitskaya.github.io/P7_Design_an_A_B_Test_Extraction.pdf)"
   ]
  },
  {
   "cell_type": "markdown",
   "metadata": {},
   "source": [
    "## &#x1F4D1; &nbsp; Machine Learning Engineer Nanodegree\n",
    "### [Built with Udacity](https://www.udacity.com) &nbsp; [Certificate](https://olgabelitskaya.github.io/certificate_nd009.pdf)\n",
    "\n",
    "### &#x1F310; &nbsp; [click to view the github repository](https://github.com/OlgaBelitskaya/machine_learning_engineer_nd009)\n",
    "\n",
    "### Program Projects\n",
    "#### [P0: Titanic Survival Exploration](https://olgabelitskaya.github.io/MLE_ND_P0_V0.html) &nbsp;  [P1: Predicting Boston Housing Prices](https://olgabelitskaya.github.io/MLE_ND_P1_V0.html)  \n",
    "#### [P2: Finding Donors for CharityML](https://olgabelitskaya.github.io/MLE_ND_P2_V0.html) &nbsp; [P3: Creating Customer Segments](https://olgabelitskaya.github.io/MLE_ND_P3_V0.html)\n",
    "#### P4: Train a Smartcab to Drive &nbsp; [Version 0](https://olgabelitskaya.github.io/MLE_ND_P4_V0.html) &nbsp; [Version 1](https://olgabelitskaya.github.io/MLE_ND_P4_V1.html)  &nbsp;  P5: Build a Digit Recognition Program &nbsp; [Step 1](https://olgabelitskaya.github.io/MLE_ND_P5_V0_S1.html) &nbsp; [Step 2](https://olgabelitskaya.github.io/MLE_ND_P5_V0_S2.html) &nbsp; [Step 3](https://olgabelitskaya.github.io/MLE_ND_P5_V0_S3.html)\n",
    "#### P6: Capstone Project &nbsp; [Version 0](https://olgabelitskaya.github.io/MLE_ND_P6_V0.html) &nbsp; [Version 1](https://olgabelitskaya.github.io/MLE_ND_P6_V1.html) &nbsp; [Proposal](https://olgabelitskaya.github.io/MLE_ND_P6_PP.pdf) &nbsp; [Report](https://olgabelitskaya.github.io/MLE_ND_P6_PR.pdf) \n",
    "#### [P7: Building a Student Intervention System](https://olgabelitskaya.github.io/MLE_ND_P7_V0.html) &nbsp; [P8: Analyzing the NYC Subway Dataset](https://olgabelitskaya.github.io/MLE_ND_P8_V0.html)\n",
    "#### P9: Image Classification &nbsp; [Version 0](https://olgabelitskaya.github.io/MLE_ND_P9_V0.html) &nbsp; [Version 3](https://olgabelitskaya.github.io/MLE_ND_P9_V3.html)  &nbsp;  [P10: Write an Algorithm for a Dog Identification App](https://olgabelitskaya.github.io/MLE_ND_P10_V0.html)\n",
    "\n",
    "### Practice Projects\n",
    "#### [PP0](https://olgabelitskaya.github.io/MLE_ND_PP0.html) &nbsp; [PP1](https://olgabelitskaya.github.io/MLE_ND_PP1.html) &nbsp; [PP2](https://olgabelitskaya.github.io/MLE_ND_PP2.html) &nbsp; [PP3](https://olgabelitskaya.github.io/MLE_ND_PP3.html)\n",
    "#### PP4: [Part 1](https://olgabelitskaya.github.io/MLE_ND_PP4_1.html) &nbsp; [Part 2](https://olgabelitskaya.github.io/MLE_ND_PP4_2.html) &nbsp; [Part 3](https://olgabelitskaya.github.io/MLE_ND_PP4_3.html) &nbsp; [Part 4](https://olgabelitskaya.github.io/MLE_ND_PP4_4.html) &nbsp; [Part 5](https://olgabelitskaya.github.io/MLE_ND_PP4_5.html) &nbsp; [Part 6](https://olgabelitskaya.github.io/MLE_ND_PP4_6.html)\n",
    "\n",
    "### Interactive Reports with SageMathCell\n",
    "#### [P0: Titanic Survival Exploration](https://olgabelitskaya.github.io/MLE_ND_P0_SMC.html) &nbsp;  [P1: Predicting Boston Housing Prices](https://olgabelitskaya.github.io/MLE_ND_P1_SMC.html) &nbsp;  [P2: Finding Donors for CharityML](https://olgabelitskaya.github.io/MLE_ND_P2_SMC.html)\n",
    "#### [P3: Creating Customer Segments](https://olgabelitskaya.github.io/MLE_ND_P3_SMC.html)\n",
    "#### [P7: Building a Student Intervention System](https://olgabelitskaya.github.io/MLE_ND_P7_SMC.html) &nbsp;  [P8: Analyzing the NYC Subway Dataset](https://olgabelitskaya.github.io/MLE_ND_P8_SMC.html)"
   ]
  },
  {
   "cell_type": "markdown",
   "metadata": {},
   "source": [
    "# &#x1F3D9; &nbsp;  Under Construction Projects\n",
    "\n",
    "## &#x1F4D1; &nbsp; Deep Learning Nanodegree \n",
    "### [Built with Udacity](https://www.udacity.com) \n",
    "\n",
    "### &#x1F310; &nbsp; [click to view the github repository](https://github.com/OlgaBelitskaya/deep_learning_nanodegree_nd101)\n",
    "\n",
    "#### [P1: Your first neural network](https://olgabelitskaya.github.io/DL_ND_P1_V0.html)  &nbsp;  [P2:  Image Classification](https://olgabelitskaya.github.io/DL_ND_P2_V0.html) &nbsp;  [P3  Generate TV scripts](https://olgabelitskaya.github.io/DL_ND_P3_V0.html) \n",
    "#### [P4:  Translate a Language](https://olgabelitskaya.github.io/DL_ND_P4_V0.html) &nbsp;  [P5: Generate Faces ](https://olgabelitskaya.github.io/DL_ND_P5_V0.html)"
   ]
  },
  {
   "cell_type": "markdown",
   "metadata": {},
   "source": [
    "# &#x1F3D9; &nbsp;  My Own Experimental Projects\n",
    "\n",
    "## &#x1F4D1; &nbsp; Deep Learning Practice\n",
    "\n",
    "### &#x1F310; &nbsp; [click to view the github repository](https://github.com/OlgaBelitskaya/deep_learning_projects)\n",
    "\n",
    "#### P0: Image Classification &nbsp; [Project &#x1F310;](https://olgabelitskaya.github.io/DL_PP0.html)  &nbsp; [Solutions &#x1F310;](https://olgabelitskaya.github.io/DL_PP0_Solutions.html)\n",
    "Colaboratory Notebooks  &nbsp; [flower_classification.ipynb &#x1F4D6; ](https://drive.google.com/open?id=1H2ArWH_1kYfkIoCbxleX-aHAozRVBAdB)\n",
    "#### P1: Neural Networks for Regression &nbsp; [Project &#x1F310;](https://olgabelitskaya.github.io/DL_PP1.html) &nbsp; [Solutions &#x1F310;](https://olgabelitskaya.github.io/DL_PP1_Solutions.html)\n",
    "Colaboratory Notebooks  &nbsp; [boston_regression.ipynb &#x1F4D6; ](https://drive.google.com/open?id=1atPu92jNJ-qBsFpbOiMojHGXCu6gJWYW)\n",
    "#### P2: Multi-Label Classification &nbsp; [Project &#x1F310;](https://olgabelitskaya.github.io/DL_PP2.html) &nbsp; [Solutions &#x1F310;](https://olgabelitskaya.github.io/DL_PP2_Solutions.html) &nbsp; [Solutions Variant 2 &#x1F310;](https://olgabelitskaya.github.io/DL_PP2_Solutions_V2.html) &nbsp; [Addition &#x1F310;](https://olgabelitskaya.github.io/DL_PP2_Additional.html)\n",
    "Colaboratory Notebooks  &nbsp; [letter_recognition.ipynb &#x1F4D6; ](https://drive.google.com/open?id=1Z9Fz0OOi6bpWvH-H2OhExC9CkGPWBYZz) &nbsp; [letter_generator.ipynb &#x1F4D6; ](https://drive.google.com/open?id=19B40eERSKfVO5zsizehxPOLdhLs5YcUT)\n",
    "#### P3: Parts of Speech &nbsp; \n",
    "#### P4: Style Recognition &nbsp; [Project &#x1F310;](https://olgabelitskaya.github.io/DL_PP4.html) &nbsp;  [Solutions &#x1F310;](https://olgabelitskaya.github.io/DL_PP4_Solutions.html)\n",
    "Colaboratory Notebooks  &nbsp; [style_recognition.ipynb &#x1F4D6; ](https://drive.google.com/open?id=1r5yRD-3tQwN6lSql_VRoVuwQ8DaY5zUt)\n",
    "#### P5: Decor Colorization &nbsp; [Solutions. Part 1 &#x1F310;](https://olgabelitskaya.github.io/DL_PP5_Solutions_Part1.html) &nbsp; [Solutions. Part 2 &#x1F310;](https://olgabelitskaya.github.io/DL_PP5_Solutions_Part2.html) &nbsp;  [Addition &#x1F310;](https://olgabelitskaya.github.io/DL_PP5_Additional.html) &nbsp; [Addition Variant 2 &#x1F310;](https://olgabelitskaya.github.io/DL_PP5_Additional_V2.html) \n",
    "Colaboratory Notebooks &nbsp; [decor_classification.ipynb &#x1F4D6; ](https://drive.google.com/open?id=1Tt3qZePsf2P6kNNao-hQ58DlG71Abj5a) &nbsp; [decor_colorization.ipynb &#x1F4D6; ](https://drive.google.com/open?id=1Is0ll753U0dlR2RhQVwelaegRFhkvoxw) &nbsp; [style_transfer.ipynb &#x1F4D6; ](https://drive.google.com/open?id=1svW40BBscfSLD7Je99TyctBeRWIOYHKa)"
   ]
  },
  {
   "cell_type": "markdown",
   "metadata": {},
   "source": [
    "# &#x1F3D9; &nbsp;  Kaggle Activity\n",
    "\n",
    "## &#x1F4D1; &nbsp;  Kernels\n",
    "- Digit Recognition Models &nbsp; [Kaggle Jupyter Notebook &#x1F4D6;](https://www.kaggle.com/olgabelitskaya/digit-recognition-models-2) &nbsp; [Web Page &#x1F310;](https://olgabelitskaya.github.io/kaggle_digits.html)\n",
    " \n",
    "- Titanic Survival Exploration &nbsp; [Kaggle Jupyter Notebook &#x1F4D6;](https://www.kaggle.com/olgabelitskaya/titanic-survival-exploration) &nbsp; [Web Page &#x1F310;](https://olgabelitskaya.github.io/kaggle_titanic.html)\n",
    "\n",
    "- Sberbank Russian Housing Market &nbsp; [Kaggle Jupyter Notebook &#x1F4D6;](https://www.kaggle.com/olgabelitskaya/sberbank-russian-housing-market) &nbsp; [Web Page &#x1F310;](https://olgabelitskaya.github.io/kaggle_sberbank.html)\n",
    "  \n",
    "- House Prices: Advanced Regression Techniques &nbsp; [Kaggle Jupyter Notebook &#x1F4D6;](https://www.kaggle.com/olgabelitskaya/regressors) &nbsp; [Web Page &#x1F310;](https://olgabelitskaya.github.io/kaggle_house.html)\n",
    "\n",
    "- The Dataset of Flower Images &nbsp; [Kaggle Jupyter Notebook &#x1F4D6;](https://www.kaggle.com/olgabelitskaya/the-dataset-of-flower-images) &nbsp; [Web Page &#x1F310;](https://olgabelitskaya.github.io/kaggle_flowers.html)\n",
    "\n",
    "- Handwritten Letters &nbsp; [Kaggle Jupyter Notebook &#x1F4D6;](https://www.kaggle.com/olgabelitskaya/handwritten-letters) &nbsp; [Web Page &#x1F310;](https://olgabelitskaya.github.io/kaggle_letters.html)\n",
    "\n",
    "- SVHN Digit Recognition &nbsp; [Kaggle Jupyter Notebook &#x1F4D6;](https://www.kaggle.com/olgabelitskaya/svhn-digit-recognition)\n",
    "\n",
    "- Mixed Styles &nbsp; [Kaggle Jupyter Notebook &#x1F4D6;](https://www.kaggle.com/olgabelitskaya/mixed-styles)\n",
    "\n",
    "## &#x1F4D1; &nbsp; Created Datasets\n",
    "- Flower Color Images &nbsp; [Kaggle Dataset &#x1F4D6;](https://www.kaggle.com/olgabelitskaya/flower-color-images)\n",
    "\n",
    "- SVHN Preprocessed Fragments &nbsp; [Kaggle Dataset &#x1F4D6;](https://www.kaggle.com/olgabelitskaya/svhn-preproccessed-fragments)\n",
    "\n",
    "- Classification of Handwritten Letters &nbsp; [Kaggle Dataset &#x1F4D6;](https://www.kaggle.com/olgabelitskaya/classification-of-handwritten-letters)\n",
    "\n",
    "- Handwritten Letters 2 &nbsp; [Kaggle Dataset &#x1F4D6;](https://www.kaggle.com/olgabelitskaya/handwritten-letters-2)\n",
    "\n",
    "- Style Color Images &nbsp; [Kaggle Dataset &#x1F4D6;](https://www.kaggle.com/olgabelitskaya/style-color-images)\n",
    "\n",
    "- Traditional Decor Patterns &nbsp; [Kaggle Dataset &#x1F4D6;](https://www.kaggle.com/olgabelitskaya/traditional-decor-patterns)\n"
   ]
  },
  {
   "cell_type": "markdown",
   "metadata": {},
   "source": [
    "# &#x1F3D9; &nbsp; Online Training Courses & Exercises\n",
    "\n",
    "## &#x1F4D8; &nbsp; My Own Practice Programs\n",
    "https://olgabelitskaya.github.io/README_PRACTICE.html\n",
    "\n",
    "## &#x1F4D8; &nbsp; Various Exercises\n",
    "https://olgabelitskaya.github.io/README_EXERCISES.html\n",
    "\n",
    "## &#x1F4D8; &nbsp; Reflections for Courses and Programs \n",
    "https://olgabelitskaya.github.io/reflections/README.html\n",
    "\n",
    "## &#x1F4D8; &nbsp; Notebooks and Data Files\n",
    "https://olgabelitskaya.github.io/notebooks/README.html"
   ]
  },
  {
   "cell_type": "markdown",
   "metadata": {},
   "source": [
    "# &#x1F3D9; &nbsp;  Other Web Links:\n",
    "\n",
    "## &#x1F4D1; &nbsp; GitHub gists https://gist.github.com/OlgaBelitskaya\n",
    "\n",
    "## &#x1F4D1; &nbsp; Pages on http://bl.ocks.org/\n",
    "\n",
    "- [Visualization. Map I](http://bl.ocks.org/OlgaBelitskaya/bcc84d52267612a32b2a5bf79ae11b94)\n",
    "- [Visualization. Map II](http://bl.ocks.org/OlgaBelitskaya/de4685ce8630c2ea00229750097e1fb4)\n",
    "- [Visualization. Interpolation](http://bl.ocks.org/OlgaBelitskaya/aec204a67eec24cec8568258395ce62b)\n",
    "- [Visualization. Multiline Chart](https://bl.ocks.org/OlgaBelitskaya/2ec3804fd98d4cbd86e28eed38cddbdb)\n",
    "\n",
    "#### [Block's Example](https://olgabelitskaya.github.io/multiline.html)\n",
    "\n",
    "## &#x1F4D1; &nbsp; Cocal.com Projects \n",
    "https://cocalc.com/projects\n",
    "\n",
    "## &#x1F4D1; &nbsp; Microsoft AML Studio\n",
    "https://studio.azureml.net/Home/"
   ]
  },
  {
   "cell_type": "code",
   "execution_count": 1,
   "metadata": {},
   "outputs": [
    {
     "data": {
      "text/html": [
       "<style>\n",
       "@import url('https://fonts.googleapis.com/css?family=Orbitron');\n",
       "@import url('https://fonts.googleapis.com/css?family=Roboto');\n",
       "body {background-color: #CBE5FA;}\n",
       "a {color: slategray; font-family: Roboto;}\n",
       "h1, h2 {color: #3883c2; font-family: Orbitron; text-shadow: 4px 4px 4px #aaa;}\n",
       "h3 {color: #346187; font-family: Orbitron; text-shadow: 4px 4px 4px #aaa;}\n",
       "h4 {color: #slategray; font-family: Roboto;}\n",
       "div.input_prompt {color: white;} \n",
       "div.text_cell_render {color: slategray}\n",
       "span {text-shadow: 4px 4px 4px #ccc;}   \n",
       "</style>"
      ],
      "text/plain": [
       "<IPython.core.display.HTML object>"
      ]
     },
     "metadata": {},
     "output_type": "display_data"
    }
   ],
   "source": [
    "%%html\n",
    "<style>\n",
    "@import url('https://fonts.googleapis.com/css?family=Orbitron');\n",
    "@import url('https://fonts.googleapis.com/css?family=Roboto');\n",
    "body {background-color: #CBE5FA;}\n",
    "a {color: slategray; font-family: Roboto;}\n",
    "h1, h2 {color: #3883c2; font-family: Orbitron; text-shadow: 4px 4px 4px #aaa;}\n",
    "h3 {color: #346187; font-family: Orbitron; text-shadow: 4px 4px 4px #aaa;}\n",
    "h4 {color: #slategray; font-family: Roboto;}\n",
    "div.input_prompt {color: white;} \n",
    "div.text_cell_render {color: slategray}\n",
    "span {text-shadow: 4px 4px 4px #ccc;}   \n",
    "</style>"
   ]
  }
 ],
 "metadata": {
  "anaconda-cloud": {},
  "hide_input": false,
  "kernel_info": {
   "name": "python3"
  },
  "kernelspec": {
   "display_name": "Python 2",
   "language": "python",
   "name": "python2"
  },
  "language_info": {
   "codemirror_mode": {
    "name": "ipython",
    "version": 2
   },
   "file_extension": ".py",
   "mimetype": "text/x-python",
   "name": "python",
   "nbconvert_exporter": "python",
   "pygments_lexer": "ipython2",
   "version": "2.7.15"
  },
  "latex_envs": {
   "bibliofile": "biblio.bib",
   "cite_by": "apalike",
   "current_citInitial": 1,
   "eqLabelWithNumbers": true,
   "eqNumInitial": 0
  }
 },
 "nbformat": 4,
 "nbformat_minor": 2
}
