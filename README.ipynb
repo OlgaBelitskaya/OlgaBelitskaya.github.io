{
 "cells": [
  {
   "cell_type": "markdown",
   "metadata": {
    "outputExpanded": false
   },
   "source": [
    "# &#x1F3D9; &nbsp; Projects"
   ]
  },
  {
   "cell_type": "markdown",
   "metadata": {
    "outputExpanded": false
   },
   "source": [
    "## &#x1F4D1; &nbsp; Data Analyst Nanodegree \n",
    "### [Built with Udacity](https://www.udacity.com) &nbsp; [Certificate](https://olgabelitskaya.github.io/certificate.pdf)\n",
    "\n",
    "### &#x1F310; &nbsp; [click to view the github repository](https://github.com/OlgaBelitskaya/data-analyst-nd002)\n",
    "\n",
    "#### [P0: Chopsticks!](https://olgabelitskaya.github.io/Data_Analyst_ND_Project0.html) &nbsp;  [P1: The Stroop Effect](https://olgabelitskaya.github.io/Data_Analyst_ND_Project1.html) &nbsp;  [P2: Titanic](https://olgabelitskaya.github.io/Data_Analyst_ND_Project2.html)  &nbsp; \n",
    "#### [P3: Extraction MongoDB](https://olgabelitskaya.github.io/Data_Analyst_ND_Project3_Dubai-AbuDhabi_Extraction_MongoDB.html) &nbsp;  [P3: MongoDB](https://olgabelitskaya.github.io/Data_Analyst_ND_Project3_Dubai-AbuDhabi_MongoDB.html) &nbsp; [P3: Postcodes](https://olgabelitskaya.github.io/P3_postcodes.html) \n",
    "#### [P3: Additional SQL](https://olgabelitskaya.github.io/Data_Analyst_ND_Project3_Dubai-AbuDhabi_SQL.html) &nbsp;  [P3: Additional R SQL MongoDB](https://olgabelitskaya.github.io/P3_R_SQL_MongoDB.html) &nbsp; [P3: Additional Moscow Region](https://olgabelitskaya.github.io/Data_Analyst_ND_Project3_MoscowRegion.html)\n",
    "#### [P4: Explore and Summarize Data](https://olgabelitskaya.github.io/P4Beta.html)\n",
    "#### [P5: Identify Fraud from Enron Email. Extraction](https://olgabelitskaya.github.io/P5_Identify_Fraud_from_Enron_Email_Extraction.txt) &nbsp;  [P5: Identify Fraud from Enron Email](https://olgabelitskaya.github.io/P5_Identify_Fraud_from_Enron_Email.html) \n",
    "#### [P5: Identify Fraud from Enron Email. Response Questions](https://olgabelitskaya.github.io/P5_Enron_Submission_Free_Response_Questions.txt)\n",
    "#### [P6: Make Effective Data Visualization. Review](https://olgabelitskaya.github.io/P6_Readme.html) &nbsp;  [P6: Make Effective Data Visualization](https://olgabelitskaya.github.io/P6_index_final.html)\n",
    "#### [P7: Design an A/B Test](https://olgabelitskaya.github.io/P7_Design_an_A_B_Test_Overview.html) &nbsp;  [P7: Design an A/B Test. Extraction](https://olgabelitskaya.github.io/P7_Design_an_A_B_Test_Extraction.pdf)"
   ]
  },
  {
   "cell_type": "markdown",
   "metadata": {},
   "source": [
    "## &#x1F4D1; &nbsp; Machine Learning Engineer Nanodegree\n",
    "### [Built with Udacity](https://www.udacity.com) &nbsp; [Certificate](https://olgabelitskaya.github.io/certificate_nd009.pdf)\n",
    "\n",
    "### &#x1F310; &nbsp; [click to view the github repository](https://github.com/OlgaBelitskaya/machine_learning_engineer_nd009)\n",
    "\n",
    "### Program Projects\n",
    "#### [P0: Titanic Survival Exploration](https://olgabelitskaya.github.io/MLE_ND_P0_V0.html) &nbsp;  [P1: Predicting Boston Housing Prices](https://olgabelitskaya.github.io/MLE_ND_P1_V0.html) \n",
    "#### [P2: Finding Donors for CharityML](https://olgabelitskaya.github.io/MLE_ND_P2_V0.html) &nbsp; [P3: Creating Customer Segments](https://olgabelitskaya.github.io/MLE_ND_P3_V0.html)\n",
    "#### P4: Train a Smartcab to Drive &nbsp; [Version 0](https://olgabelitskaya.github.io/MLE_ND_P4_V0.html) &nbsp; [Version 1](https://olgabelitskaya.github.io/MLE_ND_P4_V1.html)\n",
    "#### P5: Build a Digit Recognition Program &nbsp; [Step 1](https://olgabelitskaya.github.io/MLE_ND_P5_V0_S1.html) &nbsp; [Step 2](https://olgabelitskaya.github.io/MLE_ND_P5_V0_S2.html) &nbsp; [Step 3](https://olgabelitskaya.github.io/MLE_ND_P5_V0_S3.html)\n",
    "#### P6: Capstone Project &nbsp; [Version 0](https://olgabelitskaya.github.io/MLE_ND_P6_V0.html) &nbsp; [Version 1](https://olgabelitskaya.github.io/MLE_ND_P6_V1.html) &nbsp; [Proposal](https://olgabelitskaya.github.io/MLE_ND_P6_PP.pdf) &nbsp; [Report](https://olgabelitskaya.github.io/MLE_ND_P6_PR.pdf) \n",
    "#### [P7: Building a Student Intervention System](https://olgabelitskaya.github.io/MLE_ND_P7_V0.html) &nbsp; [P8: Analyzing the NYC Subway Dataset](https://olgabelitskaya.github.io/MLE_ND_P8_V0.html)\n",
    "#### P9: Image Classification &nbsp; [Version 0](https://olgabelitskaya.github.io/MLE_ND_P9_V0.html) &nbsp; [Version 3](https://olgabelitskaya.github.io/MLE_ND_P9_V3.html)\n",
    "#### [P10: Write an Algorithm for a Dog Identification App](https://olgabelitskaya.github.io/MLE_ND_P10_V0.html)\n",
    "\n",
    "### Practice Projects\n",
    "#### [PP0](https://olgabelitskaya.github.io/MLE_ND_PP0.html) &nbsp; [PP1](https://olgabelitskaya.github.io/MLE_ND_PP1.html) &nbsp; [PP2](https://olgabelitskaya.github.io/MLE_ND_PP2.html) &nbsp; [PP3](https://olgabelitskaya.github.io/MLE_ND_PP3.html)\n",
    "#### PP4: [Part 1](https://olgabelitskaya.github.io/MLE_ND_PP4_1.html) &nbsp; [Part 2](https://olgabelitskaya.github.io/MLE_ND_PP4_2.html) &nbsp; [Part 3](https://olgabelitskaya.github.io/MLE_ND_PP4_3.html) &nbsp; [Part 4](https://olgabelitskaya.github.io/MLE_ND_PP4_4.html) &nbsp; [Part 5](https://olgabelitskaya.github.io/MLE_ND_PP4_5.html) &nbsp; [Part 6](https://olgabelitskaya.github.io/MLE_ND_PP4_6.html)\n",
    "\n",
    "### Interactive Reports with SageMathCell\n",
    "#### [P0: Titanic Survival Exploration](https://olgabelitskaya.github.io/MLE_ND_P0_SMC.html)\n",
    "#### [P1: Predicting Boston Housing Prices](https://olgabelitskaya.github.io/MLE_ND_P1_SMC.html)\n",
    "#### [P2: Finding Donors for CharityML](https://olgabelitskaya.github.io/MLE_ND_P2_SMC.html)\n",
    "#### [P3: Creating Customer Segments](https://olgabelitskaya.github.io/MLE_ND_P3_SMC.html)\n",
    "#### [P7: Building a Student Intervention System](https://olgabelitskaya.github.io/MLE_ND_P7_SMC.html)\n",
    "#### [P8: Analyzing the NYC Subway Dataset](https://olgabelitskaya.github.io/MLE_ND_P8_SMC.html)"
   ]
  },
  {
   "cell_type": "markdown",
   "metadata": {},
   "source": [
    "## &#x1F4D1; &nbsp; Deep Learning Nanodegree \n",
    "### [Built with Udacity](https://www.udacity.com) \n",
    "\n",
    "### &#x1F310; &nbsp; [click to view the github repository](https://github.com/OlgaBelitskaya/deep_learning_nanodegree_nd101)\n",
    "\n",
    "#### [P1: Your first neural network](https://olgabelitskaya.github.io/DL_ND_P1_V0.html)  &nbsp;  [P2:  Image Classification](https://olgabelitskaya.github.io/DL_ND_P2_V0.html) &nbsp;  [P3  Generate TV scripts](https://olgabelitskaya.github.io/DL_ND_P3_V0.html) \n",
    "#### [P4:  Translate a Language](https://olgabelitskaya.github.io/DL_ND_P4_V0.html) &nbsp;  [P5: Generate Faces ](https://olgabelitskaya.github.io/DL_ND_P5_V0.html)"
   ]
  },
  {
   "cell_type": "markdown",
   "metadata": {},
   "source": [
    "## &#x1F4D1; &nbsp; Deep Learning Practice\n",
    "### Experimental Program of My Own Projects \n",
    "\n",
    "### &#x1F310; &nbsp; [click to view the github repository](https://github.com/OlgaBelitskaya/deep_learning_projects)\n",
    "\n",
    "#### P0: Image Classification &nbsp; [Project &#x1F310;](https://olgabelitskaya.github.io/DL_PP0.html)  &nbsp; [Solutions &#x1F310;](https://olgabelitskaya.github.io/DL_PP0_Solutions.html)\n",
    "Colaboratory Notebooks  &nbsp; [flower_classification.ipynb &#x1F4D6; ](https://drive.google.com/open?id=1H2ArWH_1kYfkIoCbxleX-aHAozRVBAdB)\n",
    "#### P1: Neural Networks for Regression &nbsp; [Project &#x1F310;](https://olgabelitskaya.github.io/DL_PP1.html) &nbsp; [Solutions &#x1F310;](https://olgabelitskaya.github.io/DL_PP1_Solutions.html)\n",
    "Colaboratory Notebooks  &nbsp; [boston_regression.ipynb &#x1F4D6; ](https://drive.google.com/open?id=1atPu92jNJ-qBsFpbOiMojHGXCu6gJWYW)\n",
    "#### P2: Multi-Label Classification &nbsp; [Project &#x1F310;](https://olgabelitskaya.github.io/DL_PP2.html) &nbsp; [Solutions &#x1F310;](https://olgabelitskaya.github.io/DL_PP2_Solutions.html) &nbsp; [Solutions Variant 2 &#x1F310;](https://olgabelitskaya.github.io/DL_PP2_Solutions_V2.html) &nbsp; [Addition &#x1F310;](https://olgabelitskaya.github.io/DL_PP2_Additional.html)\n",
    "Colaboratory Notebooks  &nbsp; [letter_recognition.ipynb &#x1F4D6; ](https://drive.google.com/open?id=1Z9Fz0OOi6bpWvH-H2OhExC9CkGPWBYZz) &nbsp; [letter_generator.ipynb &#x1F4D6; ](https://drive.google.com/open?id=19B40eERSKfVO5zsizehxPOLdhLs5YcUT)\n",
    "#### P3: Parts of Speech &nbsp; \n",
    "#### P4: Style Recognition &nbsp; [Project &#x1F310;](https://olgabelitskaya.github.io/DL_PP4.html) &nbsp;  [Solutions &#x1F310;](https://olgabelitskaya.github.io/DL_PP4_Solutions.html)\n",
    "Colaboratory Notebooks  &nbsp; [style_recognition.ipynb &#x1F4D6; ](https://drive.google.com/open?id=1r5yRD-3tQwN6lSql_VRoVuwQ8DaY5zUt)\n",
    "#### P5: Decor Colorization &nbsp; [Solutions. Part 1 &#x1F310;](https://olgabelitskaya.github.io/DL_PP5_Solutions_Part1.html) &nbsp; [Solutions. Part 2 &#x1F310;](https://olgabelitskaya.github.io/DL_PP5_Solutions_Part2.html) &nbsp;  [Addition &#x1F310;](https://olgabelitskaya.github.io/DL_PP5_Additional.html) &nbsp; [Addition Variant 2 &#x1F310;](https://olgabelitskaya.github.io/DL_PP5_Additional_V2.html) \n",
    "Colaboratory Notebooks &nbsp; [decor_classification.ipynb &#x1F4D6; ](https://drive.google.com/open?id=1Tt3qZePsf2P6kNNao-hQ58DlG71Abj5a) &nbsp; [decor_colorization.ipynb &#x1F4D6; ](https://drive.google.com/open?id=1Is0ll753U0dlR2RhQVwelaegRFhkvoxw) &nbsp; [style_transfer.ipynb &#x1F4D6; ](https://drive.google.com/open?id=1svW40BBscfSLD7Je99TyctBeRWIOYHKa)"
   ]
  },
  {
   "cell_type": "markdown",
   "metadata": {
    "outputExpanded": false
   },
   "source": [
    "## &#x1F4D1; &nbsp; Interview and Technical Interview Practice.\n",
    "#### Udacity_Interview_Practice.ipynb &nbsp; [&#x1F310;](https://gist.github.com/OlgaBelitskaya/1ddb287592832cf581fc122d6bc2732e)\n",
    "#### Udacity_Technical_Interview_Practice_Lessons.ipynb &nbsp; [&#x1F310;](https://gist.github.com/OlgaBelitskaya/a6cb19e1f3a041e6f6a56ccf58b4701c)\n",
    "#### Udacity_Technical_Interview_Practice_Project.ipynb &nbsp; [&#x1F310;](https://gist.github.com/OlgaBelitskaya/849e983dd6e90943d5760be4c4986501)"
   ]
  },
  {
   "cell_type": "markdown",
   "metadata": {},
   "source": [
    "## &#x1F4D1; &nbsp; Kaggle\n",
    "### Kernels\n",
    "- Digit Recognition Models &nbsp; [Kaggle Jupyter Notebook &#x1F4D6;](https://www.kaggle.com/olgabelitskaya/digit-recognition-models-2) &nbsp; [Web Page &#x1F310;](https://olgabelitskaya.github.io/kaggle_digits.html)\n",
    " \n",
    "- Titanic Survival Exploration &nbsp; [Kaggle Jupyter Notebook &#x1F4D6;](https://www.kaggle.com/olgabelitskaya/titanic-survival-exploration) &nbsp; [Web Page &#x1F310;](https://olgabelitskaya.github.io/kaggle_titanic.html)\n",
    "\n",
    "- Sberbank Russian Housing Market &nbsp; [Kaggle Jupyter Notebook &#x1F4D6;](https://www.kaggle.com/olgabelitskaya/sberbank-russian-housing-market) &nbsp; [Web Page &#x1F310;](https://olgabelitskaya.github.io/kaggle_sberbank.html)\n",
    "  \n",
    "- House Prices: Advanced Regression Techniques &nbsp; [Kaggle Jupyter Notebook &#x1F4D6;](https://www.kaggle.com/olgabelitskaya/regressors) &nbsp; [Web Page &#x1F310;](https://olgabelitskaya.github.io/kaggle_house.html)\n",
    "\n",
    "- The Dataset of Flower Images &nbsp; [Kaggle Jupyter Notebook &#x1F4D6;](https://www.kaggle.com/olgabelitskaya/the-dataset-of-flower-images) &nbsp; [Web Page &#x1F310;](https://olgabelitskaya.github.io/kaggle_flowers.html)\n",
    "\n",
    "- Handwritten Letters &nbsp; [Kaggle Jupyter Notebook &#x1F4D6;](https://www.kaggle.com/olgabelitskaya/handwritten-letters) &nbsp; [Web Page &#x1F310;](https://olgabelitskaya.github.io/kaggle_letters.html)\n",
    "\n",
    "- SVHN Digit Recognition &nbsp; [Kaggle Jupyter Notebook &#x1F4D6;](https://www.kaggle.com/olgabelitskaya/svhn-digit-recognition)\n",
    "\n",
    "- Mixed Styles &nbsp; [Kaggle Jupyter Notebook &#x1F4D6;](https://www.kaggle.com/olgabelitskaya/mixed-styles)\n",
    "\n",
    "### Created Datasets\n",
    "- Flower Color Images &nbsp; [Kaggle Dataset &#x1F4D6;](https://www.kaggle.com/olgabelitskaya/flower-color-images)\n",
    "\n",
    "- SVHN Preprocessed Fragments &nbsp; [Kaggle Dataset &#x1F4D6;](https://www.kaggle.com/olgabelitskaya/svhn-preproccessed-fragments)\n",
    "\n",
    "- Classification of Handwritten Letters &nbsp; [Kaggle Dataset &#x1F4D6;](https://www.kaggle.com/olgabelitskaya/classification-of-handwritten-letters)\n",
    "\n",
    "- Handwritten Letters 2 &nbsp; [Kaggle Dataset &#x1F4D6;](https://www.kaggle.com/olgabelitskaya/handwritten-letters-2)\n",
    "\n",
    "- Style Color Images &nbsp; [Kaggle Dataset &#x1F4D6;](https://www.kaggle.com/olgabelitskaya/style-color-images)\n",
    "\n",
    "- Traditional Decor Patterns &nbsp; [Kaggle Dataset &#x1F4D6;](https://www.kaggle.com/olgabelitskaya/traditional-decor-patterns)\n"
   ]
  },
  {
   "cell_type": "markdown",
   "metadata": {},
   "source": [
    "## &#x1F4D1;  Cookbooks\n",
    "### Webpages\n",
    "#### Keras Python &nbsp; [&#x1F310;](https://olgabelitskaya.github.io/keras_cookbook.html) &nbsp; Keras R &nbsp; [&#x1F310;](https://olgabelitskaya.github.io/keras_cookbook_r.html) &nbsp; Sklearn Python&nbsp; [&#x1F310;](https://olgabelitskaya.github.io/sklearn_cookbook.html) &nbsp; TensorFlow Python &nbsp; [&#x1F310;](https://olgabelitskaya.github.io/tensorflow_cookbook.html) &nbsp; OpenCV Python &nbsp; [&#x1F310;](https://olgabelitskaya.github.io/opencv_cookbook.html)\n",
    "### Interactive\n",
    "#### [Sklearn Python + SageMath Cell](https://olgabelitskaya.github.io/sklearn_cookbook_sagecells.html)\n",
    "#### [Keras Python + Google Colab](https://colab.research.google.com/drive/16Xh8T4fPuk0AIBjnCo7e9WTrF1PgukoF)\n",
    "## &#x1F4D1;  Online Mini Campus- SageMath Practice with Wolfram \"Translation\"\n",
    "#### [SageMath PART 1](https://olgabelitskaya.github.io/sage.html) &nbsp; 📓 [Wolfram NB Part 1](https://www.wolframcloud.com/obj/safuolga/Published/wolfram.nb)\n",
    "#### [SageMath PART 2](https://olgabelitskaya.github.io/sage2.html) &nbsp; 📓 [Wolfram NB Part 2](https://www.wolframcloud.com/obj/safuolga/Published/wolfram2.nb)\n",
    "#### [SageMath PART 3](https://olgabelitskaya.github.io/sage3.html) &nbsp; 📓 [Wolfram NB Part 3](https://www.wolframcloud.com/obj/safuolga/Published/wolfram3.nb)\n",
    "#### [SageMath PART 4](https://olgabelitskaya.github.io/sage4.html) &nbsp; 📓 [Wolfram NB Part 4](https://www.wolframcloud.com/obj/safuolga/Published/wolfram4.nb)\n",
    "#### [SageMath PART 5](https://olgabelitskaya.github.io/sage5.html) &nbsp; 📓 [Wolfram NB Part 5](https://www.wolframcloud.com/obj/safuolga/Published/wolfram5.nb)\n",
    "#### [SageMath PART 6](https://olgabelitskaya.github.io/sage6.html) &nbsp; 📓 [Wolfram NB Part 6](https://www.wolframcloud.com/obj/safuolga/Published/wolfram6.nb)\n",
    "#### [SageMath PART 7](https://olgabelitskaya.github.io/sage7.html) &nbsp; 📓 [Wolfram NB Part 7](https://www.wolframcloud.com/obj/safuolga/Published/wolfram7.nb)\n",
    "#### [SageMath PART 8](https://olgabelitskaya.github.io/sage8.html) &nbsp; 📓 [Wolfram NB Part 8](https://www.wolframcloud.com/obj/safuolga/Published/wolfram8.nb)\n",
    "#### [SageMath PART 9](https://olgabelitskaya.github.io/sage9.html) &nbsp; 📓 [Wolfram NB Part 9](https://www.wolframcloud.com/obj/safuolga/Published/wolfram9.nb)\n",
    "#### [SageMath PART 10](https://olgabelitskaya.github.io/sage10.html) &nbsp; 📓 [Wolfram NB Part 10](https://www.wolframcloud.com/obj/safuolga/Published/wolfram10.nb)\n",
    "#### [SageMath PART 11](https://olgabelitskaya.github.io/sage11.html) &nbsp; 📓 [Wolfram NB Part 11](https://www.wolframcloud.com/obj/safuolga/Published/wolfram11.nb) \n",
    "#### [SageMath PART 12](https://olgabelitskaya.github.io/sage12.html) &nbsp; 📓 [Wolfram NB Part 12](https://www.wolframcloud.com/obj/safuolga/Published/wolfram12.nb)\n",
    "#### [SageMath PART 13](https://olgabelitskaya.github.io/sage13.html) &nbsp; 📓 [Wolfram NB Part 13](https://www.wolframcloud.com/obj/safuolga/Published/wolfram13.nb)\n",
    "#### [SageMath PART 14](https://olgabelitskaya.github.io/sage14.html) &nbsp; 📓 [Wolfram NB Part 14](https://www.wolframcloud.com/obj/safuolga/Published/wolfram14.nb)\n",
    "#### [SageMath PART 15](https://olgabelitskaya.github.io/sage15.html) &nbsp; 📓 [Wolfram NB Part 15](https://www.wolframcloud.com/obj/safuolga/Published/wolfram15.nb)\n",
    "#### [SageMath PART 16](https://olgabelitskaya.github.io/sage16.html) &nbsp; 📓 [Wolfram NB Part 16](https://www.wolframcloud.com/obj/safuolga/Published/wolfram16.nb)\n",
    "#### [SageMath PART 17](https://olgabelitskaya.github.io/sage17.html) &nbsp; 📓 [Wolfram NB Part 17](https://www.wolframcloud.com/obj/safuolga/Published/wolfram17.nb)\n",
    "#### [SageMath PART 18](https://olgabelitskaya.github.io/sage18.html) &nbsp; 📓 [Wolfram NB Part 18](https://www.wolframcloud.com/obj/safuolga/Published/wolfram18.nb) \n",
    "#### [SageMath PART 19](https://olgabelitskaya.github.io/sage19.html) &nbsp; 📓 [Wolfram NB Part 19](https://www.wolframcloud.com/obj/safuolga/Published/wolfram19.nb)\n",
    "#### [SageMath PART 20](https://olgabelitskaya.github.io/sage20.html) &nbsp; 📓 [Wolfram NB Part 20](https://www.wolframcloud.com/obj/safuolga/Published/wolfram20.nb)\n",
    "#### [SageMath PART 21](https://olgabelitskaya.github.io/sage21.html) &nbsp; 📓 [Wolfram NB Part 21](https://www.wolframcloud.com/obj/safuolga/Published/wolfram21.nb)\n",
    "#### [SageMath PART 22](https://olgabelitskaya.github.io/sage22.html) &nbsp; 📓 [Wolfram NB Part 22](https://www.wolframcloud.com/obj/safuolga/Published/wolfram22.nb) \n",
    "#### [SageMath PART 23](https://olgabelitskaya.github.io/sage23.html) &nbsp; 📓 [Wolfram NB Part 23](https://www.wolframcloud.com/obj/safuolga/Published/wolfram23.nb)\n",
    "#### [SageMath PART 24](https://olgabelitskaya.github.io/sage24.html) &nbsp; 📓 [Wolfram NB Part 24](https://www.wolframcloud.com/obj/safuolga/Published/wolfram24.nb)"
   ]
  },
  {
   "cell_type": "markdown",
   "metadata": {},
   "source": [
    "## &#x1F4D1; Maths & IT. Standard Calculations & Labs\n",
    "### Linear Algebra\n",
    "\n",
    "#### [Standard Calculations 1-3](https://olgabelitskaya.github.io/linearalgebra_practice101102103.html) &nbsp; &nbsp; [Standard Calculations 4-6](https://olgabelitskaya.github.io/linearalgebra_practice104105106.html) &nbsp; &nbsp; [Standard Calculations 7-9](https://olgabelitskaya.github.io/linearalgebra_practice107108109.html)\n",
    "\n",
    "#### [Standard Calculations 10-12](https://olgabelitskaya.github.io/linearalgebra_practice110111112.html) &nbsp; &nbsp;  [Standard Calculations 13-15](https://olgabelitskaya.github.io/linearalgebra_practice113114115.html) &nbsp; &nbsp;  [Standard Calculations 16-18](https://olgabelitskaya.github.io/linearalgebra_practice116117118.html)\n",
    "\n",
    "### Math Analysis\n",
    "\n",
    "#### [Standard Calculations 1.1-1.9](https://olgabelitskaya.github.io/mathanalysis_standardcalc101-109.html)\n",
    "\n",
    "#### [Standard Calculations 1.10-1.15](https://olgabelitskaya.github.io/mathanalysis_standardcalc110-115.html)\n",
    "\n",
    "#### [Standard Calculations 2.1-2.8](https://olgabelitskaya.github.io/mathanalysis_standardcalc201-208.html)\n",
    "\n",
    "#### [Standard Calculations 2.9-2.15](https://olgabelitskaya.github.io/mathanalysis_standardcalc209-215.html)\n",
    "\n",
    "### Programming\n",
    "\n",
    "#### [Lab Works 2-4](https://olgabelitskaya.github.io/program_lab234.html) &nbsp; &nbsp; [Lab Work 5](https://olgabelitskaya.github.io/program_lab5.html) &nbsp; &nbsp; [Lab Work 6](https://olgabelitskaya.github.io/program_lab6.html)\n",
    "\n",
    "#### [Lab Work 7](https://olgabelitskaya.github.io/program_lab7.html) &nbsp; &nbsp; [Lab Work 8](https://olgabelitskaya.github.io/program_lab8.html) &nbsp; &nbsp; [Lab Work 9](https://olgabelitskaya.github.io/program_lab9.html)\n",
    "\n",
    "#### [Lab Works 10](https://olgabelitskaya.github.io/program_lab10.html) &nbsp; &nbsp; [Lab Works 11](https://olgabelitskaya.github.io/program_lab11.html) &nbsp; &nbsp; [Standard Calculation](https://olgabelitskaya.github.io/program_standardcalc.html)"
   ]
  },
  {
   "cell_type": "markdown",
   "metadata": {},
   "source": [
    "## &#x1F4D1; &nbsp; School Exams \n",
    "\n",
    "### Math Exam Variants\n",
    "\n",
    "[Математика. Профильный уровень. 20 вариантов тестов. Тематическая рабочая тетрадь.](https://drive.google.com/file/d/0B8CJrELbJAyodmtvbV8xcEtZXzA/view)\n",
    "\n",
    "#### Variant 11:  &nbsp; [Notebook &#x1F310; &nbsp;](https://github.com/OlgaBelitskaya/math_20172018/blob/master/2018_Variant11.ipynb) [Web &#x1F310;](https://olgabelitskaya.github.io/2018_Variant11.html)\n",
    "\n",
    "#### Variant 12:  &nbsp; [Notebook &#x1F310; &nbsp;](https://github.com/OlgaBelitskaya/math_20172018/blob/master/2018_Variant12.ipynb) &nbsp; [Web &#x1F310;](https://olgabelitskaya.github.io/2018_Variant12.html)\n",
    "\n",
    "#### Variant 13:  &nbsp; [Notebook &#x1F310;](https://github.com/OlgaBelitskaya/math_20172018/blob/master/2018_Variant13.ipynb) &nbsp; [Web &#x1F310;](https://olgabelitskaya.github.io/2018_Variant13.html)\n",
    "\n",
    "#### Variant 14: &nbsp; [Notebook &#x1F310;](https://github.com/OlgaBelitskaya/math_20172018/blob/master/2018_Variant14.ipynb) &nbsp; [Web &#x1F310;](https://olgabelitskaya.github.io/2018_Variant14.html)\n",
    "\n",
    "#### Variant 15:  &nbsp; [Notebook &#x1F310;](https://github.com/OlgaBelitskaya/math_20172018/blob/master/2018_Variant15.ipynb) &nbsp; [Web &#x1F310;](https://olgabelitskaya.github.io/2018_Variant15.html)\n",
    "\n",
    "#### Variant 16:  &nbsp; [Notebook &#x1F310;](https://github.com/OlgaBelitskaya/math_20172018/blob/master/2018_Variant16.ipynb) &nbsp; [Web &#x1F310;](https://olgabelitskaya.github.io/2018_Variant16.html)\n",
    "\n",
    "#### Variant 17:  &nbsp; [Notebook &#x1F310;](https://github.com/OlgaBelitskaya/math_20172018/blob/master/2018_Variant17.ipynb) &nbsp; [Web &#x1F310;](https://olgabelitskaya.github.io/2018_Variant17.html)\n",
    "\n",
    "#### Variant 18:  &nbsp; [Notebook &#x1F310;](https://github.com/OlgaBelitskaya/math_20172018/blob/master/2018_Variant18.ipynb) &nbsp; [Web &#x1F310;](https://olgabelitskaya.github.io/2018_Variant18.html)\n",
    "\n",
    "#### Variant 19:  &nbsp; [Notebook &#x1F310;](https://github.com/OlgaBelitskaya/math_20172018/blob/master/2018_Variant19.ipynb) &nbsp; [Web &#x1F310;](https://olgabelitskaya.github.io/2018_Variant19.html)\n",
    "\n",
    "#### Variant 20:  &nbsp; [Notebook &#x1F310;](https://github.com/OlgaBelitskaya/math_20172018/blob/master/2018_Variant20.ipynb) &nbsp; [Web &#x1F310;](https://olgabelitskaya.github.io/2018_Variant20.html)\n",
    "\n",
    "### IT Exam Variants\n",
    "\n",
    "### 2017\n",
    "\n",
    "#### [ЕГЭ-2017. Информатика. 10 тренировочных вариантов. Ушаков Д.М](https://drive.google.com/file/d/0B6696ckkWj_zS2ptblAxNERHZzQ/view)\n",
    "\n",
    "#### Variant 1:  &nbsp; &nbsp; Python &nbsp; [Notebook &#x1F310;](https://github.com/OlgaBelitskaya/it_20172018/blob/master/2017_Variant1.ipynb) &nbsp; [Web &#x1F310;](https://olgabelitskaya.github.io/2017_Variant1.html) &nbsp; &nbsp; R &nbsp;  [Notebook &#x1F310;](https://github.com/OlgaBelitskaya/it_20172018/blob/master/2017_Variant1_R.ipynb) &nbsp; [Web &#x1F310;](https://olgabelitskaya.github.io/2017_Variant1_R.html)\n",
    "\n",
    "#### Variant 2:  &nbsp; &nbsp; Python &nbsp; [Notebook &#x1F310;](https://github.com/OlgaBelitskaya/it_20172018/blob/master/2017_Variant2.ipynb) &nbsp; [Web &#x1F310;](https://olgabelitskaya.github.io/2017_Variant2.html) &nbsp; &nbsp; R &nbsp;  [Notebook &#x1F310;](https://github.com/OlgaBelitskaya/it_20172018/blob/master/2017_Variant2_R.ipynb) &nbsp; [Web &#x1F310;](https://olgabelitskaya.github.io/2017_Variant2_R.html)\n",
    "\n",
    "#### Variant 3:  &nbsp; &nbsp; Python &nbsp; [Notebook &#x1F310;](https://github.com/OlgaBelitskaya/it_20172018/blob/master/2017_Variant3.ipynb) &nbsp; [Web &#x1F310;](https://olgabelitskaya.github.io/2017_Variant3.html) &nbsp; &nbsp; R &nbsp; [Notebook &#x1F310;](https://github.com/OlgaBelitskaya/it_20172018/blob/master/2017_Variant3_R.ipynb) &nbsp; [Web &#x1F310;](https://olgabelitskaya.github.io/2017_Variant3_R.html)\n",
    "\n",
    "#### Variant 4:  &nbsp; &nbsp; Python &nbsp; [Notebook &#x1F310;](https://github.com/OlgaBelitskaya/it_20172018/blob/master/2017_Variant4.ipynb) &nbsp; [Web &#x1F310;](https://olgabelitskaya.github.io/2017_Variant4.html) &nbsp; &nbsp; R &nbsp;  [Notebook &#x1F310;](https://github.com/OlgaBelitskaya/it_20172018/blob/master/2017_Variant4_R.ipynb) &nbsp; [Web &#x1F310;](https://olgabelitskaya.github.io/2017_Variant4_R.html)\n",
    "\n",
    "#### Variant 5:  &nbsp; &nbsp; Python &nbsp; [Notebook &#x1F310;](https://github.com/OlgaBelitskaya/it_20172018/blob/master/2017_Variant5.ipynb) &nbsp; [Web &#x1F310;](https://olgabelitskaya.github.io/2017_Variant5.html) &nbsp; &nbsp; R &nbsp;  [Notebook &#x1F310;](https://github.com/OlgaBelitskaya/it_20172018/blob/master/2017_Variant5_R.ipynb) &nbsp; [Web &#x1F310;](https://olgabelitskaya.github.io/2017_Variant5_R.html)\n",
    "\n",
    "#### Variant 6:  &nbsp; &nbsp; Python &nbsp; [Notebook &#x1F310;](https://github.com/OlgaBelitskaya/it_20172018/blob/master/2017_Variant6.ipynb) &nbsp; [Web &#x1F310;](https://olgabelitskaya.github.io/2017_Variant6.html) &nbsp; &nbsp; R &nbsp;  [Notebook &#x1F310;](https://github.com/OlgaBelitskaya/it_20172018/blob/master/2017_Variant6_R.ipynb) &nbsp; [Web &#x1F310;](https://olgabelitskaya.github.io/2017_Variant6_R.html)\n",
    "\n",
    "#### Variant 7:  &nbsp; &nbsp; Python &nbsp; [Notebook &#x1F310;](https://github.com/OlgaBelitskaya/it_20172018/blob/master/2017_Variant7.ipynb) &nbsp; [Web &#x1F310;](https://olgabelitskaya.github.io/2017_Variant7.html) &nbsp; &nbsp; R &nbsp; [Notebook &#x1F310;](https://github.com/OlgaBelitskaya/it_20172018/blob/master/2017_Variant7_R.ipynb) &nbsp; [Web &#x1F310;](https://olgabelitskaya.github.io/2017_Variant7_R.html)\n",
    "\n",
    "#### Variant 8:  &nbsp; &nbsp; Python &nbsp; [Notebook &#x1F310;](https://github.com/OlgaBelitskaya/it_20172018/blob/master/2017_Variant8.ipynb) &nbsp; [Web &#x1F310;](https://olgabelitskaya.github.io/2017_Variant8.html) &nbsp; &nbsp; R &nbsp;  [Notebook &#x1F310;](https://github.com/OlgaBelitskaya/it_20172018/blob/master/2017_Variant8_R.ipynb) &nbsp; [Web &#x1F310;](https://olgabelitskaya.github.io/2017_Variant8_R.html)\n",
    "\n",
    "#### Variant 9:  &nbsp; &nbsp; Python &nbsp; [Notebook &#x1F310;](https://github.com/OlgaBelitskaya/it_20172018/blob/master/2017_Variant9.ipynb) &nbsp; [Web &#x1F310;](https://olgabelitskaya.github.io/2017_Variant9.html) &nbsp; &nbsp; R &nbsp;  [Notebook &#x1F310;](https://github.com/OlgaBelitskaya/it_20172018/blob/master/2017_Variant9_R.ipynb) &nbsp; [Web &#x1F310;](https://olgabelitskaya.github.io/2017_Variant9_R.html)\n",
    "\n",
    "#### Variant 10:  &nbsp; &nbsp; Python &nbsp; [Notebook &#x1F310;](https://github.com/OlgaBelitskaya/it_20172018/blob/master/2017_Variant10.ipynb) &nbsp; [Web &#x1F310;](https://olgabelitskaya.github.io/2017_Variant10.html) &nbsp; &nbsp; R &nbsp; [Notebook &#x1F310;](https://github.com/OlgaBelitskaya/it_20172018/blob/master/2017_Variant10_R.ipynb) &nbsp; [Web &#x1F310;](https://olgabelitskaya.github.io/2017_Variant10_R.html)\n",
    "\n",
    "#### Д. В. Богданов:  &nbsp; &nbsp; Variant 1702:  &nbsp; [Notebook &#x1F310;](https://github.com/OlgaBelitskaya/it_20172018/blob/master/2017_Variant1702.ipynb) &nbsp; [Web &#x1F310;](https://olgabelitskaya.github.io/2017_Variant1702.html)\n",
    "\n",
    "### 2016\n",
    "#### СтатГрад: &nbsp; &nbsp; Variant ИН 10403:  &nbsp; [Notebook &#x1F310;](https://github.com/OlgaBelitskaya/it_20172018/blob/master/statgrad_in_10403_solutions.ipynb) &nbsp; [Web &#x1F310;](https://olgabelitskaya.github.io/statgrad_in_10403_solutions.html)"
   ]
  },
  {
   "cell_type": "markdown",
   "metadata": {},
   "source": [
    "---\n",
    "# &#x1F3D9; &nbsp;  Other Web Links:\n",
    "\n",
    "## &#x1F4D1; &nbsp; GitHub gists https://gist.github.com/OlgaBelitskaya\n",
    "\n",
    "## &#x1F4D1; &nbsp; Pages on http://bl.ocks.org/\n",
    "\n",
    "- [Visualization. Map I](http://bl.ocks.org/OlgaBelitskaya/bcc84d52267612a32b2a5bf79ae11b94)\n",
    "- [Visualization. Map II](http://bl.ocks.org/OlgaBelitskaya/de4685ce8630c2ea00229750097e1fb4)\n",
    "- [Visualization. Interpolation](http://bl.ocks.org/OlgaBelitskaya/aec204a67eec24cec8568258395ce62b)\n",
    "- [Visualization. Multiline Chart](https://bl.ocks.org/OlgaBelitskaya/2ec3804fd98d4cbd86e28eed38cddbdb)\n",
    "\n",
    "#### [Block's Example](https://olgabelitskaya.github.io/multiline.html)\n",
    "\n",
    "## &#x1F4D1; &nbsp; Cocal.com Projects \n",
    "https://cocalc.com/projects\n",
    "\n",
    "## &#x1F4D1; &nbsp; Microsoft AML Studio\n",
    "https://studio.azureml.net/Home/"
   ]
  },
  {
   "cell_type": "markdown",
   "metadata": {
    "outputExpanded": false
   },
   "source": [
    "---\n",
    "# &#x1F4D8; &nbsp; Courses and Programs \n",
    "https://olgabelitskaya.github.io/reflections/README.html\n",
    "\n",
    "# &#x1F4D8; &nbsp; Notebooks and Data Files\n",
    "https://olgabelitskaya.github.io/notebooks/README.html\n",
    "\n",
    "# &#x1F4D8; &nbsp; Additional Exercises\n",
    "https://olgabelitskaya.github.io/README_EXERCISES.html"
   ]
  },
  {
   "cell_type": "code",
   "execution_count": 1,
   "metadata": {},
   "outputs": [
    {
     "data": {
      "text/html": [
       "<style>\n",
       "@import url('https://fonts.googleapis.com/css?family=Orbitron');\n",
       "@import url('https://fonts.googleapis.com/css?family=Roboto');\n",
       "body {background-color: #CBE5FA;}\n",
       "a {color: slategray; font-family: Roboto;}\n",
       "h1, h2 {color: #3883c2; font-family: Orbitron; text-shadow: 4px 4px 4px #aaa;}\n",
       "h3 {color: #346187; font-family: Orbitron; text-shadow: 4px 4px 4px #aaa;}\n",
       "h4 {color: #slategray; font-family: Roboto;}\n",
       "div.input_prompt {color: white;} \n",
       "div.text_cell_render {color: slategray}\n",
       "span {text-shadow: 4px 4px 4px #ccc;}   \n",
       "</style>"
      ],
      "text/plain": [
       "<IPython.core.display.HTML object>"
      ]
     },
     "metadata": {},
     "output_type": "display_data"
    }
   ],
   "source": [
    "%%html\n",
    "<style>\n",
    "@import url('https://fonts.googleapis.com/css?family=Orbitron');\n",
    "@import url('https://fonts.googleapis.com/css?family=Roboto');\n",
    "body {background-color: #CBE5FA;}\n",
    "a {color: slategray; font-family: Roboto;}\n",
    "h1, h2 {color: #3883c2; font-family: Orbitron; text-shadow: 4px 4px 4px #aaa;}\n",
    "h3 {color: #346187; font-family: Orbitron; text-shadow: 4px 4px 4px #aaa;}\n",
    "h4 {color: #slategray; font-family: Roboto;}\n",
    "div.input_prompt {color: white;} \n",
    "div.text_cell_render {color: slategray}\n",
    "span {text-shadow: 4px 4px 4px #ccc;}   \n",
    "</style>"
   ]
  }
 ],
 "metadata": {
  "anaconda-cloud": {},
  "hide_input": false,
  "kernel_info": {
   "name": "python3"
  },
  "kernelspec": {
   "display_name": "Python 2",
   "language": "python",
   "name": "python2"
  },
  "language_info": {
   "codemirror_mode": {
    "name": "ipython",
    "version": 2
   },
   "file_extension": ".py",
   "mimetype": "text/x-python",
   "name": "python",
   "nbconvert_exporter": "python",
   "pygments_lexer": "ipython2",
   "version": "2.7.15"
  },
  "latex_envs": {
   "bibliofile": "biblio.bib",
   "cite_by": "apalike",
   "current_citInitial": 1,
   "eqLabelWithNumbers": true,
   "eqNumInitial": 0
  }
 },
 "nbformat": 4,
 "nbformat_minor": 2
}
