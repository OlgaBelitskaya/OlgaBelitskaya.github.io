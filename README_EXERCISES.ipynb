{
 "cells": [
  {
   "cell_type": "markdown",
   "metadata": {},
   "source": [
    "# &#x1F3D9; &nbsp;  Various Forms of Exercises\n",
    "#### [back to the main page](https://olgabelitskaya.github.io/README.html)"
   ]
  },
  {
   "cell_type": "markdown",
   "metadata": {},
   "source": [
    "## &#x1F4D1; &nbsp; School Exams \n",
    "\n",
    "### Math Exam Variants\n",
    "\n",
    "[Математика. Профильный уровень. 20 вариантов тестов. Тематическая рабочая тетрадь.](https://drive.google.com/file/d/0B8CJrELbJAyodmtvbV8xcEtZXzA/view)\n",
    "\n",
    "#### Variant 11:  &nbsp; [Notebook &#x1F310; &nbsp;](https://github.com/OlgaBelitskaya/math_20172018/blob/master/2018_Variant11.ipynb) [Web &#x1F310;](https://olgabelitskaya.github.io/2018_Variant11.html)\n",
    "\n",
    "#### Variant 12:  &nbsp; [Notebook &#x1F310; &nbsp;](https://github.com/OlgaBelitskaya/math_20172018/blob/master/2018_Variant12.ipynb) &nbsp; [Web &#x1F310;](https://olgabelitskaya.github.io/2018_Variant12.html)\n",
    "\n",
    "#### Variant 13:  &nbsp; [Notebook &#x1F310;](https://github.com/OlgaBelitskaya/math_20172018/blob/master/2018_Variant13.ipynb) &nbsp; [Web &#x1F310;](https://olgabelitskaya.github.io/2018_Variant13.html)\n",
    "\n",
    "#### Variant 14: &nbsp; [Notebook &#x1F310;](https://github.com/OlgaBelitskaya/math_20172018/blob/master/2018_Variant14.ipynb) &nbsp; [Web &#x1F310;](https://olgabelitskaya.github.io/2018_Variant14.html)\n",
    "\n",
    "#### Variant 15:  &nbsp; [Notebook &#x1F310;](https://github.com/OlgaBelitskaya/math_20172018/blob/master/2018_Variant15.ipynb) &nbsp; [Web &#x1F310;](https://olgabelitskaya.github.io/2018_Variant15.html)\n",
    "\n",
    "#### Variant 16:  &nbsp; [Notebook &#x1F310;](https://github.com/OlgaBelitskaya/math_20172018/blob/master/2018_Variant16.ipynb) &nbsp; [Web &#x1F310;](https://olgabelitskaya.github.io/2018_Variant16.html)\n",
    "\n",
    "#### Variant 17:  &nbsp; [Notebook &#x1F310;](https://github.com/OlgaBelitskaya/math_20172018/blob/master/2018_Variant17.ipynb) &nbsp; [Web &#x1F310;](https://olgabelitskaya.github.io/2018_Variant17.html)\n",
    "\n",
    "#### Variant 18:  &nbsp; [Notebook &#x1F310;](https://github.com/OlgaBelitskaya/math_20172018/blob/master/2018_Variant18.ipynb) &nbsp; [Web &#x1F310;](https://olgabelitskaya.github.io/2018_Variant18.html)\n",
    "\n",
    "#### Variant 19:  &nbsp; [Notebook &#x1F310;](https://github.com/OlgaBelitskaya/math_20172018/blob/master/2018_Variant19.ipynb) &nbsp; [Web &#x1F310;](https://olgabelitskaya.github.io/2018_Variant19.html)\n",
    "\n",
    "#### Variant 20:  &nbsp; [Notebook &#x1F310;](https://github.com/OlgaBelitskaya/math_20172018/blob/master/2018_Variant20.ipynb) &nbsp; [Web &#x1F310;](https://olgabelitskaya.github.io/2018_Variant20.html)\n",
    "\n",
    "### IT Exam Variants\n",
    "\n",
    "### 2017\n",
    "\n",
    "#### [ЕГЭ-2017. Информатика. 10 тренировочных вариантов. Ушаков Д.М](https://drive.google.com/file/d/0B6696ckkWj_zS2ptblAxNERHZzQ/view)\n",
    "\n",
    "#### Variant 1:  &nbsp; &nbsp; Python &nbsp; [Notebook &#x1F310;](https://github.com/OlgaBelitskaya/it_20172018/blob/master/2017_Variant1.ipynb) &nbsp; [Web &#x1F310;](https://olgabelitskaya.github.io/2017_Variant1.html) &nbsp; &nbsp; R &nbsp;  [Notebook &#x1F310;](https://github.com/OlgaBelitskaya/it_20172018/blob/master/2017_Variant1_R.ipynb) &nbsp; [Web &#x1F310;](https://olgabelitskaya.github.io/2017_Variant1_R.html)\n",
    "\n",
    "#### Variant 2:  &nbsp; &nbsp; Python &nbsp; [Notebook &#x1F310;](https://github.com/OlgaBelitskaya/it_20172018/blob/master/2017_Variant2.ipynb) &nbsp; [Web &#x1F310;](https://olgabelitskaya.github.io/2017_Variant2.html) &nbsp; &nbsp; R &nbsp;  [Notebook &#x1F310;](https://github.com/OlgaBelitskaya/it_20172018/blob/master/2017_Variant2_R.ipynb) &nbsp; [Web &#x1F310;](https://olgabelitskaya.github.io/2017_Variant2_R.html)\n",
    "\n",
    "#### Variant 3:  &nbsp; &nbsp; Python &nbsp; [Notebook &#x1F310;](https://github.com/OlgaBelitskaya/it_20172018/blob/master/2017_Variant3.ipynb) &nbsp; [Web &#x1F310;](https://olgabelitskaya.github.io/2017_Variant3.html) &nbsp; &nbsp; R &nbsp; [Notebook &#x1F310;](https://github.com/OlgaBelitskaya/it_20172018/blob/master/2017_Variant3_R.ipynb) &nbsp; [Web &#x1F310;](https://olgabelitskaya.github.io/2017_Variant3_R.html)\n",
    "\n",
    "#### Variant 4:  &nbsp; &nbsp; Python &nbsp; [Notebook &#x1F310;](https://github.com/OlgaBelitskaya/it_20172018/blob/master/2017_Variant4.ipynb) &nbsp; [Web &#x1F310;](https://olgabelitskaya.github.io/2017_Variant4.html) &nbsp; &nbsp; R &nbsp;  [Notebook &#x1F310;](https://github.com/OlgaBelitskaya/it_20172018/blob/master/2017_Variant4_R.ipynb) &nbsp; [Web &#x1F310;](https://olgabelitskaya.github.io/2017_Variant4_R.html)\n",
    "\n",
    "#### Variant 5:  &nbsp; &nbsp; Python &nbsp; [Notebook &#x1F310;](https://github.com/OlgaBelitskaya/it_20172018/blob/master/2017_Variant5.ipynb) &nbsp; [Web &#x1F310;](https://olgabelitskaya.github.io/2017_Variant5.html) &nbsp; &nbsp; R &nbsp;  [Notebook &#x1F310;](https://github.com/OlgaBelitskaya/it_20172018/blob/master/2017_Variant5_R.ipynb) &nbsp; [Web &#x1F310;](https://olgabelitskaya.github.io/2017_Variant5_R.html)\n",
    "\n",
    "#### Variant 6:  &nbsp; &nbsp; Python &nbsp; [Notebook &#x1F310;](https://github.com/OlgaBelitskaya/it_20172018/blob/master/2017_Variant6.ipynb) &nbsp; [Web &#x1F310;](https://olgabelitskaya.github.io/2017_Variant6.html) &nbsp; &nbsp; R &nbsp;  [Notebook &#x1F310;](https://github.com/OlgaBelitskaya/it_20172018/blob/master/2017_Variant6_R.ipynb) &nbsp; [Web &#x1F310;](https://olgabelitskaya.github.io/2017_Variant6_R.html)\n",
    "\n",
    "#### Variant 7:  &nbsp; &nbsp; Python &nbsp; [Notebook &#x1F310;](https://github.com/OlgaBelitskaya/it_20172018/blob/master/2017_Variant7.ipynb) &nbsp; [Web &#x1F310;](https://olgabelitskaya.github.io/2017_Variant7.html) &nbsp; &nbsp; R &nbsp; [Notebook &#x1F310;](https://github.com/OlgaBelitskaya/it_20172018/blob/master/2017_Variant7_R.ipynb) &nbsp; [Web &#x1F310;](https://olgabelitskaya.github.io/2017_Variant7_R.html)\n",
    "\n",
    "#### Variant 8:  &nbsp; &nbsp; Python &nbsp; [Notebook &#x1F310;](https://github.com/OlgaBelitskaya/it_20172018/blob/master/2017_Variant8.ipynb) &nbsp; [Web &#x1F310;](https://olgabelitskaya.github.io/2017_Variant8.html) &nbsp; &nbsp; R &nbsp;  [Notebook &#x1F310;](https://github.com/OlgaBelitskaya/it_20172018/blob/master/2017_Variant8_R.ipynb) &nbsp; [Web &#x1F310;](https://olgabelitskaya.github.io/2017_Variant8_R.html)\n",
    "\n",
    "#### Variant 9:  &nbsp; &nbsp; Python &nbsp; [Notebook &#x1F310;](https://github.com/OlgaBelitskaya/it_20172018/blob/master/2017_Variant9.ipynb) &nbsp; [Web &#x1F310;](https://olgabelitskaya.github.io/2017_Variant9.html) &nbsp; &nbsp; R &nbsp;  [Notebook &#x1F310;](https://github.com/OlgaBelitskaya/it_20172018/blob/master/2017_Variant9_R.ipynb) &nbsp; [Web &#x1F310;](https://olgabelitskaya.github.io/2017_Variant9_R.html)\n",
    "\n",
    "#### Variant 10:  &nbsp; &nbsp; Python &nbsp; [Notebook &#x1F310;](https://github.com/OlgaBelitskaya/it_20172018/blob/master/2017_Variant10.ipynb) &nbsp; [Web &#x1F310;](https://olgabelitskaya.github.io/2017_Variant10.html) &nbsp; &nbsp; R &nbsp; [Notebook &#x1F310;](https://github.com/OlgaBelitskaya/it_20172018/blob/master/2017_Variant10_R.ipynb) &nbsp; [Web &#x1F310;](https://olgabelitskaya.github.io/2017_Variant10_R.html)\n",
    "\n",
    "#### Д. В. Богданов:  &nbsp; &nbsp; Variant 1702:  &nbsp; [Notebook &#x1F310;](https://github.com/OlgaBelitskaya/it_20172018/blob/master/2017_Variant1702.ipynb) &nbsp; [Web &#x1F310;](https://olgabelitskaya.github.io/2017_Variant1702.html)\n",
    "\n",
    "### 2016\n",
    "#### СтатГрад: &nbsp; &nbsp; Variant ИН 10403:  &nbsp; [Notebook &#x1F310;](https://github.com/OlgaBelitskaya/it_20172018/blob/master/statgrad_in_10403_solutions.ipynb) &nbsp; [Web &#x1F310;](https://olgabelitskaya.github.io/statgrad_in_10403_solutions.html)"
   ]
  },
  {
   "cell_type": "markdown",
   "metadata": {},
   "source": [
    "## &#x1F4D1; Maths & IT. Standard Calculations & Labs\n",
    "### Linear Algebra\n",
    "\n",
    "#### [Standard Calculations 1-3](https://olgabelitskaya.github.io/linearalgebra_practice101102103.html) &nbsp; &nbsp; [Standard Calculations 4-6](https://olgabelitskaya.github.io/linearalgebra_practice104105106.html) &nbsp; &nbsp; [Standard Calculations 7-9](https://olgabelitskaya.github.io/linearalgebra_practice107108109.html)\n",
    "\n",
    "#### [Standard Calculations 10-12](https://olgabelitskaya.github.io/linearalgebra_practice110111112.html) &nbsp; &nbsp;  [Standard Calculations 13-15](https://olgabelitskaya.github.io/linearalgebra_practice113114115.html) &nbsp; &nbsp;  [Standard Calculations 16-18](https://olgabelitskaya.github.io/linearalgebra_practice116117118.html)\n",
    "\n",
    "### Math Analysis\n",
    "\n",
    "#### [Standard Calculations 1.1-1.9](https://olgabelitskaya.github.io/mathanalysis_standardcalc101-109.html) &nbsp; &nbsp; [Standard Calculations 1.10-1.15](https://olgabelitskaya.github.io/mathanalysis_standardcalc110-115.html)\n",
    "\n",
    "#### [Standard Calculations 2.1-2.8](https://olgabelitskaya.github.io/mathanalysis_standardcalc201-208.html) &nbsp; &nbsp; [Standard Calculations 2.9-2.15](https://olgabelitskaya.github.io/mathanalysis_standardcalc209-215.html)\n",
    "\n",
    "### Programming\n",
    "\n",
    "#### [Lab Works 2-4](https://olgabelitskaya.github.io/program_lab234.html) &nbsp; &nbsp; [Lab Work 5](https://olgabelitskaya.github.io/program_lab5.html) &nbsp; &nbsp; [Lab Work 6](https://olgabelitskaya.github.io/program_lab6.html)\n",
    "\n",
    "#### [Lab Work 7](https://olgabelitskaya.github.io/program_lab7.html) &nbsp; &nbsp; [Lab Work 8](https://olgabelitskaya.github.io/program_lab8.html) &nbsp; &nbsp; [Lab Work 9](https://olgabelitskaya.github.io/program_lab9.html)\n",
    "\n",
    "#### [Lab Works 10](https://olgabelitskaya.github.io/program_lab10.html) &nbsp; &nbsp; [Lab Works 11](https://olgabelitskaya.github.io/program_lab11.html) &nbsp; &nbsp; [Standard Calculation](https://olgabelitskaya.github.io/program_standardcalc.html)"
   ]
  },
  {
   "cell_type": "markdown",
   "metadata": {},
   "source": [
    "## &#x1F4D1;  &nbsp; Student Website for Pages with Exercises\n",
    "\n",
    "## Maths\n",
    "#### [Standard Calculation. WolframCloud](https://studentwebsite2019.github.io/mathTF1319W.html)\n",
    "#### [Standard Calculation. Google Colab](https://colab.research.google.com/drive/1MT0iq9l_Hzeh6FTbicvLuVdvNbV6J82p)\n",
    "#### [Standard Calculation. Page 1](https://studentwebsite2019.github.io/mathTF1319_01.html)\n",
    "#### [Standard Calculation. Page 2](https://studentwebsite2019.github.io/mathTF1319_02.html)\n",
    "## IT\n",
    "#### [Standard Calculation. WolframCloud](https://studentwebsite2019.github.io/itTF1319W.html)\n",
    "#### [Standard Calculation. Google Colab](https://colab.research.google.com/drive/1c1iJqa66AdXCwUru2aRfbAg4j-CGLVRe)\n",
    "#### [Standard Calculation. Page 1](https://studentwebsite2019.github.io/itTF1319_01.html)\n",
    "## Physics\n",
    "\n",
    "## Chemistry"
   ]
  },
  {
   "cell_type": "code",
   "execution_count": 1,
   "metadata": {},
   "outputs": [
    {
     "data": {
      "text/html": [
       "<style>\n",
       "@import url('https://fonts.googleapis.com/css?family=Orbitron');\n",
       "@import url('https://fonts.googleapis.com/css?family=Roboto');\n",
       "body {background-color: #CBE5FA;}\n",
       "a {color: slategray; font-family: Roboto;}\n",
       "h1, h2 {color: #3883c2; font-family: Orbitron; text-shadow: 4px 4px 4px #aaa;}\n",
       "h3 {color: #346187; font-family: Orbitron; text-shadow: 4px 4px 4px #aaa;}\n",
       "h4 {color: #slategray; font-family: Roboto;}\n",
       "div.input_prompt {color: white;} \n",
       "div.text_cell_render {color: slategray}\n",
       "span {text-shadow: 4px 4px 4px #ccc;}   \n",
       "</style>"
      ],
      "text/plain": [
       "<IPython.core.display.HTML object>"
      ]
     },
     "metadata": {},
     "output_type": "display_data"
    }
   ],
   "source": [
    "%%html\n",
    "<style>\n",
    "@import url('https://fonts.googleapis.com/css?family=Orbitron');\n",
    "@import url('https://fonts.googleapis.com/css?family=Roboto');\n",
    "body {background-color: #CBE5FA;}\n",
    "a {color: slategray; font-family: Roboto;}\n",
    "h1, h2 {color: #3883c2; font-family: Orbitron; text-shadow: 4px 4px 4px #aaa;}\n",
    "h3 {color: #346187; font-family: Orbitron; text-shadow: 4px 4px 4px #aaa;}\n",
    "h4 {color: #slategray; font-family: Roboto;}\n",
    "div.input_prompt {color: white;} \n",
    "div.text_cell_render {color: slategray}\n",
    "span {text-shadow: 4px 4px 4px #ccc;}   \n",
    "</style>"
   ]
  }
 ],
 "metadata": {
  "kernelspec": {
   "display_name": "SageMath 8.8",
   "language": "sage",
   "name": "sagemath"
  },
  "language_info": {
   "codemirror_mode": {
    "name": "ipython",
    "version": 2
   },
   "file_extension": ".py",
   "mimetype": "text/x-python",
   "name": "python",
   "nbconvert_exporter": "python",
   "pygments_lexer": "ipython2",
   "version": "2.7.15"
  }
 },
 "nbformat": 4,
 "nbformat_minor": 2
}
