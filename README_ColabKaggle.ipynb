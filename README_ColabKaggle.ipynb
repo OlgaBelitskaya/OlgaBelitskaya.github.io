{
 "cells": [
  {
   "cell_type": "markdown",
   "metadata": {},
   "source": [
    "# &#x1F3D9; &nbsp; Google Colaboratory & Kaggle Practice &nbsp; &nbsp; &nbsp; &nbsp; &nbsp; [🌀   Home Page    ](https://olgabelitskaya.github.io/README.html)\n",
    "## &#x1F4D1; &nbsp; Datasets [🌀](https://www.kaggle.com/olgabelitskaya/datasets)\n",
    "<br/><details><summary>Created Datasets</summary>\n",
    "    \n",
    "#### [&#x1F4D6; &nbsp; Flower Color Images](https://www.kaggle.com/olgabelitskaya/flower-color-images)\n",
    "#### [&#x1F4D6; &nbsp; Classification of Handwritten Letters](https://www.kaggle.com/olgabelitskaya/classification-of-handwritten-letters)\n",
    "#### [&#x1F4D6; &nbsp; Style Color Images](https://www.kaggle.com/olgabelitskaya/style-color-images)\n",
    "#### [&#x1F4D6; &nbsp; Traditional Decor Patterns](https://www.kaggle.com/olgabelitskaya/traditional-decor-patterns)\n",
    "#### [&#x1F4D6; &nbsp; Tomato Cultivars](https://www.kaggle.com/olgabelitskaya/tomato-cultivars)\n",
    "#### [&#x1F4D6; &nbsp; Horse Breeds](https://www.kaggle.com/olgabelitskaya/horse-breeds)\n",
    "#### [&#x1F4D6; &nbsp; Child and Adult Emotions](https://www.kaggle.com/olgabelitskaya/child-and-adult-emotions)\n",
    "#### [&#x1F4D6; &nbsp; White Flowers](https://www.kaggle.com/olgabelitskaya/white-flowers)\n",
    "#### [&#x1F4D6; &nbsp; Art Pictograms](https://www.kaggle.com/olgabelitskaya/art-pictogram)\n",
    "#### [&#x1F4D6; &nbsp; Arrays of Artificial Images](https://www.kaggle.com/olgabelitskaya/arrays-of-artificial-images)"
   ]
  },
  {
   "cell_type": "markdown",
   "metadata": {},
   "source": [
    "<br/><details><summary>Preprocessed Datasets</summary>\n",
    "\n",
    "#### [&#x1F4D6; &nbsp; SVHN Preprocessed Fragments](https://www.kaggle.com/olgabelitskaya/svhn-preproccessed-fragments)\n",
    "#### [&#x1F4D6; &nbsp; OSM Russia. Central District](https://www.kaggle.com/olgabelitskaya/osm-russia-central-district)\n",
    "#### [&#x1F4D6; &nbsp; Russian Financial Indicators](https://www.kaggle.com/olgabelitskaya/russian-financial-indicators)\n",
    "#### [&#x1F4D6; &nbsp; Image Classification for Biospecies](https://www.kaggle.com/olgabelitskaya/image-classification-for-biospecies)\n",
    "#### [&#x1F4D6; &nbsp; Image Classification for Biospecies 2](https://www.kaggle.com/olgabelitskaya/image-classification-for-biospecies-2)\n",
    "#### [&#x1F4D6; &nbsp; Image Classification for Biospecies 3](https://www.kaggle.com/olgabelitskaya/image-classification-for-biospecies-3)\n",
    "#### [&#x1F4D6; &nbsp; NY School Districts](https://www.kaggle.com/olgabelitskaya/ny-school-districts)\n",
    "#### [&#x1F4D6; &nbsp; Quick, Draw! Images from Key Points](https://www.kaggle.com/olgabelitskaya/quick-draw-images-from-key-points)\n",
    "#### [&#x1F4D6; &nbsp; Quick, Draw! Images from Key Points 2](https://www.kaggle.com/olgabelitskaya/quick-draw-images-from-key-points-2)\n",
    "#### [&#x1F4D6; &nbsp; Quick, Draw! Images from Key Points 3](https://www.kaggle.com/olgabelitskaya/quick-draw-images-from-key-points-3)\n",
    "#### [&#x1F4D6; &nbsp; Quick, Draw! Images from Key Points 4](https://www.kaggle.com/olgabelitskaya/quick-draw-images-from-key-points-4)\n",
    "#### [&#x1F4D6; &nbsp; Quick, Draw! Images from Key Points 5](https://www.kaggle.com/olgabelitskaya/quick-draw-images-from-key-points-5)\n",
    "#### [&#x1F4D6; &nbsp; Quick, Draw! Images from Key Points 6](https://www.kaggle.com/olgabelitskaya/quick-draw-images-from-key-points-6)\n",
    "#### [&#x1F4D6; &nbsp; Quick, Draw! Images from Key Points 7](https://www.kaggle.com/olgabelitskaya/quick-draw-images-from-key-points-7)"
   ]
  },
  {
   "cell_type": "markdown",
   "metadata": {},
   "source": [
    "<br/><details><summary>Datasets for Skill Improving</summary>\n",
    "\n",
    "#### [&#x1F4D6; &nbsp; Image Examples for Mixed Styles](https://www.kaggle.com/olgabelitskaya/image-examples-for-mixed-styles)\n",
    "#### [&#x1F4D6; &nbsp; Text Examples for Processing](https://www.kaggle.com/olgabelitskaya/text-examples-for-processing)"
   ]
  },
  {
   "cell_type": "markdown",
   "metadata": {},
   "source": [
    "## &#x1F4D1; &nbsp;  Kaggle Notebooks [🌀](https://www.kaggle.com/olgabelitskaya/notebooks)\n",
    "<br/><details><summary>Common Training</summary>\n",
    "\n",
    "#### Digit Recognition Models #1  \n",
    "[📓 Kaggle Jupyter Notebook](https://www.kaggle.com/olgabelitskaya/digit-recognition-models-1) &nbsp; [Web Page &#x1F310;](https://olgabelitskaya.github.io/kaggle_digits.html)\n",
    "#### Digit Recognition Models #2 \n",
    "[📓 Kaggle Jupyter Notebook](https://www.kaggle.com/olgabelitskaya/digit-recognition-models-2) &nbsp;\n",
    "[Web Page &#x1F310;](https://olgabelitskaya.github.io/kaggle_digits.html)\n",
    "#### Digit Recognition Models #3\n",
    "[📓 Kaggle Jupyter Notebook](https://www.kaggle.com/olgabelitskaya/digit-recognition-models-3)\n",
    "#### Digit Recognition Models R\n",
    "[📓 Kaggle Jupyter Notebook](https://www.kaggle.com/olgabelitskaya/digit-recognition-models-r)\n",
    "#### Digit Recognition Models R 2\n",
    "[📓 Kaggle Jupyter Notebook](https://www.kaggle.com/olgabelitskaya/digit-recognition-models-r-2)\n",
    "#### Titanic Survival Exploration\n",
    "[📓 Kaggle Jupyter Notebook](https://www.kaggle.com/olgabelitskaya/titanic-survival-exploration) &nbsp; [Web Page &#x1F310;](https://olgabelitskaya.github.io/kaggle_titanic.html)\n",
    "#### Predicting Boston Housing Prices\n",
    "[📓 Kaggle Jupyter Notebook](https://www.kaggle.com/olgabelitskaya/boston-housing-prices)\n",
    "#### House Prices: Advanced Regression Techniques\n",
    "[📓 Kaggle Jupyter Notebook](https://www.kaggle.com/olgabelitskaya/regressors) &nbsp; [Web Page &#x1F310;](https://olgabelitskaya.github.io/kaggle_house.html)\n",
    "#### SVHN Digit Recognition\n",
    "[📓 Kaggle Jupyter Notebook](https://www.kaggle.com/olgabelitskaya/svhn-digit-recognition)"
   ]
  },
  {
   "cell_type": "markdown",
   "metadata": {},
   "source": [
    "<br/><details><summary>My Own Projects</summary>\n",
    "    \n",
    "#### The Dataset of Flower Images\n",
    "[📓 Kaggle Jupyter Notebook](https://www.kaggle.com/olgabelitskaya/the-dataset-of-flower-images) &nbsp; [Web Page &#x1F310;](https://olgabelitskaya.github.io/kaggle_flowers.html)\n",
    "#### The Dataset of Flower Images (R)\n",
    "[📓 Kaggle Jupyter Notebook](https://www.kaggle.com/olgabelitskaya/the-dataset-of-flower-images-r)\n",
    "#### Flower Images. Keras Applications\n",
    "[📓 Kaggle Jupyter Notebook](https://www.kaggle.com/olgabelitskaya/flower-images-keras-applications)\n",
    "#### Handwritten Letters\n",
    "[📓 Kaggle Jupyter Notebook](https://www.kaggle.com/olgabelitskaya/handwritten-letters) &nbsp; [Web Page &#x1F310;](https://olgabelitskaya.github.io/kaggle_letters.html)\n",
    "#### Handwritten Letters (R)\n",
    "[📓 Kaggle Jupyter Notebook](https://www.kaggle.com/olgabelitskaya/handwritten-letters-r)\n",
    "#### Preprocessing of Style Color Images\n",
    "[📓 Kaggle Jupyter Notebook](https://www.kaggle.com/olgabelitskaya/preprocessing-of-style-color-images)\n",
    "#### Multi-Label Classification Models\n",
    "[📓 Kaggle Jupyter Notebook](https://www.kaggle.com/olgabelitskaya/multi-label-classification-models)\n",
    "#### Brand Recognition\n",
    "[📓 Kaggle Jupyter Notebook](https://www.kaggle.com/olgabelitskaya/brand-recognition)\n",
    "#### Product Recognition\n",
    "[📓 Kaggle Jupyter Notebook](https://www.kaggle.com/olgabelitskaya/product-recognition)\n",
    "#### Style Images. Keras Applications\n",
    "[📓 Kaggle Jupyter Notebook](https://www.kaggle.com/olgabelitskaya/style-images-keras-applications)\n",
    "#### Preprocessing of Pattern Images\n",
    "[📓 Kaggle Jupyter Notebook](https://www.kaggle.com/olgabelitskaya/preprocessing-of-pattern-images)\n",
    "#### Mixed Styles \n",
    "[📓 Kaggle Jupyter Notebook](https://www.kaggle.com/olgabelitskaya/mixed-styles) &nbsp; [Web Page &#x1F310;](https://olgabelitskaya.github.io/kaggle_mixed_styles.html)\n",
    "#### Sberbank Russian Housing Market \n",
    "[📓 Kaggle Jupyter Notebook](https://www.kaggle.com/olgabelitskaya/sberbank-russian-housing-market) &nbsp; [Web Page &#x1F310;](https://olgabelitskaya.github.io/kaggle_sberbank.html)\n"
   ]
  },
  {
   "cell_type": "markdown",
   "metadata": {},
   "source": [
    "<br/><details><summary> Image Generators</summary>\n",
    "\n",
    "* [📓 Image Generator](https://www.kaggle.com/olgabelitskaya/image-generator)\n",
    "\n",
    "\n",
    "* [📓 Image Generator 2](https://www.kaggle.com/olgabelitskaya/image-generator-2)\n",
    "\n",
    "\n",
    "* [📓 Image Generator 3](https://www.kaggle.com/olgabelitskaya/image-generator-3)\n",
    "\n",
    "\n",
    "* [📓 Image Generator 4](https://www.kaggle.com/olgabelitskaya/image-generator-4)\n"
   ]
  },
  {
   "cell_type": "markdown",
   "metadata": {},
   "source": [
    "<br/><details><summary> Cookbooks</summary>\n",
    "\n",
    "* [📓 Sklearn PyR](https://www.kaggle.com/olgabelitskaya/sklearn-pyr)\n",
    "\n",
    "\n",
    "* [📓 SQL Cookbook R](https://www.kaggle.com/olgabelitskaya/sql-cookbook-r)\n",
    "\n",
    "\n",
    "* [📓 SQL Cookbook](https://www.kaggle.com/olgabelitskaya/sql-cookbook)\n",
    "\n",
    "\n",
    "* [📓 SQL Cookbook 2](https://www.kaggle.com/olgabelitskaya/sql-cookbook2)\n",
    "\n",
    "\n",
    "* [📓 Sklearn Cookbook](https://www.kaggle.com/olgabelitskaya/sklearn-cookbook)\n",
    "\n",
    "\n",
    "* [📓 Keras Cookbook](https://www.kaggle.com/olgabelitskaya/keras-cookbook)\n",
    "\n",
    "\n",
    "* [📓 OpenCV Cookbook](https://www.kaggle.com/olgabelitskaya/opencv-cookbook)\n"
   ]
  },
  {
   "cell_type": "markdown",
   "metadata": {},
   "source": [
    "<br/><details><summary> Visualization Exercises</summary>\n",
    "\n",
    "* [📓 Plotting Exercises](https://www.kaggle.com/olgabelitskaya/plotting-exercises)\n",
    "\n",
    "\n",
    "* [📓 Plotting Exercises 2](https://www.kaggle.com/olgabelitskaya/plotting-exercises-2)\n",
    "\n",
    "\n",
    "* [📓 Plotting Exercises 3](https://www.kaggle.com/olgabelitskaya/plotting-exercises-3)\n",
    "\n",
    "\n",
    "* [📓 Plotting Exercises R](https://www.kaggle.com/olgabelitskaya/plotting-exercises-r)\n",
    "\n",
    "\n",
    "* [📓 Plotting Exercises R 2](https://www.kaggle.com/olgabelitskaya/plotting-exercises-r-2)"
   ]
  },
  {
   "cell_type": "markdown",
   "metadata": {},
   "source": [
    "## &#x1F4D1; &nbsp; Colaboratory Notebooks\n",
    "<br/><details><summary>Common Training</summary>\n",
    "\n",
    "#### [📓 digits.ipynb](https://colab.research.google.com/drive/1eqk81yU_y7t6Rridkgli_C7LwPLUFvH2)\n",
    "#### [📓 digit_generator.ipynb](https://colab.research.google.com/drive/1E3_kWFkGdSHycM4x25D9Q6PdMEL9oXhM)\n",
    "#### [📓 boston_regression.ipynb ](https://drive.google.com/open?id=1atPu92jNJ-qBsFpbOiMojHGXCu6gJWYW)\n"
   ]
  },
  {
   "cell_type": "markdown",
   "metadata": {},
   "source": [
    "<br/><details><summary>Cookbooks</summary>\n",
    "\n",
    "#### [📓 Keras Py](https://colab.research.google.com/drive/16Xh8T4fPuk0AIBjnCo7e9WTrF1PgukoF) \n",
    "#### [📓 Sklearn Py](https://colab.research.google.com/drive/1SzhiPlKpabufNxHuknvktwxPW06utBGC)\n",
    "#### [📓 SQL Py](https://drive.google.com/open?id=1eBNz-GA6w0AhdsKHqtxkrIm1bIYk_X9d) \n",
    "#### [📓 SQL Py 2](https://drive.google.com/open?id=1_--QDZPF0mE7Pw4W2Oxm8XPp7VaPXq-M) "
   ]
  },
  {
   "cell_type": "markdown",
   "metadata": {},
   "source": [
    "<br/><details><summary>My Own Projects</summary>\n",
    "\n",
    "#### [📓 flower_classification.ipynb ](https://drive.google.com/open?id=1H2ArWH_1kYfkIoCbxleX-aHAozRVBAdB)\n",
    "#### [📓 letter_recognition.ipynb](https://drive.google.com/open?id=1Z9Fz0OOi6bpWvH-H2OhExC9CkGPWBYZz)\n",
    "#### [📓 letter_generator.ipynb](https://drive.google.com/open?id=19B40eERSKfVO5zsizehxPOLdhLs5YcUT)\n",
    "#### [📓 style_recognition.ipynb](https://drive.google.com/open?id=1r5yRD-3tQwN6lSql_VRoVuwQ8DaY5zUt)\n",
    "#### [📓 decor_classification.ipynb](https://drive.google.com/open?id=1Tt3qZePsf2P6kNNao-hQ58DlG71Abj5a)\n",
    "#### [📓 style_transfer.ipynb](https://drive.google.com/open?id=1svW40BBscfSLD7Je99TyctBeRWIOYHKa)\n",
    "#### [📓 style_transfer_2.ipynb](https://colab.research.google.com/drive/1IS_6BqJDLVbJJsuTuWTr3OfGP5uEu2eV)\n"
   ]
  },
  {
   "cell_type": "code",
   "execution_count": 30,
   "metadata": {},
   "outputs": [
    {
     "data": {
      "text/html": [
       "<style>\n",
       "@import url('https://fonts.googleapis.com/css?family=Orbitron|Roboto');\n",
       "body {background-color:#CBE5FA;}\n",
       "h1,h3 {color:#3883C2; font-family:Orbitron; text-shadow:4px 4px 4px #aaa;}\n",
       "h2,summary {color:#346187; font-family:Orbitron; text-shadow:4px 4px 4px #aaa;}\n",
       "h4,a {color:#slategray; font-family:Roboto;}\n",
       "div.input_prompt {color:white} \n",
       "div.text_cell_render {color:slategray}\n",
       "span {text-shadow:4px 4px 4px #ccc;}   \n",
       "</style>\n",
       "<script>\n",
       "code_show=true; \n",
       "function code_display() {\n",
       "    if (code_show) {\n",
       "        $('div.input').each(function(id) {\n",
       "            if (id==0 || $(this).html().indexOf('hide_code')>-1) {$(this).hide();}\n",
       "        });\n",
       "        $('div.output_prompt').css('opacity',0);\n",
       "    } else {\n",
       "        $('div.input').each(function(id) {$(this).show();});\n",
       "        $('div.output_prompt').css('opacity',1);\n",
       "    };\n",
       "    code_show=!code_show;\n",
       "} \n",
       "$(document).ready(code_display);\n",
       "</script>\n",
       "<form action=\"javascript: code_display()\">\n",
       "<input style=\"color:slategray; font-family:Orbitron; background:#CBE5FA; opacity:.8;\" \\ \n",
       "type=\"submit\" value=\"click to display or hide code cells\">\n",
       "</form>"
      ],
      "text/plain": [
       "<IPython.core.display.HTML object>"
      ]
     },
     "metadata": {},
     "output_type": "display_data"
    }
   ],
   "source": [
    "%%html\n",
    "<style>\n",
    "@import url('https://fonts.googleapis.com/css?family=Orbitron|Roboto');\n",
    "body {background-color:#CBE5FA;}\n",
    "h1,h3 {color:#3883C2; font-family:Orbitron; text-shadow:4px 4px 4px #aaa;}\n",
    "h2,summary {color:#346187; font-family:Orbitron; text-shadow:4px 4px 4px #aaa;}\n",
    "h4,a {color:#slategray; font-family:Roboto;}\n",
    "div.input_prompt {color:white} \n",
    "div.text_cell_render {color:slategray}\n",
    "span {text-shadow:4px 4px 4px #ccc;}   \n",
    "</style>\n",
    "<script>\n",
    "code_show=true; \n",
    "function code_display() {\n",
    "    if (code_show) {\n",
    "        $('div.input').each(function(id) {\n",
    "            if (id==0 || $(this).html().indexOf('hide_code')>-1) {$(this).hide();}\n",
    "        });\n",
    "        $('div.output_prompt').css('opacity',0);\n",
    "    } else {\n",
    "        $('div.input').each(function(id) {$(this).show();});\n",
    "        $('div.output_prompt').css('opacity',1);\n",
    "    };\n",
    "    code_show=!code_show;\n",
    "} \n",
    "$(document).ready(code_display);\n",
    "</script>\n",
    "<form action=\"javascript: code_display()\">\n",
    "<input style=\"color:slategray; font-family:Orbitron; background:#CBE5FA; opacity:.8;\" \\ \n",
    "type=\"submit\" value=\"click to display or hide code cells\">\n",
    "</form>"
   ]
  }
 ],
 "metadata": {
  "kernelspec": {
   "display_name": "SageMath 9.0",
   "language": "sage",
   "name": "sagemath"
  },
  "language_info": {
   "codemirror_mode": {
    "name": "ipython",
    "version": 3
   },
   "file_extension": ".py",
   "mimetype": "text/x-python",
   "name": "python",
   "nbconvert_exporter": "python",
   "pygments_lexer": "ipython3",
   "version": "3.7.3"
  }
 },
 "nbformat": 4,
 "nbformat_minor": 2
}
