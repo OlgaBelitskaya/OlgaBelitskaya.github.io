{
 "cells": [
  {
   "cell_type": "markdown",
   "metadata": {},
   "source": [
    "# &#x1F3D9; &nbsp;  Online Practice Courses\n",
    "#### [back to the main page](https://olgabelitskaya.github.io/README.html)"
   ]
  },
  {
   "cell_type": "markdown",
   "metadata": {},
   "source": [
    "## &#x1F4D1;  Cookbooks\n",
    "### Webpages\n",
    "#### Keras Python &nbsp; [&#x1F310;](https://olgabelitskaya.github.io/keras_cookbook.html) &nbsp; Keras R &nbsp; [&#x1F310;](https://olgabelitskaya.github.io/keras_cookbook_r.html) &nbsp; Sklearn Python&nbsp; [&#x1F310;](https://olgabelitskaya.github.io/sklearn_cookbook.html) &nbsp; TensorFlow Python &nbsp; [&#x1F310;](https://olgabelitskaya.github.io/tensorflow_cookbook.html) &nbsp; OpenCV Python &nbsp; [&#x1F310;](https://olgabelitskaya.github.io/opencv_cookbook.html)\n",
    "### Interactive\n",
    "#### [Sklearn Python + SageMath Cell](https://olgabelitskaya.github.io/sklearn_cookbook_sagecells.html) &nbsp; [Keras Python + Google Colab](https://colab.research.google.com/drive/16Xh8T4fPuk0AIBjnCo7e9WTrF1PgukoF)"
   ]
  },
  {
   "cell_type": "markdown",
   "metadata": {},
   "source": [
    "## &#x1F4D1;  Online Mini Campus \n",
    "### SageMathCell Practice & Wolfram \"Translation\"\n",
    "#### [SageMath PART 1](https://olgabelitskaya.github.io/sage.html) &nbsp; 📓 [Wolfram NB Part 1](https://www.wolframcloud.com/obj/safuolga/Published/wolfram.nb)\n",
    "#### [SageMath PART 2](https://olgabelitskaya.github.io/sage2.html) &nbsp; 📓 [Wolfram NB Part 2](https://www.wolframcloud.com/obj/safuolga/Published/wolfram2.nb)\n",
    "#### [SageMath PART 3](https://olgabelitskaya.github.io/sage3.html) &nbsp; 📓 [Wolfram NB Part 3](https://www.wolframcloud.com/obj/safuolga/Published/wolfram3.nb)\n",
    "#### [SageMath PART 4](https://olgabelitskaya.github.io/sage4.html) &nbsp; 📓 [Wolfram NB Part 4](https://www.wolframcloud.com/obj/safuolga/Published/wolfram4.nb)\n",
    "#### [SageMath PART 5](https://olgabelitskaya.github.io/sage5.html) &nbsp; 📓 [Wolfram NB Part 5](https://www.wolframcloud.com/obj/safuolga/Published/wolfram5.nb)\n",
    "#### [SageMath PART 6](https://olgabelitskaya.github.io/sage6.html) &nbsp; 📓 [Wolfram NB Part 6](https://www.wolframcloud.com/obj/safuolga/Published/wolfram6.nb)\n",
    "#### [SageMath PART 7](https://olgabelitskaya.github.io/sage7.html) &nbsp; 📓 [Wolfram NB Part 7](https://www.wolframcloud.com/obj/safuolga/Published/wolfram7.nb)\n",
    "#### [SageMath PART 8](https://olgabelitskaya.github.io/sage8.html) &nbsp; 📓 [Wolfram NB Part 8](https://www.wolframcloud.com/obj/safuolga/Published/wolfram8.nb)\n",
    "#### [SageMath PART 9](https://olgabelitskaya.github.io/sage9.html) &nbsp; 📓 [Wolfram NB Part 9](https://www.wolframcloud.com/obj/safuolga/Published/wolfram9.nb)\n",
    "#### [SageMath PART 10](https://olgabelitskaya.github.io/sage10.html) &nbsp; 📓 [Wolfram NB Part 10](https://www.wolframcloud.com/obj/safuolga/Published/wolfram10.nb)\n",
    "#### [SageMath PART 11](https://olgabelitskaya.github.io/sage11.html) &nbsp; 📓 [Wolfram NB Part 11](https://www.wolframcloud.com/obj/safuolga/Published/wolfram11.nb) \n",
    "#### [SageMath PART 12](https://olgabelitskaya.github.io/sage12.html) &nbsp; 📓 [Wolfram NB Part 12](https://www.wolframcloud.com/obj/safuolga/Published/wolfram12.nb)\n",
    "#### [SageMath PART 13](https://olgabelitskaya.github.io/sage13.html) &nbsp; 📓 [Wolfram NB Part 13](https://www.wolframcloud.com/obj/safuolga/Published/wolfram13.nb)\n",
    "#### [SageMath PART 14](https://olgabelitskaya.github.io/sage14.html) &nbsp; 📓 [Wolfram NB Part 14](https://www.wolframcloud.com/obj/safuolga/Published/wolfram14.nb)\n",
    "#### [SageMath PART 15](https://olgabelitskaya.github.io/sage15.html) &nbsp; 📓 [Wolfram NB Part 15](https://www.wolframcloud.com/obj/safuolga/Published/wolfram15.nb)\n",
    "#### [SageMath PART 16](https://olgabelitskaya.github.io/sage16.html) &nbsp; 📓 [Wolfram NB Part 16](https://www.wolframcloud.com/obj/safuolga/Published/wolfram16.nb)\n",
    "#### [SageMath PART 17](https://olgabelitskaya.github.io/sage17.html) &nbsp; 📓 [Wolfram NB Part 17](https://www.wolframcloud.com/obj/safuolga/Published/wolfram17.nb)\n",
    "#### [SageMath PART 18](https://olgabelitskaya.github.io/sage18.html) &nbsp; 📓 [Wolfram NB Part 18](https://www.wolframcloud.com/obj/safuolga/Published/wolfram18.nb) \n",
    "#### [SageMath PART 19](https://olgabelitskaya.github.io/sage19.html) &nbsp; 📓 [Wolfram NB Part 19](https://www.wolframcloud.com/obj/safuolga/Published/wolfram19.nb)\n",
    "#### [SageMath PART 20](https://olgabelitskaya.github.io/sage20.html) &nbsp; 📓 [Wolfram NB Part 20](https://www.wolframcloud.com/obj/safuolga/Published/wolfram20.nb)\n",
    "#### [SageMath PART 21](https://olgabelitskaya.github.io/sage21.html) &nbsp; 📓 [Wolfram NB Part 21](https://www.wolframcloud.com/obj/safuolga/Published/wolfram21.nb)\n",
    "#### [SageMath PART 22](https://olgabelitskaya.github.io/sage22.html) &nbsp; 📓 [Wolfram NB Part 22](https://www.wolframcloud.com/obj/safuolga/Published/wolfram22.nb) \n",
    "#### [SageMath PART 23](https://olgabelitskaya.github.io/sage23.html) &nbsp; 📓 [Wolfram NB Part 23](https://www.wolframcloud.com/obj/safuolga/Published/wolfram23.nb)\n",
    "#### [SageMath PART 24](https://olgabelitskaya.github.io/sage24.html) &nbsp; 📓 [Wolfram NB Part 24](https://www.wolframcloud.com/obj/safuolga/Published/wolfram24.nb)"
   ]
  },
  {
   "cell_type": "markdown",
   "metadata": {},
   "source": [
    "## &#x1F4D1; &nbsp; Interview and Technical Interview Practice.\n",
    "#### Udacity_Interview_Practice.ipynb &nbsp; [&#x1F310;](https://gist.github.com/OlgaBelitskaya/1ddb287592832cf581fc122d6bc2732e)\n",
    "#### Udacity_Technical_Interview_Practice_Lessons.ipynb &nbsp; [&#x1F310;](https://gist.github.com/OlgaBelitskaya/a6cb19e1f3a041e6f6a56ccf58b4701c)\n",
    "#### Udacity_Technical_Interview_Practice_Project.ipynb &nbsp; [&#x1F310;](https://gist.github.com/OlgaBelitskaya/849e983dd6e90943d5760be4c4986501)"
   ]
  },
  {
   "cell_type": "code",
   "execution_count": 1,
   "metadata": {},
   "outputs": [
    {
     "data": {
      "text/html": [
       "<style>\n",
       "@import url('https://fonts.googleapis.com/css?family=Orbitron');\n",
       "@import url('https://fonts.googleapis.com/css?family=Roboto');\n",
       "body {background-color: #CBE5FA;}\n",
       "a {color: slategray; font-family: Roboto;}\n",
       "h1, h2 {color: #3883c2; font-family: Orbitron; text-shadow: 4px 4px 4px #aaa;}\n",
       "h3 {color: #346187; font-family: Orbitron; text-shadow: 4px 4px 4px #aaa;}\n",
       "h4 {color: #slategray; font-family: Roboto;}\n",
       "div.input_prompt {color: white;} \n",
       "div.text_cell_render {color: slategray}\n",
       "span {text-shadow: 4px 4px 4px #ccc;}   \n",
       "</style>"
      ],
      "text/plain": [
       "<IPython.core.display.HTML object>"
      ]
     },
     "metadata": {},
     "output_type": "display_data"
    }
   ],
   "source": [
    "%%html\n",
    "<style>\n",
    "@import url('https://fonts.googleapis.com/css?family=Orbitron');\n",
    "@import url('https://fonts.googleapis.com/css?family=Roboto');\n",
    "body {background-color: #CBE5FA;}\n",
    "a {color: slategray; font-family: Roboto;}\n",
    "h1, h2 {color: #3883c2; font-family: Orbitron; text-shadow: 4px 4px 4px #aaa;}\n",
    "h3 {color: #346187; font-family: Orbitron; text-shadow: 4px 4px 4px #aaa;}\n",
    "h4 {color: #slategray; font-family: Roboto;}\n",
    "div.input_prompt {color: white;} \n",
    "div.text_cell_render {color: slategray}\n",
    "span {text-shadow: 4px 4px 4px #ccc;}   \n",
    "</style>"
   ]
  }
 ],
 "metadata": {
  "kernelspec": {
   "display_name": "SageMath 8.8",
   "language": "sage",
   "name": "sagemath"
  },
  "language_info": {
   "codemirror_mode": {
    "name": "ipython",
    "version": 2
   },
   "file_extension": ".py",
   "mimetype": "text/x-python",
   "name": "python",
   "nbconvert_exporter": "python",
   "pygments_lexer": "ipython2",
   "version": "2.7.15"
  }
 },
 "nbformat": 4,
 "nbformat_minor": 2
}
