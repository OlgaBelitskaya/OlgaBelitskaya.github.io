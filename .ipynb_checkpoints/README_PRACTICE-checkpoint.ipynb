{
 "cells": [
  {
   "cell_type": "markdown",
   "metadata": {},
   "source": [
    "# &#x1F3D9; &nbsp;  Online Practice Courses\n",
    "#### [back to the main page](https://olgabelitskaya.github.io/README.html)"
   ]
  },
  {
   "cell_type": "markdown",
   "metadata": {},
   "source": [
    "## &#x1F4D1;  Cookbooks\n",
    "#### Webpages\n",
    "### Keras Python &nbsp; [&#x1F310;](https://olgabelitskaya.github.io/keras_cookbook.html) &nbsp; Keras R &nbsp; [&#x1F310;](https://olgabelitskaya.github.io/keras_cookbook_r.html) \n",
    "### Sklearn Python&nbsp; [&#x1F310;](https://olgabelitskaya.github.io/sklearn_cookbook.html) &nbsp; TensorFlow Python &nbsp; [&#x1F310;](https://olgabelitskaya.github.io/tensorflow_cookbook.html) \n",
    "### OpenCV Python &nbsp; [&#x1F310;](https://olgabelitskaya.github.io/opencv_cookbook.html)\n",
    "#### With Interactive Code Cells\n",
    "### [Sklearn Python](https://olgabelitskaya.github.io/sklearn_cookbook_sagecells.html)  \n",
    "#### Google Colaboratory\n",
    "### [Keras Python](https://colab.research.google.com/drive/16Xh8T4fPuk0AIBjnCo7e9WTrF1PgukoF)"
   ]
  },
  {
   "cell_type": "markdown",
   "metadata": {},
   "source": [
    "## &#x1F4D1;  Online Mini Campus \n",
    "#### SageMathCell Practice & Wolfram \"Translation\"\n",
    "### 📓 [SageMath PART 1](https://olgabelitskaya.github.io/sage.html) &nbsp; 📓 [Wolfram NB Part 1](https://www.wolframcloud.com/obj/safuolga/Published/wolfram.nb)\n",
    "### 📓 [SageMath PART 2](https://olgabelitskaya.github.io/sage2.html) &nbsp; 📓 [Wolfram NB Part 2](https://www.wolframcloud.com/obj/safuolga/Published/wolfram2.nb)\n",
    "### 📓 [SageMath PART 3](https://olgabelitskaya.github.io/sage3.html) &nbsp; 📓 [Wolfram NB Part 3](https://www.wolframcloud.com/obj/safuolga/Published/wolfram3.nb)\n",
    "### 📓 [SageMath PART 4](https://olgabelitskaya.github.io/sage4.html) &nbsp; 📓 [Wolfram NB Part 4](https://www.wolframcloud.com/obj/safuolga/Published/wolfram4.nb)\n",
    "### 📓 [SageMath PART 5](https://olgabelitskaya.github.io/sage5.html) &nbsp; 📓 [Wolfram NB Part 5](https://www.wolframcloud.com/obj/safuolga/Published/wolfram5.nb)\n",
    "### 📓 [SageMath PART 6](https://olgabelitskaya.github.io/sage6.html) &nbsp; 📓 [Wolfram NB Part 6](https://www.wolframcloud.com/obj/safuolga/Published/wolfram6.nb)\n",
    "### 📓 [SageMath PART 7](https://olgabelitskaya.github.io/sage7.html) &nbsp; 📓 [Wolfram NB Part 7](https://www.wolframcloud.com/obj/safuolga/Published/wolfram7.nb)\n",
    "### 📓 [SageMath PART 8](https://olgabelitskaya.github.io/sage8.html) &nbsp; 📓 [Wolfram NB Part 8](https://www.wolframcloud.com/obj/safuolga/Published/wolfram8.nb)\n",
    "### 📓 [SageMath PART 9](https://olgabelitskaya.github.io/sage9.html) &nbsp; 📓 [Wolfram NB Part 9](https://www.wolframcloud.com/obj/safuolga/Published/wolfram9.nb)\n",
    "### 📓 [SageMath PART 10](https://olgabelitskaya.github.io/sage10.html) &nbsp; 📓 [Wolfram NB Part 10](https://www.wolframcloud.com/obj/safuolga/Published/wolfram10.nb)\n",
    "### 📓 [SageMath PART 11](https://olgabelitskaya.github.io/sage11.html) &nbsp; 📓 [Wolfram NB Part 11](https://www.wolframcloud.com/obj/safuolga/Published/wolfram11.nb) \n",
    "### 📓 [SageMath PART 12](https://olgabelitskaya.github.io/sage12.html) &nbsp; 📓 [Wolfram NB Part 12](https://www.wolframcloud.com/obj/safuolga/Published/wolfram12.nb)\n",
    "### 📓 [SageMath PART 13](https://olgabelitskaya.github.io/sage13.html) &nbsp; 📓 [Wolfram NB Part 13](https://www.wolframcloud.com/obj/safuolga/Published/wolfram13.nb)\n",
    "### 📓 [SageMath PART 14](https://olgabelitskaya.github.io/sage14.html) &nbsp; 📓 [Wolfram NB Part 14](https://www.wolframcloud.com/obj/safuolga/Published/wolfram14.nb)\n",
    "### 📓 [SageMath PART 15](https://olgabelitskaya.github.io/sage15.html) &nbsp; 📓 [Wolfram NB Part 15](https://www.wolframcloud.com/obj/safuolga/Published/wolfram15.nb)\n",
    "### 📓 [SageMath PART 16](https://olgabelitskaya.github.io/sage16.html) &nbsp; 📓 [Wolfram NB Part 16](https://www.wolframcloud.com/obj/safuolga/Published/wolfram16.nb)\n",
    "### 📓 [SageMath PART 17](https://olgabelitskaya.github.io/sage17.html) &nbsp; 📓 [Wolfram NB Part 17](https://www.wolframcloud.com/obj/safuolga/Published/wolfram17.nb)\n",
    "### 📓 [SageMath PART 18](https://olgabelitskaya.github.io/sage18.html) &nbsp; 📓 [Wolfram NB Part 18](https://www.wolframcloud.com/obj/safuolga/Published/wolfram18.nb) \n",
    "### 📓 [SageMath PART 19](https://olgabelitskaya.github.io/sage19.html) &nbsp; 📓 [Wolfram NB Part 19](https://www.wolframcloud.com/obj/safuolga/Published/wolfram19.nb)\n",
    "### 📓 [SageMath PART 20](https://olgabelitskaya.github.io/sage20.html) &nbsp; 📓 [Wolfram NB Part 20](https://www.wolframcloud.com/obj/safuolga/Published/wolfram20.nb)\n",
    "### 📓 [SageMath PART 21](https://olgabelitskaya.github.io/sage21.html) &nbsp; 📓 [Wolfram NB Part 21](https://www.wolframcloud.com/obj/safuolga/Published/wolfram21.nb)\n",
    "### 📓 [SageMath PART 22](https://olgabelitskaya.github.io/sage22.html) &nbsp; 📓 [Wolfram NB Part 22](https://www.wolframcloud.com/obj/safuolga/Published/wolfram22.nb) \n",
    "### 📓 [SageMath PART 23](https://olgabelitskaya.github.io/sage23.html) &nbsp; 📓 [Wolfram NB Part 23](https://www.wolframcloud.com/obj/safuolga/Published/wolfram23.nb)\n",
    "### 📓 [SageMath PART 24](https://olgabelitskaya.github.io/sage24.html) &nbsp; 📓 [Wolfram NB Part 24](https://www.wolframcloud.com/obj/safuolga/Published/wolfram24.nb)"
   ]
  },
  {
   "cell_type": "markdown",
   "metadata": {},
   "source": [
    "# &#x1F4D1; &nbsp; Linear Algebra Practice\n",
    "#### Практические работы по линейной алгебре\n",
    "\n",
    "### &#x1F300; &nbsp; [№ 0](https://olgabelitskaya.github.io/linear_algebra_practice/work0.html) Элементы комбинаторики. Подстановка\n",
    "\n",
    "### &#x1F300; &nbsp; [№ 1](https://olgabelitskaya.github.io/linear_algebra_practice/work1.html) Матрицы. Часть 1\n",
    "\n",
    "### &#x1F300; &nbsp; [№ 2](https://olgabelitskaya.github.io/linear_algebra_practice/work2.html) Матрицы. Часть 2\n",
    "\n",
    "### &#x1F300; &nbsp; [№ 3](https://olgabelitskaya.github.io/linear_algebra_practice/work3.html) Определители, миноры и алгебраические дополнения\n",
    "\n",
    "### &#x1F300; &nbsp; [№ 4](https://olgabelitskaya.github.io/linear_algebra_practice/work4.html) Обратная матрица, ранг матрицы\n",
    "\n",
    "### &#x1F300; &nbsp; [№ 5](https://olgabelitskaya.github.io/linear_algebra_practice/work5.html) Системы линейных уравнений\n",
    "\n",
    "### &#x1F300; &nbsp; [№ 6](https://olgabelitskaya.github.io/linear_algebra_practice/work6.html) Комплексные числа\n",
    "\n",
    "### &#x1F300; &nbsp; [№ 7](https://olgabelitskaya.github.io/linear_algebra_practice/work7.html) Векторы\n",
    "\n",
    "### &#x1F300; &nbsp; [№ 8](https://olgabelitskaya.github.io/linear_algebra_practice/work8.html) Прямые\n",
    "\n",
    "### &#x1F300; &nbsp; [№ 9](https://olgabelitskaya.github.io/linear_algebra_practice/work9.html) Плоскости\n",
    "\n",
    "### &#x1F300; &nbsp; [№ 10](https://olgabelitskaya.github.io/linear_algebra_practice/work10.html) Линии второго порядка\n",
    "\n",
    "### &#x1F300; &nbsp; [№ 11](https://olgabelitskaya.github.io/linear_algebra_practice/work11.html) Поверхности второго порядка\n",
    "\n",
    "### &#x1F300; &nbsp; [№ 12](https://olgabelitskaya.github.io/linear_algebra_practice/work12.html) Линейные пространства. Линейные преобразования и операторы\n",
    "\n",
    "### &#x1F300; &nbsp; [№ 13](https://olgabelitskaya.github.io/linear_algebra_practice/work13.html) Логика\n",
    "\n",
    "### &#x1F300; &nbsp; [№ 14](https://olgabelitskaya.github.io/linear_algebra_practice/work14.html) Тензоры"
   ]
  },
  {
   "cell_type": "markdown",
   "metadata": {},
   "source": [
    "## &#x1F4D1; &nbsp; Interactive Sources for Instagram Posts\n",
    "\n",
    "#### SageMathCell\n",
    "### &#x1F300; &nbsp; [Part 1](https://olgabelitskaya.github.io/instagram.html) &nbsp; &#x1F300; &nbsp; [Part 2](https://olgabelitskaya.github.io/instagram2.html) &nbsp; &#x1F300; &nbsp; [Part 3](https://olgabelitskaya.github.io/instagram3.html) &nbsp; &#x1F300; &nbsp; [Part 4](https://olgabelitskaya.github.io/instagram4.html)\n",
    "### &#x1F300; &nbsp; [Part 5](https://olgabelitskaya.github.io/instagram5.html) &nbsp; &#x1F300; &nbsp; [Part 6](https://olgabelitskaya.github.io/instagram6.html) &nbsp; &#x1F300; &nbsp; [Part 7](https://olgabelitskaya.github.io/instagram7.html) &nbsp; &#x1F300; &nbsp; [Part 8](https://olgabelitskaya.github.io/instagram8.html)\n",
    "### &#x1F300; &nbsp; [Part 9](https://olgabelitskaya.github.io/instagram9.html) &nbsp; &#x1F300; &nbsp; [Part 10](https://olgabelitskaya.github.io/instagram10.html) &nbsp; &#x1F300; &nbsp; [Part 11](https://olgabelitskaya.github.io/instagram11.html) &nbsp; &#x1F300; &nbsp; [Part 12](https://olgabelitskaya.github.io/instagram12.html)\n",
    "\n",
    "#### WolframCloud\n",
    "### 📓 &nbsp; [Wolfram NB Part 1](https://www.wolframcloud.com/obj/safuolga/Published/instagram.nb)\n",
    "### 📓 [Wolfram NB Part 2](https://www.wolframcloud.com/obj/safuolga/Published/instagram2.nb)\n",
    "### 📓 [Wolfram NB Part 3](https://www.wolframcloud.com/obj/safuolga/Published/instagram3.nb)\n",
    "### 📓 [Wolfram NB Part 4](https://www.wolframcloud.com/obj/safuolga/Published/instagram4.nb)\n",
    "\n",
    "#### Google Colaboratory\n",
    "### 📓 &nbsp; [function_plotting_js.ipynb](https://colab.research.google.com/drive/1nHCQV8glR7S3H3mWFJqlOMzWSwsue8pG)\n",
    "### 📓 &nbsp; [function_plotting_py.ipynb](https://colab.research.google.com/drive/1UbPaXtrQBhW5eHFCG0l37svA2bl0HGUj)"
   ]
  },
  {
   "cell_type": "markdown",
   "metadata": {},
   "source": [
    "## &#x1F4D1; &nbsp; Machine Learning for Trading\n",
    "\n",
    "## $\\mathfrak {Python}$ \n",
    "### Part 1  [&#x1F310;](https://github.com/OlgaBelitskaya/reflection2/blob/master/c_bank_Py_part1.ipynb) &nbsp; Part 2  [&#x1F310;](https://github.com/OlgaBelitskaya/reflection2/blob/master/c_bank_Py_part2.ipynb) &nbsp; Part 3  [&#x1F310;](https://github.com/OlgaBelitskaya/reflection2/blob/master/c_bank_Py_part3.ipynb)\n",
    "\n",
    "## $\\large{\\mathfrak {R}}$ \n",
    "### Part 1  [&#x1F310;](https://github.com/OlgaBelitskaya/large-repo/blob/master/c_bank_R_part1.ipynb) &nbsp; Part 2  [&#x1F310;](https://github.com/OlgaBelitskaya/large-repo/blob/master/c_bank_R_part2.ipynb) &nbsp; Part 3  [&#x1F310;](https://github.com/OlgaBelitskaya/large-repo/blob/master/c_bank_R_part3.ipynb)"
   ]
  },
  {
   "cell_type": "markdown",
   "metadata": {},
   "source": [
    "## &#x1F4D1; &nbsp; Gradient Descent\n",
    "### Part 1  [&#x1F310;](https://olgabelitskaya.github.io/gradient_descent_part1.html) &nbsp; Part 2  [&#x1F310;](https://olgabelitskaya.github.io/gradient_descent_part2.html)"
   ]
  },
  {
   "cell_type": "code",
   "execution_count": 1,
   "metadata": {},
   "outputs": [
    {
     "data": {
      "text/html": [
       "<style>\n",
       "@import url('https://fonts.googleapis.com/css?family=Orbitron');\n",
       "@import url('https://fonts.googleapis.com/css?family=Roboto');\n",
       "body {background-color: #CBE5FA;}\n",
       "a {color: slategray; font-family: Roboto;}\n",
       "h1, h2 {color: #3883c2; font-family: Orbitron; text-shadow: 4px 4px 4px #aaa;}\n",
       "h3 {color: #346187; font-family: Orbitron; text-shadow: 4px 4px 4px #aaa;}\n",
       "h4 {color: #slategray; font-family: Roboto;}\n",
       "div.input_prompt {color: white;} \n",
       "div.text_cell_render {color: slategray}\n",
       "span {text-shadow: 4px 4px 4px #ccc;}   \n",
       "</style>"
      ],
      "text/plain": [
       "<IPython.core.display.HTML object>"
      ]
     },
     "metadata": {},
     "output_type": "display_data"
    }
   ],
   "source": [
    "%%html\n",
    "<style>\n",
    "@import url('https://fonts.googleapis.com/css?family=Orbitron');\n",
    "@import url('https://fonts.googleapis.com/css?family=Roboto');\n",
    "body {background-color: #CBE5FA;}\n",
    "a {color: slategray; font-family: Roboto;}\n",
    "h1, h2 {color: #3883c2; font-family: Orbitron; text-shadow: 4px 4px 4px #aaa;}\n",
    "h3 {color: #346187; font-family: Orbitron; text-shadow: 4px 4px 4px #aaa;}\n",
    "h4 {color: #slategray; font-family: Roboto;}\n",
    "div.input_prompt {color: white;} \n",
    "div.text_cell_render {color: slategray}\n",
    "span {text-shadow: 4px 4px 4px #ccc;}   \n",
    "</style>"
   ]
  }
 ],
 "metadata": {
  "kernelspec": {
   "display_name": "SageMath 8.8",
   "language": "sage",
   "name": "sagemath"
  },
  "language_info": {
   "codemirror_mode": {
    "name": "ipython",
    "version": 2
   },
   "file_extension": ".py",
   "mimetype": "text/x-python",
   "name": "python",
   "nbconvert_exporter": "python",
   "pygments_lexer": "ipython2",
   "version": "2.7.15"
  }
 },
 "nbformat": 4,
 "nbformat_minor": 2
}
