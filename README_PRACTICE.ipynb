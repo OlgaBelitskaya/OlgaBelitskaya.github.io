{
 "cells": [
  {
   "cell_type": "markdown",
   "metadata": {},
   "source": [
    "# &#x1F3D9; &nbsp;  Online Practice Courses &nbsp; &nbsp; &nbsp; &nbsp; &nbsp; &nbsp; &nbsp; &nbsp; &nbsp; &nbsp; &nbsp; &nbsp; &nbsp;<a href=\"https://olgabelitskaya.github.io/README.html\">&#x1F300; &nbsp; Home Page &nbsp; &nbsp;</a>"
   ]
  },
  {
   "cell_type": "markdown",
   "metadata": {},
   "source": [
    "## &#x1F4D1;  Cookbooks\n",
    "### &#x1F310; &nbsp; [click to view the github repository](https://github.com/OlgaBelitskaya/cookbooks)\n",
    "#### SageMathCell\n",
    "### [🌀 Sklearn Py](https://olgabelitskaya.github.io/sklearn_cookbook_sagecells.html)  &nbsp; &nbsp; [🌀 SQL Py](https://olgabelitskaya.github.io/sql_cookbook.html) &nbsp; &nbsp; [🌀 SQL Py 2](https://olgabelitskaya.github.io/sql_cookbook2.html)\n",
    "#### Google Colaboratory\n",
    "### [📓 Keras Py](https://colab.research.google.com/drive/16Xh8T4fPuk0AIBjnCo7e9WTrF1PgukoF) &nbsp; &nbsp; [📓 Sklearn Py](https://colab.research.google.com/drive/1SzhiPlKpabufNxHuknvktwxPW06utBGC) &nbsp; &nbsp; [📓 SQL Py](https://drive.google.com/open?id=1eBNz-GA6w0AhdsKHqtxkrIm1bIYk_X9d) &nbsp; &nbsp; [📓 SQL Py 2](https://drive.google.com/open?id=1_--QDZPF0mE7Pw4W2Oxm8XPp7VaPXq-M) \n",
    "### [📓 Digits Py](https://colab.research.google.com/drive/1eqk81yU_y7t6Rridkgli_C7LwPLUFvH2)\n",
    "#### Google Colaboratory Notebooks 2020\n",
    "### [📓 Sklearn Py](https://github.com/OlgaBelitskaya/cookbooks/blob/master/sklearnGC.ipynb) &nbsp; &nbsp; [📓 Keras Py](https://github.com/OlgaBelitskaya/cookbooks/blob/master/kerasGC.ipynb) &nbsp; &nbsp; [📓 SQL Py](https://github.com/OlgaBelitskaya/cookbooks/blob/master/sqlGC.ipynb) &nbsp; &nbsp; [📓 SQL Py 2](https://github.com/OlgaBelitskaya/cookbooks/blob/master/sqlGC2.ipynb)\n",
    "### [📓 Digits Py](https://github.com/OlgaBelitskaya/cookbooks/blob/master/digitsGC.ipynb)\n",
    "#### Jupyter Notebooks 2017-2019\n",
    "### [📓 Keras Py](https://github.com/OlgaBelitskaya/cookbooks/blob/master/keras_cookbook.ipynb) &nbsp; &nbsp; [📓 Keras R](https://github.com/OlgaBelitskaya/cookbooks/blob/master/keras_cookbook_r.ipynb) &nbsp; &nbsp; [📓 Sklearn Py](https://github.com/OlgaBelitskaya/cookbooks/blob/master/sklearn_cookbook.ipynb) &nbsp; &nbsp; [📓 OpenCV Py](https://github.com/OlgaBelitskaya/cookbooks/blob/master/opencv_cookbook.ipynb) &nbsp; &nbsp; [📓 TensorFlow Py](https://github.com/OlgaBelitskaya/cookbooks/blob/master/tensorflow_cookbook.ipynb)"
   ]
  },
  {
   "cell_type": "markdown",
   "metadata": {},
   "source": [
    "## &#x1F4D1;  Online Mini Campus \n",
    "### &#x1F310; &nbsp; [click to view the github repository](https://github.com/OlgaBelitskaya/online_mini_campus)\n",
    "#### SageMathCell Practice & Wolfram \"Translation\"\n",
    "### 🌀 [SageMath PART 1](https://olgabelitskaya.github.io/sage.html) &nbsp; 📓 [Wolfram NB Part 1](https://www.wolframcloud.com/obj/safuolga/Published/wolfram.nb)\n",
    "### 🌀 [SageMath PART 2](https://olgabelitskaya.github.io/sage2.html) &nbsp; 📓 [Wolfram NB Part 2](https://www.wolframcloud.com/obj/safuolga/Published/wolfram2.nb)\n",
    "### 🌀 [SageMath PART 3](https://olgabelitskaya.github.io/sage3.html) &nbsp; 📓 [Wolfram NB Part 3](https://www.wolframcloud.com/obj/safuolga/Published/wolfram3.nb)\n",
    "### 🌀 [SageMath PART 4](https://olgabelitskaya.github.io/sage4.html) &nbsp; 📓 [Wolfram NB Part 4](https://www.wolframcloud.com/obj/safuolga/Published/wolfram4.nb)\n",
    "### 🌀 [SageMath PART 5](https://olgabelitskaya.github.io/sage5.html) &nbsp; 📓 [Wolfram NB Part 5](https://www.wolframcloud.com/obj/safuolga/Published/wolfram5.nb)\n",
    "### 🌀 [SageMath PART 6](https://olgabelitskaya.github.io/sage6.html) &nbsp; 📓 [Wolfram NB Part 6](https://www.wolframcloud.com/obj/safuolga/Published/wolfram6.nb)\n",
    "### 🌀 [SageMath PART 7](https://olgabelitskaya.github.io/sage7.html) &nbsp; 📓 [Wolfram NB Part 7](https://www.wolframcloud.com/obj/safuolga/Published/wolfram7.nb)\n",
    "### 🌀 [SageMath PART 8](https://olgabelitskaya.github.io/sage8.html) &nbsp; 📓 [Wolfram NB Part 8](https://www.wolframcloud.com/obj/safuolga/Published/wolfram8.nb)\n",
    "### 🌀 [SageMath PART 9](https://olgabelitskaya.github.io/sage9.html) &nbsp; 📓 [Wolfram NB Part 9](https://www.wolframcloud.com/obj/safuolga/Published/wolfram9.nb)\n",
    "### 🌀 [SageMath PART 10](https://olgabelitskaya.github.io/sage10.html) &nbsp; 📓 [Wolfram NB Part 10](https://www.wolframcloud.com/obj/safuolga/Published/wolfram10.nb)\n",
    "### 🌀 [SageMath PART 11](https://olgabelitskaya.github.io/sage11.html) &nbsp; 📓 [Wolfram NB Part 11](https://www.wolframcloud.com/obj/safuolga/Published/wolfram11.nb) \n",
    "### 🌀 [SageMath PART 12](https://olgabelitskaya.github.io/sage12.html) &nbsp; 📓 [Wolfram NB Part 12](https://www.wolframcloud.com/obj/safuolga/Published/wolfram12.nb)\n",
    "### 🌀 [SageMath PART 13](https://olgabelitskaya.github.io/sage13.html) &nbsp; 📓 [Wolfram NB Part 13](https://www.wolframcloud.com/obj/safuolga/Published/wolfram13.nb)\n",
    "### 🌀 [SageMath PART 14](https://olgabelitskaya.github.io/sage14.html) &nbsp; 📓 [Wolfram NB Part 14](https://www.wolframcloud.com/obj/safuolga/Published/wolfram14.nb)\n",
    "### 🌀 [SageMath PART 15](https://olgabelitskaya.github.io/sage15.html) &nbsp; 📓 [Wolfram NB Part 15](https://www.wolframcloud.com/obj/safuolga/Published/wolfram15.nb)\n",
    "### 🌀 [SageMath PART 16](https://olgabelitskaya.github.io/sage16.html) &nbsp; 📓 [Wolfram NB Part 16](https://www.wolframcloud.com/obj/safuolga/Published/wolfram16.nb)\n",
    "### 🌀 [SageMath PART 17](https://olgabelitskaya.github.io/sage17.html) &nbsp; 📓 [Wolfram NB Part 17](https://www.wolframcloud.com/obj/safuolga/Published/wolfram17.nb)\n",
    "### 🌀 [SageMath PART 18](https://olgabelitskaya.github.io/sage18.html) &nbsp; 📓 [Wolfram NB Part 18](https://www.wolframcloud.com/obj/safuolga/Published/wolfram18.nb) \n",
    "### 🌀 [SageMath PART 19](https://olgabelitskaya.github.io/sage19.html) &nbsp; 📓 [Wolfram NB Part 19](https://www.wolframcloud.com/obj/safuolga/Published/wolfram19.nb)\n",
    "### 🌀 [SageMath PART 20](https://olgabelitskaya.github.io/sage20.html) &nbsp; 📓 [Wolfram NB Part 20](https://www.wolframcloud.com/obj/safuolga/Published/wolfram20.nb)\n",
    "### 🌀 [SageMath PART 21](https://olgabelitskaya.github.io/sage21.html) &nbsp; 📓 [Wolfram NB Part 21](https://www.wolframcloud.com/obj/safuolga/Published/wolfram21.nb)\n",
    "### 🌀 [SageMath PART 22](https://olgabelitskaya.github.io/sage22.html) &nbsp; 📓 [Wolfram NB Part 22](https://www.wolframcloud.com/obj/safuolga/Published/wolfram22.nb) \n",
    "### 🌀 [SageMath PART 23](https://olgabelitskaya.github.io/sage23.html) &nbsp; 📓 [Wolfram NB Part 23](https://www.wolframcloud.com/obj/safuolga/Published/wolfram23.nb)\n",
    "### 🌀 [SageMath PART 24](https://olgabelitskaya.github.io/sage24.html) &nbsp; 📓 [Wolfram NB Part 24](https://www.wolframcloud.com/obj/safuolga/Published/wolfram24.nb)"
   ]
  },
  {
   "cell_type": "markdown",
   "metadata": {},
   "source": [
    "## &#x1F4D1; &nbsp; Linear Algebra Practice\n",
    "### &#x1F310; &nbsp; [click to view the github repository](https://github.com/OlgaBelitskaya/linear_algebra_practice)\n",
    "#### Практические работы по линейной алгебре\n",
    "### &#x1F300; &nbsp; [№ 0](https://olgabelitskaya.github.io/linear_algebra_practice/work0.html) &nbsp; &#x1F300; &nbsp; [№ 1](https://olgabelitskaya.github.io/linear_algebra_practice/work1.html) &nbsp; &#x1F300; &nbsp; [№ 2](https://olgabelitskaya.github.io/linear_algebra_practice/work2.html) &nbsp; &#x1F300; &nbsp; [№ 3](https://olgabelitskaya.github.io/linear_algebra_practice/work3.html) &nbsp; &#x1F300; &nbsp; [№ 4](https://olgabelitskaya.github.io/linear_algebra_practice/work4.html) &nbsp; &#x1F300; &nbsp; [№ 5](https://olgabelitskaya.github.io/linear_algebra_practice/work5.html) &nbsp; &#x1F300; &nbsp; [№ 6](https://olgabelitskaya.github.io/linear_algebra_practice/work6.html) &nbsp;  &#x1F300; &nbsp; [№ 7](https://olgabelitskaya.github.io/linear_algebra_practice/work7.html) \n",
    "### &#x1F300; &nbsp; [№ 8](https://olgabelitskaya.github.io/linear_algebra_practice/work8.html) &nbsp;  &#x1F300; &nbsp; [№ 9](https://olgabelitskaya.github.io/linear_algebra_practice/work9.html) &nbsp; &#x1F300; &nbsp; [№ 10](https://olgabelitskaya.github.io/linear_algebra_practice/work10.html) &nbsp; &#x1F300; &nbsp; [№ 11](https://olgabelitskaya.github.io/linear_algebra_practice/work11.html) &nbsp; &#x1F300; &nbsp; [№ 12](https://olgabelitskaya.github.io/linear_algebra_practice/work12.html) &nbsp; &#x1F300; &nbsp; [№ 13](https://olgabelitskaya.github.io/linear_algebra_practice/work13.html) &nbsp; &#x1F300; &nbsp; [№ 14](https://olgabelitskaya.github.io/linear_algebra_practice/work14.html)"
   ]
  },
  {
   "cell_type": "markdown",
   "metadata": {},
   "source": [
    "## &#x1F4D1; &nbsp; Interactive Sources for Instagram Posts\n",
    "### &#x1F310; &nbsp; [click to view the github repository](https://github.com/OlgaBelitskaya/instagram)\n",
    "#### SageMathCell\n",
    "### &#x1F300; &nbsp; [Part 1](https://olgabelitskaya.github.io/instagram.html) &nbsp; &#x1F300; &nbsp; [Part 2](https://olgabelitskaya.github.io/instagram2.html) &nbsp; &#x1F300; &nbsp; [Part 3](https://olgabelitskaya.github.io/instagram3.html) &nbsp; &#x1F300; &nbsp; [Part 4](https://olgabelitskaya.github.io/instagram4.html)\n",
    "### &#x1F300; &nbsp; [Part 5](https://olgabelitskaya.github.io/instagram5.html) &nbsp; &#x1F300; &nbsp; [Part 6](https://olgabelitskaya.github.io/instagram6.html) &nbsp; &#x1F300; &nbsp; [Part 7](https://olgabelitskaya.github.io/instagram7.html) &nbsp; &#x1F300; &nbsp; [Part 8](https://olgabelitskaya.github.io/instagram8.html)\n",
    "### &#x1F300; &nbsp; [Part 9](https://olgabelitskaya.github.io/instagram9.html) &nbsp; &#x1F300; &nbsp; [Part 10](https://olgabelitskaya.github.io/instagram10.html) &nbsp; &#x1F300; &nbsp; [Part 11](https://olgabelitskaya.github.io/instagram11.html) &nbsp; &#x1F300; &nbsp; [Part 12](https://olgabelitskaya.github.io/instagram12.html)\n",
    "#### WolframCloud\n",
    "### 📓 &nbsp; [Wolfram NB Part 1](https://www.wolframcloud.com/obj/safuolga/Published/instagram.nb) &nbsp; 📓 [Wolfram NB Part 2](https://www.wolframcloud.com/obj/safuolga/Published/instagram2.nb) &nbsp; 📓 [Wolfram NB Part 3](https://www.wolframcloud.com/obj/safuolga/Published/instagram3.nb) &nbsp; 📓 [Wolfram NB Part 4](https://www.wolframcloud.com/obj/safuolga/Published/instagram4.nb)\n",
    "#### Google Colaboratory\n",
    "### 📓 &nbsp; [function_plotting_js.ipynb](https://colab.research.google.com/drive/1nHCQV8glR7S3H3mWFJqlOMzWSwsue8pG) &nbsp; 📓 &nbsp; [function_plotting_py.ipynb](https://colab.research.google.com/drive/1UbPaXtrQBhW5eHFCG0l37svA2bl0HGUj)"
   ]
  },
  {
   "cell_type": "markdown",
   "metadata": {},
   "source": [
    "## &#x1F4D1; &nbsp; Machine Learning for Trading\n",
    "\n",
    "## $\\mathfrak {Python}$ \n",
    "### Part 1  [&#x1F310;](https://github.com/OlgaBelitskaya/reflection2/blob/master/c_bank_Py_part1.ipynb) &nbsp; Part 2  [&#x1F310;](https://github.com/OlgaBelitskaya/reflection2/blob/master/c_bank_Py_part2.ipynb) &nbsp; Part 3  [&#x1F310;](https://github.com/OlgaBelitskaya/reflection2/blob/master/c_bank_Py_part3.ipynb)\n",
    "\n",
    "## $\\large{\\mathfrak {R}}$ \n",
    "### Part 1  [&#x1F310;](https://github.com/OlgaBelitskaya/large-repo/blob/master/c_bank_R_part1.ipynb) &nbsp; Part 2  [&#x1F310;](https://github.com/OlgaBelitskaya/large-repo/blob/master/c_bank_R_part2.ipynb) &nbsp; Part 3  [&#x1F310;](https://github.com/OlgaBelitskaya/large-repo/blob/master/c_bank_R_part3.ipynb)"
   ]
  },
  {
   "cell_type": "markdown",
   "metadata": {},
   "source": [
    "## &#x1F4D1; &nbsp; Gradient Descent\n",
    "### Part 1  [&#x1F310;](https://olgabelitskaya.github.io/gradient_descent_part1.html) &nbsp; Part 2  [&#x1F310;](https://olgabelitskaya.github.io/gradient_descent_part2.html)"
   ]
  },
  {
   "cell_type": "code",
   "execution_count": 1,
   "metadata": {},
   "outputs": [
    {
     "data": {
      "text/html": [
       "<style>\n",
       "@import url('https://fonts.googleapis.com/css?family=Orbitron');\n",
       "@import url('https://fonts.googleapis.com/css?family=Roboto');\n",
       "body {background-color: #CBE5FA;}\n",
       "a {color: slategray; font-family: Roboto;}\n",
       "h1, h2 {color: #3883c2; font-family: Orbitron; text-shadow: 4px 4px 4px #aaa;}\n",
       "h3 {color: #346187; font-family: Orbitron; text-shadow: 4px 4px 4px #aaa;}\n",
       "h4 {color: #slategray; font-family: Roboto;}\n",
       "div.input_prompt {color: white;} \n",
       "div.text_cell_render {color: slategray}\n",
       "span {text-shadow: 4px 4px 4px #ccc;}   \n",
       "</style>"
      ],
      "text/plain": [
       "<IPython.core.display.HTML object>"
      ]
     },
     "metadata": {},
     "output_type": "display_data"
    }
   ],
   "source": [
    "%%html\n",
    "<style>\n",
    "@import url('https://fonts.googleapis.com/css?family=Orbitron');\n",
    "@import url('https://fonts.googleapis.com/css?family=Roboto');\n",
    "body {background-color: #CBE5FA;}\n",
    "a {color: slategray; font-family: Roboto;}\n",
    "h1, h2 {color: #3883c2; font-family: Orbitron; text-shadow: 4px 4px 4px #aaa;}\n",
    "h3 {color: #346187; font-family: Orbitron; text-shadow: 4px 4px 4px #aaa;}\n",
    "h4 {color: #slategray; font-family: Roboto;}\n",
    "div.input_prompt {color: white;} \n",
    "div.text_cell_render {color: slategray}\n",
    "span {text-shadow: 4px 4px 4px #ccc;}   \n",
    "</style>"
   ]
  }
 ],
 "metadata": {
  "kernelspec": {
   "display_name": "Python 3",
   "language": "python",
   "name": "python3"
  },
  "language_info": {
   "codemirror_mode": {
    "name": "ipython",
    "version": 3
   },
   "file_extension": ".py",
   "mimetype": "text/x-python",
   "name": "python",
   "nbconvert_exporter": "python",
   "pygments_lexer": "ipython3",
   "version": "3.8.1"
  }
 },
 "nbformat": 4,
 "nbformat_minor": 4
}
