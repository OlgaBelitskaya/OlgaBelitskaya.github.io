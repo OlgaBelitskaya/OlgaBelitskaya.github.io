{
 "cells": [
  {
   "cell_type": "markdown",
   "metadata": {},
   "source": [
    "# P3: OpenStreetMap Data Case Study. Dubai and Abu-Dhabi. Extraction.\n",
    "The full version of the project: \n",
    "https://github.com/OlgaBelitskaya/nd002_p3/blob/master/Data_Analyst_ND_Project3_Dubai-AbuDhabi_MongoDB.ipynb\n",
    "### 0. Code Resources\n",
    "#### 0.1. Code Library\n",
    "Basic resources for this project are software libraries for python and MondoDB.\n",
    "#### 0.2. References\n",
    "- https://wiki.openstreetmap.org/wiki/OSM_XML\n",
    "- http://learnosm.org/en/osm-data/getting-data/#downloading-data-extracts\n",
    "- https://mapzen.com/data/metro-extracts/\n",
    "- http://python-visualization.github.io/folium/quickstart.html\n",
    "- http://geopandas.org/mapping.html\n",
    "- https://borealperspectives.wordpress.com/2016/03/07/plotting-polygon-shapefiles-on-a-matplotlib-basemap-with-geopandas-shapely-and-descartes/\n",
    "- http://maxberggren.se/2015/08/04/basemap/\n",
    "- http://api.mongodb.com/python/current/tutorial.html\n",
    "- https://docs.mongodb.com/manual/reference/operator/query/\n",
    "\n",
    "#### 0.3. Code for Researching the Imported Files and Creating the Data.\n",
    "Сode snippets of the courses \"Intro to Relational Databases\", \"Data Wrangling with MongoDB\" (udacity.com) have been used here for downloading, analysing and cleaning the data. On this basis, several useful functions were built for these goals too.\n",
    "### 1. Map Area\n",
    "#### 1.1. The map\n",
    "I have chosen the map sector of the dynamically developing area in the UAE. For displaying the area I have used the package \"folium\" and the coordinates of this area in dubai_abu-dhabi.osm."
   ]
  },
  {
   "cell_type": "code",
   "execution_count": 11,
   "metadata": {
    "collapsed": false
   },
   "outputs": [
    {
     "data": {
      "text/html": [
       "<div style=\"width:100%;\"><div style=\"position:relative;width:100%;height:0;padding-bottom:60%;\"><iframe src=\"data:text/html;base64,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\" style=\"position:absolute;width:100%;height:100%;left:0;top:0;\"></iframe></div></div>"
      ],
      "text/plain": [
       "<folium.folium.Map at 0x111d63210>"
      ]
     },
     "execution_count": 11,
     "metadata": {},
     "output_type": "execute_result"
    }
   ],
   "source": [
    "import folium\n",
    "# Setup the coordinates of the map center and the zoom option.\n",
    "map_osm = folium.Map(location=[25.2048, 55.2708], zoom_start=8)\n",
    "# Add labels with coordinates.\n",
    "folium.LatLngPopup().add_to(map_osm)\n",
    "# Setup the coordinates of the map area.\n",
    "points=[[23.7350, 53.5800], [23.7350, 56.8870], [26.5390, 56.8870], [26.5390, 53.5800], [23.7350, 53.5800]]\n",
    "# Setup the border line with options.\n",
    "folium.PolyLine(points, color=\"red\", weight=5, opacity=0.3).add_to(map_osm)\n",
    "# Display the map.\n",
    "map_osm"
   ]
  },
  {
   "cell_type": "markdown",
   "metadata": {},
   "source": [
    "##### Bounds: minlat=\"23.7350\" minlon=\"53.5800\" maxlat=\"26.5390\" maxlon=\"56.8870\".\n",
    "#### 1.2 Extract with Python\n",
    "There are several ways to extract geodata. One of them is to do this with this python code cell. This set of commands allows us to upload a file in the format .osm using the coordinates of the rectangle corners."
   ]
  },
  {
   "cell_type": "code",
   "execution_count": 10,
   "metadata": {
    "collapsed": true
   },
   "outputs": [],
   "source": [
    "import urllib\n",
    "# file00 = urllib.URLopener()\n",
    "# file00.retrieve(\"http://overpass-api.de/api/map? bbox=53.5800,23.7350,56.8870,26.5390\", \"dubai_abu-dhabi0.osm\")"
   ]
  },
  {
   "cell_type": "markdown",
   "metadata": {},
   "source": [
    "#### 1.3 Extract from OpenStreetMaps.org\n",
    "Another possible way is extracting data files in many different formats from the website:\n",
    "    \n",
    "https://mapzen.com/data/metro-extracts/metro/dubai_abu-dhabi/ \n",
    "    \n",
    "The files dubai_abu-dhabi.osm, dubai_abu-dhabi_buildings.geojson, etc. were downloaded.\n",
    "#### 1.4. Size of downloaded files.\n",
    "- dubai_abu-dhabi0.osm:  404994999    \n",
    "- dubai_abu-dhabi.osm:  394382598    \n",
    "- dubai_abu-dhabi_admin.geojson:  1345560    \n",
    "- dubai_abu-dhabi_roads.geojson:  86725595   \n",
    "- dubai_abu-dhabi_waterareas.geojson:  2415039\n",
    "\n",
    "#### 1.5 Osm files\n",
    "This is not so large piece of data to process (394,4 MB) in the dubai_abu-dhabi .osm file and for me it is \n",
    "a very interesting subject for reseach because of many reasons.\n",
    "For example, it is a constant and rapidly changing territory with awesome ideas about area development.\n",
    "Applying the special function (§ 0.3) I created the sample_dubai_abu-dhabi.osm file from the dubai_abu-dhabi .osm file.\n",
    "\n",
    "Size of sample_dubai_abu-dhabi.osm:  3947501\n",
    "#### 1.6 Geojson files\n",
    "It's possible to download from OpenStreetMap several type of files: .osm, .geojson, etc.\n",
    "For displaying the data in .geojson files the package \"geopandas\" also can be useful. \n",
    "As an example you can see the fragments of the data frame for administrative borders, roads and water areas.\n",
    "\n",
    "The dimensionality of the data\n",
    "- dataframe for admin borders: (231, 6)\n",
    "- dataframe for roads: (130060, 13)\n",
    "- dataframe for water areas: (1510, 6)\n",
    "\n",
    "Example for the administrative borders:\n",
    "- admin_level\tgeometry\tid\tname\tosm_id\ttype\n",
    "\n",
    "0\t2.0\tPOLYGON ((56.20800613403377 25.25621456273814,...\t1.0\tعمان\t-305138.0\tadministrative\n",
    "\n",
    "1\t2.0\t(POLYGON ((53.97770508117634 25.22422729239028...\t2.0\tالإمارات العربيّة المتّحدة\t-307763.0\tadministrative\n",
    "\n",
    "2\t4.0\t(POLYGON ((54.71539805585797 25.06933869038014...\t3.0\tدبي‎\t-3766483.0\tadministrative\n",
    "#### 1.7 Shapefiles\n",
    "For displaying the data in shapefiles it's possible to apply the package \"basemap\". \n",
    "#### 1.8 Json file\n",
    "Applying the special function I created the dubai_abu-dhabi.osm.json from the dubai_abu-dhabi.osm file.\n",
    "### 2. Data (OSM)\n",
    "Let's discover the data in .osm files in details. It contains a lot of information of geographical objects.\n",
    "#### 2.1 Tags\n",
    "OpenStreetMap represents physical features on the ground (e.g., roads or buildings) using tags attached to \n",
    "its basic data structures (its nodes, ways, and relations). Tags help describe an item and allow it to be found \n",
    "again by browsing or searching. They are chosen by the item's creator depending on the data point.\n",
    "\n",
    "{'node': 1890178, 'nd': 2271372, 'bounds': 1, 'member': 9779, 'tag': 503027, 'relation': 2820, 'way': 234327, 'osm': 1}\n",
    "#### 2.2 Users\n",
    "Map data is collected from zero by volunteers (users). We can get the number and the list of them for this piece of the data.\n",
    "\n",
    "Number of users - 1895\n",
    "\n",
    "['-KINGSMAN-', '0508799996', '08xavstj', '12DonW', '12Katniss', '13 digits', '25837', '3abdalla', '4b696d', '4rch', '66444098', '7dhd',\n",
    "'@kevin_bullock', 'AAANNNDDD', 'AC FootCap', 'AE35', 'AHMED ABASHAR', 'AKazariani', 'ASHRAF CHOOLAKKADAVIL', 'A_Sadath', 'AakankshaR', etc.]\n",
    "\n",
    "Exploring the digital data in this file, we can get a large number of other statistics and information.\n",
    "#### 2.3 Keys\n",
    "{'lower': 479404, 'lower_colon': 20602, 'other': 3001, 'problemchars': 20}\n",
    "#### 2.4 Street addresses\n",
    "Number of street addresses - 1789.\n",
    "#### 2.5 Places\n",
    "{'town': 31, 'city': 13, 'island': 67, 'hamlet': 97, 'other': 749, 'village': 608}\n",
    "#### 2.6 Names in English\n",
    "The number of names in English:  3413.\n",
    "\n",
    "The list of examples for this piece of the data:\n",
    "\n",
    "['Tawi Madsus', 'Bani Umar', 'Jabal Nazifi', 'Umm Al Quwain', 'Le Mart', 'DoT Scrap Store', 'Buraimi Police station', 'CEREEN Textiles', \n",
    "'Faseela Grocery', 'Al Muwaylah', 'Najman Grocery', 'Ras Huwayni', 'Al Musalall Grocery', 'Huwayniyah', 'Dariush Boulevard', 'OM YAMAN', \n",
    "'Azerbayejan', 'Ayn al Mahab', 'Saad Pharmacy', 'Nabil house', 'Al Jowar', 'Zarub', 'Dubai Homeopathy Health Centre', etc.].\n",
    "\n",
    "On this map it may be noted a large number of duplicate names in English.\n",
    "#### 2.7 Postal Codes\n",
    "In UAE mail is usually delivered to a P.O Box. As we can see practically all postcodes are individual. \n",
    "Let's display the list of P.O Boxes and the number of users for each of them (1-2 in the most of cases).\n",
    "\n",
    "The number of postcodes: 116.\n",
    "\n",
    "The list of examples for this piece of the data:\n",
    "\n",
    "{'00962': 1, '34121': 1, '7819': 1, '108100': 1, 'P.O. Box 5618, Abu Dhabi, U.A.E': 1, '8988': 1, '0': 1, '23117': 2, 'P O BOX 3766': 1, \n",
    "'103711': 2, '549': 1, '38495': 1, 'P.O. Box 4605': 1, 'Muhaisnah 4': 1, '20767': 1, '81730': 1, '2504': 1, 'PO Box 6770': 1, '8845': 1, \n",
    "'PO Box 43377': 1, '97717': 1, '24857': 3, '232574': 1, 'P.O. Box 9770': 1, '60884': 1, '44263': 1, '277': 1, '16095': 1, 'P. O. Box 31166': 1,\n",
    "'502227': 1, '2666': 1, '41318': 1, 'P. O. Box 123234': 1, '00971': 1, '128358': 1, '79506': 1, '115443': 1, '500368': 1, '473828': 4, etc.}\n",
    "#### 2.8 Street names\n",
    "Example of the street names:\n",
    "\n",
    "{'07': set(['07']),\n",
    " '1': set(['20B Street, Safa 1',\n",
    "           'City Walk, Jumeirah 1',\n",
    "           'E 1',\n",
    "           'Hattan Street 1',\n",
    "           'aljurf ind 1']),\n",
    " '10': set(['Street 10', 'ind area 10']),\n",
    " '11': set(['shabiya -11']),\n",
    " '111': set(['P.O.Box 111']),\n",
    " '12': set(['District 12', 'Street 12']),\n",
    " '12A': set(['12A']),\n",
    " '12K': set(['District 12K']),\n",
    " '13': set(['Street 13', 'industrial 13', 'street 13\\n']),\n",
    " '14': set(['11th street, Musaffah M 14',\n",
    "            'Musaffah Industrial Area Street 14']),\n",
    " '147': set(['147']),\n",
    " '15': set(['sweet 15']),\n",
    " '153': set(['Community 153']),\n",
    " '166': set(['166']),\n",
    " '17': set(['17']),\n",
    " '18': set(['Street 18', 'street 18']),\n",
    " '19': set(['19']),\n",
    " '19th)': set([\"Sa'ada Street (19th)\"]),\n",
    " '1D': set(['1D'])}\n",
    "\n",
    "Example of the updated list of street names:\n",
    " \n",
    "Al Nayhan => Al Nayhan\n",
    "Al Sufouh Rd => Al Sufouh Road\n",
    "JBR Rd => JBR Road\n",
    "Sheikh Rashed Bin Said Rd => Sheikh Rashed Bin Said Road\n",
    "Oud Metha Rd => Oud Metha Road\n",
    "Al Safouh Rd => Al Safouh Road\n",
    "\n",
    "More accurate correction is possible by comparison with data from other map sites and in the studying of the real situation."
   ]
  },
  {
   "cell_type": "markdown",
   "metadata": {},
   "source": [
    "### 3. JSON & Mongo DB\n",
    "#### 3.1 Database\n",
    "Using a set of commands the database was created in Mongo DB on the basis of the file dubai_abu-dhabi.osm.json.\n",
    "\n",
    "Dropping collection: /Users/olgabelitskaya/large-repo/dubai_abu-dhabi\n",
    "Executing: mongoimport -h 127.0.0.1:27017 --db openstreetmap_dubai --collection \n",
    "        /Users/olgabelitskaya/large-repo/dubai_abu-dhabi --file \n",
    "        /Users/olgabelitskaya/large-repo/dubai_abu-dhabi.osm.json\n",
    "#### 3.2 Indicators of the dataset (queries & results).\n",
    "- dubai_abu_dhabi.find().count() ### Documents:  2124505\n",
    "- dubai_abu_dhabi.find({'type':'node'}).count() ### Nodes:  1890130\n",
    "- dubai_abu_dhabi.find({'type':'way'}).count() ### Ways:  234063\n",
    "\n",
    "Let's have a look on one example of the document in this database. It represents the structure of the data in our case.\n",
    "\n",
    "dubai_abu_dhabi.find_one()\n",
    "\n",
    "{u'pos': [25.148038, 55.3862105], u'_id': ObjectId('581282954d13337626b8da7c'), u'type': u'node', u'id': u'21133779', \n",
    "u'created': {u'changeset': u'7291467', u'version': u'2', u'user': u'Tommy', u'timestamp': u'2011-02-15T02:24:42Z', u'uid': u'18885'}}\n",
    "#### 3.3 Users (queries & results).\n",
    "len(dubai_abu_dhabi.distinct('created.user')) ### Number of users:  1885.\n",
    "\n",
    "sorted(dubai_abu_dhabi.distinct('created.user'))[:50]\n",
    "\n",
    "List of the first 50 user names:\n",
    "[u'-KINGSMAN-', u'0508799996', u'08xavstj', u'12DonW', u'12Katniss', u'13 digits', u'25837', u'3abdalla', u'4b696d', u'4rch', u'66444098', \n",
    "u'7dhd', u'@kevin_bullock', u'AAANNNDDD', u'AC FootCap', u'AE35', u'AHMED ABASHAR', u'AKazariani', u'ASHRAF CHOOLAKKADAVIL', u'A_Sadath', \n",
    "u'AakankshaR', u'Aal Ibra240380heem', u'Abbadi', u'Abdalmajeed Najmi', u'Abdelhadi Azaizeh', u'Abdul Noor Bank', u'Abdul Rahim Khan', \n",
    "u'Abdul wahab rashid', u'Abdulaziz AlSweda', u'Abdulla Shuqair', u'Abdullah Al Hany', u'Abdullah Alshareef', u'Abdullah Rana', u'Abdullah777',\n",
    "u'Abdurehman', u'AbeMazid', u'Abhin', u'Abiodun Babalola', u'Aboad Jasim', u'Abood Ad', u'Abrarbhai', u'Absamc', u'AbuFazal', u'Abud', \n",
    "u'Adel alsaad', u'Adib Yz', u'Adil Alsuleimani', u'Adley', u'Adm Vtc', u'Adnaan Abrahams']\n",
    "\n",
    "The database allows to evaluate the contribution of each individual user in map editing.\n",
    "\n",
    "dubai_abu_dhabi.find({\"created.user\": \"Ahmed Silo\"}).count() ### Number of notes for the user Ahmed Silo:  7.\n",
    "\n",
    "With the help of simple manipulations in the database, the user can perform a selection of interesting information.\n",
    "\n",
    "Let us list three most active editors of this map section:"
   ]
  },
  {
   "cell_type": "code",
   "execution_count": null,
   "metadata": {
    "collapsed": true
   },
   "outputs": [],
   "source": [
    "dubai_abu_dhabi.aggregate([{ \"$group\" : {\"_id\" : \"$created.user\", \"count\" : {\"$sum\" : 1} } }, \n",
    "                           { \"$sort\" : {\"count\" : -1} }, {\"$limit\" : 3} ] )"
   ]
  },
  {
   "cell_type": "markdown",
   "metadata": {},
   "source": [
    "{u'_id': u'eXmajor', u'count': 492808}, {u'_id': u'chachafish', u'count': 156874}, {u'_id': u'Seandebasti', u'count': 125767}\n",
    "\n",
    "The number of users with one note:"
   ]
  },
  {
   "cell_type": "code",
   "execution_count": null,
   "metadata": {
    "collapsed": true
   },
   "outputs": [],
   "source": [
    "dubai_abu_dhabi.aggregate( [ { \"$group\" : {\"_id\" : \"$created.user\", \"count\" : { \"$sum\" : 1} } }, \n",
    "                            { \"$group\" : {\"_id\" : \"$count\", \"num_users\": { \"$sum\" : 1} } },\n",
    "                            { \"$sort\" : {\"_id\" : 1} }, { \"$limit\" : 1} ] )"
   ]
  },
  {
   "cell_type": "markdown",
   "metadata": {},
   "source": [
    "{u'_id': 1, u'num_users': 646}.\n",
    "\n",
    "#### 3.4 Places (queries & results).\n",
    "Three most common places:"
   ]
  },
  {
   "cell_type": "code",
   "execution_count": null,
   "metadata": {
    "collapsed": true
   },
   "outputs": [],
   "source": [
    "dubai_abu_dhabi.aggregate( [ { \"$match\" : { \"address.place\" : { \"$exists\" : 1} } }, \n",
    "                            { \"$group\" : { \"_id\" : \"$address.place\", \"count\" : { \"$sum\" : 1} } }, \n",
    "                            { \"$sort\" : { \"count\" : -1}}, {\"$limit\":3}] )"
   ]
  },
  {
   "cell_type": "markdown",
   "metadata": {},
   "source": [
    "{u'_id': u'Yas Mall', u'count': 14}, {u'_id': u'Jumeirah Village Triangle', u'count': 10}, \n",
    "{u'_id': u'Deerfields Townsquare Shopping Centre', u'count': 2}.\n",
    "\n",
    "The list of 10 most common types of buildings:"
   ]
  },
  {
   "cell_type": "code",
   "execution_count": null,
   "metadata": {
    "collapsed": true
   },
   "outputs": [],
   "source": [
    "dubai_abu_dhabi.aggregate([{'$match': {'building': { '$exists': 1}}}, \n",
    "                           {'$group': {'_id': '$building','count': {'$sum':1}}}, \n",
    "                           {'$sort': {'count': -1}}, {'$limit': 10}])"
   ]
  },
  {
   "cell_type": "markdown",
   "metadata": {},
   "source": [
    "{u'_id': u'yes', u'count': 43834},\n",
    "{u'_id': u'house', u'count': 4216},\n",
    "{u'_id': u'apartments', u'count': 2910},\n",
    "{u'_id': u'residential', u'count': 2606},\n",
    "{u'_id': u'roof', u'count': 1026},\n",
    "{u'_id': u'hangar', u'count': 825},\n",
    "{u'_id': u'warehouse', u'count': 380},\n",
    "{u'_id': u'mosque', u'count': 378},\n",
    "{u'_id': u'garage', u'count': 314},\n",
    "{u'_id': u'commercial', u'count': 313}\n",
    "\n",
    "The list of 10 most common facilities:"
   ]
  },
  {
   "cell_type": "code",
   "execution_count": null,
   "metadata": {
    "collapsed": true
   },
   "outputs": [],
   "source": [
    "dubai_abu_dhabi.aggregate([{'$match': {'amenity': {'$exists': 1}}}, \n",
    "                           {'$group': {'_id': '$amenity', 'count': {'$sum': 1}}},\n",
    "                           {'$sort': {'count': -1}}, {'$limit': 10}])"
   ]
  },
  {
   "cell_type": "markdown",
   "metadata": {},
   "source": [
    "{u'_id': u'parking', u'count': 5602},\n",
    "{u'_id': u'place_of_worship', u'count': 1443},\n",
    "{u'_id': u'restaurant', u'count': 1372},\n",
    "{u'_id': u'school', u'count': 489},\n",
    "{u'_id': u'fast_food', u'count': 442},\n",
    "{u'_id': u'fuel', u'count': 438},\n",
    "{u'_id': u'cafe', u'count': 403},\n",
    "{u'_id': u'bank', u'count': 317},\n",
    "{u'_id': u'pharmacy', u'count': 311},\n",
    "{u'_id': u'shelter', u'count': 247}.\n",
    " \n",
    "The list of 3 most common zipcodes:"
   ]
  },
  {
   "cell_type": "code",
   "execution_count": null,
   "metadata": {
    "collapsed": true
   },
   "outputs": [],
   "source": [
    "dubai_abu_dhabi.aggregate( [ { \"$match\" : { \"address.postcode\" : { \"$exists\" : 1} } }, \n",
    "                            { \"$group\" : { \"_id\" : \"$address.postcode\", \"count\" : { \"$sum\" : 1} } },  \n",
    "                            { \"$sort\" : { \"count\" : -1}}, {\"$limit\": 3}] )"
   ]
  },
  {
   "cell_type": "markdown",
   "metadata": {},
   "source": [
    "{u'_id': u'811', u'count': 5}, {u'_id': u'473828', u'count': 4}, {u'_id': u'24857', u'count': 3}.\n",
    "\n",
    "Counting zipcodes with one document:"
   ]
  },
  {
   "cell_type": "code",
   "execution_count": null,
   "metadata": {
    "collapsed": true
   },
   "outputs": [],
   "source": [
    "dubai_abu_dhabi.aggregate( [ { \"$group\" : {\"_id\" : \"$address.postcode\", \"count\" : { \"$sum\" : 1} } },\n",
    "                            { \"$group\" : {\"_id\" : \"$count\", \"count\": { \"$sum\" : 1} } },\n",
    "                            { \"$sort\" : {\"_id\" : 1} }, { \"$limit\" : 1} ] )"
   ]
  },
  {
   "cell_type": "markdown",
   "metadata": {},
   "source": [
    "[{u'_id': 1, u'count': 85}]\n",
    "#### 3.5 Update values in Mongo DB (queries & results).\n",
    "At the preliminary stage of familiarization with the information in the osm file problem and erroneous points in the dataset were found. Now we can replace the wrong values and decide many important tasks at the same time:\n",
    "check the data about concrete geoobjects,\n",
    "use additional information in fields,\n",
    "update values.\n",
    "\n",
    "The example of the document with one wrong value: dubai_abu_dhabi.find_one({'address.street':'Twam St.'})\n",
    "\n",
    "{u'_id': ObjectId('58339f5578c5c4115eb124ff'),\n",
    " u'address': {u'city': u'Al Ain', u'street': u'Twam St.'},\n",
    " u'building': u'residential',\n",
    " u'created': {u'changeset': u'22394079',\n",
    "  u'timestamp': u'2014-05-17T18:34:16Z',\n",
    "  u'uid': u'2079950',\n",
    "  u'user': u'Anna23',\n",
    "  u'version': u'1'},\n",
    " u'id': u'282551277',\n",
    " u'name': u\"Maqam 2 Female Students' Accomodation\",\n",
    " u'node_refs': [u'2864941597',\n",
    "  u'2864941598',\n",
    "  u'2864941599',\n",
    "  u'2864941600',\n",
    "  u'2864942001',\n",
    "  u'2864941597'],\n",
    " u'type': u'way'}\n",
    " \n",
    "The process of replacing:\n",
    "\n",
    "dubai_abu_dhabi.update_one({'_id': ObjectId('58339c6b78c5c4115e9f47e9')}, {'$set': {'address.street': 'Al Sufouh Road'}}, upsert=False)\n",
    "\n",
    "dubai_abu_dhabi.update_one({'_id': ObjectId('58339ba178c5c4115e97e58d')}, {'$set': {'address.street': 'Sheikh Rashed Bin Said Road'}}, upsert=False)\n",
    "                           \n",
    "dubai_abu_dhabi.update_one({'_id': ObjectId('58339dab78c5c4115ea6fc12')}, {'$set': {'address.street': 'Oud Metha Road'}}, upsert=False)\n",
    "\n",
    "dubai_abu_dhabi.update_one({'_id': ObjectId('58339c6b78c5c4115e9f47e4')}, {'$set': {'address.street': 'Jumeirah Beach Road'}}, upsert=False)\n",
    "\n",
    "dubai_abu_dhabi.update_one({'_id': ObjectId('58339c6b78c5c4115e9f47e5')}, {'$set': {'address.street': 'Oud Metha Road'}}, upsert=False)\n",
    "\n",
    "dubai_abu_dhabi.update_one({'_id': ObjectId('58339f7878c5c4115eb287b1')}, {'$set': {'address.street': 'Al Falak Street'}}, upsert=False)\n",
    "\n",
    "dubai_abu_dhabi.update_one({'_id': ObjectId('58339f5578c5c4115eb124ff')}, {'$set': {'address.street': 'Twam Street'}}, upsert=False)\n",
    "\n",
    "The example of checking the result: dubai_abu_dhabi.find_one({'_id': ObjectId('58339f5578c5c4115eb124ff')})\n",
    "\n",
    "{u'_id': ObjectId('58339f5578c5c4115eb124ff'),\n",
    " u'address': {u'city': u'Al Ain', u'street': u'Twam Street'},\n",
    " u'building': u'residential',\n",
    " u'created': {u'changeset': u'22394079',\n",
    "  u'timestamp': u'2014-05-17T18:34:16Z',\n",
    "  u'uid': u'2079950',\n",
    "  u'user': u'Anna23',\n",
    "  u'version': u'1'},\n",
    " u'id': u'282551277',\n",
    " u'name': u\"Maqam 2 Female Students' Accomodation\",\n",
    " u'node_refs': [u'2864941597',\n",
    "  u'2864941598',\n",
    "  u'2864941599',\n",
    "  u'2864941600',\n",
    "  u'2864942001',\n",
    "  u'2864941597'],\n",
    " u'type': u'way'}\n",
    "\n",
    "The same manipulations we do with several mistakes and fields. The reader can see it in the full version of the project."
   ]
  },
  {
   "cell_type": "markdown",
   "metadata": {},
   "source": [
    "### 4. Problems and errors\n",
    "- One of the main problems of public maps - no duplication of all place names in other languages. If it were possible to automate the translation process by increasing a common database of map names in many languages, it would save users from many difficulties and mistakes.\n",
    "- The next problem - the presence of a large number of databases (including mapping) on the same map objects. Some intergraph procedures of already available data would relieve a lot of people from unnecessary work, save time and effort.\n",
    "- Obviously, the information about the number of buildings and their purpose is incomplete. Completeness of public maps can be increased by bringing in the process of mapping new users. For this goal enter the information should be as simple as possible: for example, a choice of the available options with automatic filling many fields for linked options (for example, linking the name of the street and the administrative area in which it is located).\n",
    "- There are a number of mistakes and typos as in every public data. For correction them well-known methods can be proposed: automatic comparison with existing data and verification for new data by other users.\n",
    "- The lack of a uniform postal code system in this concrete dataset complicates their identification and verification.\n",
    "- During working on the project, I spent a lot of time on the conversion of one type of data file to another. Each format has its own advantages and disadvantages. Probably, it is possible to design a universal file type that allows us to store data of any kind, combining the advantages of all existing types and applicable in the most of existing programming languages.\n",
    "- Correction of errors made in the data seems to me appropriate to carry out after uploading files to the database. Sometimes a record that is a mistake in terms of filling a particular type of data just contains additional information about geoobjects.\n",
    "\n",
    "### 5. Data Overview\n",
    "#### 5.1 Description of the data structure:\n",
    "- nodes - points in space with basic characteristics (lat, long, id, tags);\n",
    "- ways - defining linear features and area boundaries (an ordered list of nodes);\n",
    "- relations - tags and also an ordered list of nodes, ways and/or relations as members which is used to define logical or geographic relationships between other elements.\n",
    "\n",
    "#### 5.2 Indicators.\n",
    "Size of the .osm file: 394,4 MB. Size of the .osm sample file : 3,9 MB.\n",
    "\n",
    "Nodes: 1890178. Ways: 234327. Relations: 2820. Tags: 503027. Users: 1895.\n",
    "#### 5.3 MongoDB\n",
    "With the help of a specific set of commands we can perform a statistical description of the data collections and the database.\n",
    "\n",
    "DB statistics: db.command(\"dbstats\")\n",
    "{u'avgObjSize': 234.44116488311394,\n",
    " u'collections': 1,\n",
    " u'dataSize': 498071427.0,\n",
    " u'db': u'openstreetmap_dubai',\n",
    " u'indexSize': 19124224.0,\n",
    " u'indexes': 1,\n",
    " u'numExtents': 0,\n",
    " u'objects': 2124505,\n",
    " u'ok': 1.0,\n",
    " u'storageSize': 154611712.0}\n",
    "\n",
    "We can get the collection statistics as well.\n",
    "### 6. Conclusion\n",
    "I think this project is educational for me. I believe that one of the main tasks in this case was to study \n",
    "the methods of extraction and researching of map data in open access. For example, I used a systematic sample \n",
    "of elements from the original .osm file for trying functions of processing before applying them to the whole dataset. \n",
    "As a result I have some new useful skills in parsing, processing, storing, aggregating and applying the data.\n",
    "\n",
    "In the research I have read through quite a lot of projects of other students on this topic. After my own research \n",
    "and review the results of other authors I have formed a definite opinion about the ideas in OpenStreetMap.\n",
    "\n",
    "This website can be viewed as a testing ground of interaction of a large number of people (ncluding non-professionals) \n",
    "to create a unified information space. The prospects of such cooperation can not be overemphasized. The success \n",
    "of the project will allow to implement the ambitious plans in the field of available information technologies, \n",
    "the creation of virtual reality and many other areas.\n",
    "\n",
    "Increasing of the number of users leads to many positive effects in this kind of projects:\n",
    "1) a rapid improvement in the accuracy, completeness and timeliness of information;\n",
    "2) approximation of the information space to the reality , the objectivity of the data evaluation;\n",
    "3) reduce the effort for data cleansing on erroneous details.\n",
    "\n",
    "Ideas for improving the project OpenStreetMap are simple and natural.\n",
    "Increasing the number of users can be achieved by additional options like marks of the rating evaluation \n",
    "(eg, the best restaurant or the most convenient parking).\n",
    "The popularity of the project may be more due to the temporary pop-up messages of users \n",
    "(placement is not more than 1-3 hours) with actual information about the geographic location \n",
    "(eg, the presence of traffic jams).\n",
    "### 7. Feedback\n",
    "After the review https://review.udacity.com/#!/reviews/293667 I've created the additional notebook for illustration the preprocessing for one of the data fields."
   ]
  }
 ],
 "metadata": {
  "anaconda-cloud": {},
  "hide_input": false,
  "kernelspec": {
   "display_name": "Python [conda root]",
   "language": "python",
   "name": "conda-root-py"
  },
  "language_info": {
   "codemirror_mode": {
    "name": "ipython",
    "version": 2
   },
   "file_extension": ".py",
   "mimetype": "text/x-python",
   "name": "python",
   "nbconvert_exporter": "python",
   "pygments_lexer": "ipython2",
   "version": "2.7.12"
  },
  "latex_envs": {
   "bibliofile": "biblio.bib",
   "cite_by": "apalike",
   "current_citInitial": 1,
   "eqLabelWithNumbers": true,
   "eqNumInitial": 0
  }
 },
 "nbformat": 4,
 "nbformat_minor": 1
}
