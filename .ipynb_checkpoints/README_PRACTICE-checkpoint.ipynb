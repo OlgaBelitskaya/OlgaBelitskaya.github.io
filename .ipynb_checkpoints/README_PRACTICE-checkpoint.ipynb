{
 "cells": [
  {
   "cell_type": "markdown",
   "metadata": {},
   "source": [
    "# &#x1F3D9; &nbsp;  Online Practice Courses &nbsp; &nbsp; &nbsp; &nbsp; &nbsp; &nbsp; &nbsp; &nbsp; &nbsp; &nbsp; &nbsp; &nbsp; &nbsp;<a href=\"https://olgabelitskaya.github.io/README.html\">&#x1F300; &nbsp; Home Page </a>\n",
    "## &#x1F4D1;  &nbsp; Interactive Cookbooks\n",
    "### &#x1F310; &nbsp; [Github Repository](https://github.com/OlgaBelitskaya/OlgaBelitskaya.github.io)\n",
    "<br/><details><summary>With SageMathCell</summary>\n",
    "\n",
    "### [🌀 Sklearn Py](https://olgabelitskaya.github.io/sklearn_cookbook_sagecells.html)  \n",
    "### [🌀 SQL Py](https://olgabelitskaya.github.io/sql_cookbook.html) \n",
    "### [🌀 SQL Py 2](https://olgabelitskaya.github.io/sql_cookbook2.html)\n",
    "### [🌀 OpenCV](https://olgabelitskaya.github.io/opencv_cookbook_SMC.html)"
   ]
  },
  {
   "cell_type": "markdown",
   "metadata": {},
   "source": [
    "## &#x1F4D1;  &nbsp; Online Mini Campus \n",
    "### &#x1F310; &nbsp; [Github Repository](https://github.com/OlgaBelitskaya/online_mini_campus)\n",
    "<br/><details><summary>SageMathCell Practice & Wolfram \"Translation\"</summary>\n",
    "\n",
    "### 🌀 [SageMath PART 1](https://olgabelitskaya.github.io/sage.html) &nbsp; 📓 [Wolfram NB Part 1](https://www.wolframcloud.com/obj/safuolga/Published/wolfram.nb)\n",
    "### 🌀 [SageMath PART 2](https://olgabelitskaya.github.io/sage2.html) &nbsp; 📓 [Wolfram NB Part 2](https://www.wolframcloud.com/obj/safuolga/Published/wolfram2.nb)\n",
    "### 🌀 [SageMath PART 3](https://olgabelitskaya.github.io/sage3.html) &nbsp; 📓 [Wolfram NB Part 3](https://www.wolframcloud.com/obj/safuolga/Published/wolfram3.nb)\n",
    "### 🌀 [SageMath PART 4](https://olgabelitskaya.github.io/sage4.html) &nbsp; 📓 [Wolfram NB Part 4](https://www.wolframcloud.com/obj/safuolga/Published/wolfram4.nb)\n",
    "### 🌀 [SageMath PART 5](https://olgabelitskaya.github.io/sage5.html) &nbsp; 📓 [Wolfram NB Part 5](https://www.wolframcloud.com/obj/safuolga/Published/wolfram5.nb)\n",
    "### 🌀 [SageMath PART 6](https://olgabelitskaya.github.io/sage6.html) &nbsp; 📓 [Wolfram NB Part 6](https://www.wolframcloud.com/obj/safuolga/Published/wolfram6.nb)\n",
    "### 🌀 [SageMath PART 7](https://olgabelitskaya.github.io/sage7.html) &nbsp; 📓 [Wolfram NB Part 7](https://www.wolframcloud.com/obj/safuolga/Published/wolfram7.nb)\n",
    "### 🌀 [SageMath PART 8](https://olgabelitskaya.github.io/sage8.html) &nbsp; 📓 [Wolfram NB Part 8](https://www.wolframcloud.com/obj/safuolga/Published/wolfram8.nb)\n",
    "### 🌀 [SageMath PART 9](https://olgabelitskaya.github.io/sage9.html) &nbsp; 📓 [Wolfram NB Part 9](https://www.wolframcloud.com/obj/safuolga/Published/wolfram9.nb)\n",
    "### 🌀 [SageMath PART 10](https://olgabelitskaya.github.io/sage10.html) &nbsp; 📓 [Wolfram NB Part 10](https://www.wolframcloud.com/obj/safuolga/Published/wolfram10.nb)\n",
    "### 🌀 [SageMath PART 11](https://olgabelitskaya.github.io/sage11.html) &nbsp; 📓 [Wolfram NB Part 11](https://www.wolframcloud.com/obj/safuolga/Published/wolfram11.nb) \n",
    "### 🌀 [SageMath PART 12](https://olgabelitskaya.github.io/sage12.html) &nbsp; 📓 [Wolfram NB Part 12](https://www.wolframcloud.com/obj/safuolga/Published/wolfram12.nb)\n",
    "### 🌀 [SageMath PART 13](https://olgabelitskaya.github.io/sage13.html) &nbsp; 📓 [Wolfram NB Part 13](https://www.wolframcloud.com/obj/safuolga/Published/wolfram13.nb)\n",
    "### 🌀 [SageMath PART 14](https://olgabelitskaya.github.io/sage14.html) &nbsp; 📓 [Wolfram NB Part 14](https://www.wolframcloud.com/obj/safuolga/Published/wolfram14.nb)\n",
    "### 🌀 [SageMath PART 15](https://olgabelitskaya.github.io/sage15.html) &nbsp; 📓 [Wolfram NB Part 15](https://www.wolframcloud.com/obj/safuolga/Published/wolfram15.nb)\n",
    "### 🌀 [SageMath PART 16](https://olgabelitskaya.github.io/sage16.html) &nbsp; 📓 [Wolfram NB Part 16](https://www.wolframcloud.com/obj/safuolga/Published/wolfram16.nb)\n",
    "### 🌀 [SageMath PART 17](https://olgabelitskaya.github.io/sage17.html) &nbsp; 📓 [Wolfram NB Part 17](https://www.wolframcloud.com/obj/safuolga/Published/wolfram17.nb)\n",
    "### 🌀 [SageMath PART 18](https://olgabelitskaya.github.io/sage18.html) &nbsp; 📓 [Wolfram NB Part 18](https://www.wolframcloud.com/obj/safuolga/Published/wolfram18.nb) \n",
    "### 🌀 [SageMath PART 19](https://olgabelitskaya.github.io/sage19.html) &nbsp; 📓 [Wolfram NB Part 19](https://www.wolframcloud.com/obj/safuolga/Published/wolfram19.nb)\n",
    "### 🌀 [SageMath PART 20](https://olgabelitskaya.github.io/sage20.html) &nbsp; 📓 [Wolfram NB Part 20](https://www.wolframcloud.com/obj/safuolga/Published/wolfram20.nb)\n",
    "### 🌀 [SageMath PART 21](https://olgabelitskaya.github.io/sage21.html) &nbsp; 📓 [Wolfram NB Part 21](https://www.wolframcloud.com/obj/safuolga/Published/wolfram21.nb)\n",
    "### 🌀 [SageMath PART 22](https://olgabelitskaya.github.io/sage22.html) &nbsp; 📓 [Wolfram NB Part 22](https://www.wolframcloud.com/obj/safuolga/Published/wolfram22.nb) \n",
    "### 🌀 [SageMath PART 23](https://olgabelitskaya.github.io/sage23.html) &nbsp; 📓 [Wolfram NB Part 23](https://www.wolframcloud.com/obj/safuolga/Published/wolfram23.nb)\n",
    "### 🌀 [SageMath PART 24](https://olgabelitskaya.github.io/sage24.html) &nbsp; 📓 [Wolfram NB Part 24](https://www.wolframcloud.com/obj/safuolga/Published/wolfram24.nb)"
   ]
  },
  {
   "cell_type": "markdown",
   "metadata": {},
   "source": [
    "## &#x1F4D1; &nbsp; Linear Algebra Practice\n",
    "### &#x1F310; &nbsp; [Github Repository](https://github.com/OlgaBelitskaya/linear_algebra_practice)\n",
    "<br/><details><summary>Практические работы по линейной алгебре</summary>\n",
    "\n",
    "### &#x1F300; &nbsp; [№ 0](https://olgabelitskaya.github.io/linear_algebra_practice/work0.html) &nbsp; &#x1F300; &nbsp; [№ 1](https://olgabelitskaya.github.io/linear_algebra_practice/work1.html) &nbsp; &#x1F300; &nbsp; [№ 2](https://olgabelitskaya.github.io/linear_algebra_practice/work2.html) &nbsp; &#x1F300; &nbsp; [№ 3](https://olgabelitskaya.github.io/linear_algebra_practice/work3.html) \n",
    "### &#x1F300; &nbsp; [№ 4](https://olgabelitskaya.github.io/linear_algebra_practice/work4.html) &nbsp; &#x1F300; &nbsp; [№ 5](https://olgabelitskaya.github.io/linear_algebra_practice/work5.html) &nbsp; &#x1F300; &nbsp; [№ 6](https://olgabelitskaya.github.io/linear_algebra_practice/work6.html) &nbsp;  &#x1F300; &nbsp; [№ 7](https://olgabelitskaya.github.io/linear_algebra_practice/work7.html) \n",
    "### &#x1F300; &nbsp; [№ 8](https://olgabelitskaya.github.io/linear_algebra_practice/work8.html) &nbsp;  &#x1F300; &nbsp; [№ 9](https://olgabelitskaya.github.io/linear_algebra_practice/work9.html) &nbsp; &#x1F300; &nbsp; [№ 10](https://olgabelitskaya.github.io/linear_algebra_practice/work10.html) &nbsp; &#x1F300; &nbsp; [№ 11](https://olgabelitskaya.github.io/linear_algebra_practice/work11.html) \n",
    "### &#x1F300; &nbsp; [№ 12](https://olgabelitskaya.github.io/linear_algebra_practice/work12.html) &nbsp; &#x1F300; &nbsp; [№ 13](https://olgabelitskaya.github.io/linear_algebra_practice/work13.html) &nbsp; &#x1F300; &nbsp; [№ 14](https://olgabelitskaya.github.io/linear_algebra_practice/work14.html)"
   ]
  },
  {
   "cell_type": "markdown",
   "metadata": {},
   "source": [
    "## &#x1F4D1; &nbsp; Interactive Sources for Instagram Posts\n",
    "### &#x1F310; &nbsp; [Github Repository](https://github.com/OlgaBelitskaya/instagram)\n",
    "<br/><details><summary>Interactive Pages with SageMathCell</summary>\n",
    "    \n",
    "### &#x1F300; &nbsp; [Part 1](https://olgabelitskaya.github.io/instagram.html) &nbsp; &#x1F300; &nbsp; [Part 2](https://olgabelitskaya.github.io/instagram2.html) &nbsp; &#x1F300; &nbsp; [Part 3](https://olgabelitskaya.github.io/instagram3.html) &nbsp; &#x1F300; &nbsp; [Part 4](https://olgabelitskaya.github.io/instagram4.html)\n",
    "### &#x1F300; &nbsp; [Part 5](https://olgabelitskaya.github.io/instagram5.html) &nbsp; &#x1F300; &nbsp; [Part 6](https://olgabelitskaya.github.io/instagram6.html) &nbsp; &#x1F300; &nbsp; [Part 7](https://olgabelitskaya.github.io/instagram7.html) &nbsp; &#x1F300; &nbsp; [Part 8](https://olgabelitskaya.github.io/instagram8.html)\n",
    "### &#x1F300; &nbsp; [Part 9](https://olgabelitskaya.github.io/instagram9.html) &nbsp; &#x1F300; &nbsp; [Part 10](https://olgabelitskaya.github.io/instagram10.html) &nbsp; &#x1F300; &nbsp; [Part 11](https://olgabelitskaya.github.io/instagram11.html) &nbsp; &#x1F300; &nbsp; [Part 12](https://olgabelitskaya.github.io/instagram12.html)\n"
   ]
  },
  {
   "cell_type": "markdown",
   "metadata": {},
   "source": [
    "<br/><details><summary>WolframCloud</summary>\n",
    "\n",
    "### 📓 &nbsp; [Wolfram NB Part 1](https://www.wolframcloud.com/obj/safuolga/Published/instagram.nb) \n",
    "### 📓 [Wolfram NB Part 2](https://www.wolframcloud.com/obj/safuolga/Published/instagram2.nb) \n",
    "### 📓 [Wolfram NB Part 3](https://www.wolframcloud.com/obj/safuolga/Published/instagram3.nb) \n",
    "### 📓 [Wolfram NB Part 4](https://www.wolframcloud.com/obj/safuolga/Published/instagram4.nb)\n"
   ]
  },
  {
   "cell_type": "markdown",
   "metadata": {},
   "source": [
    "<br/><details><summary>Google Colaboratory</summary>\n",
    "    \n",
    "### 📓 &nbsp; [function_plotting_js.ipynb](https://colab.research.google.com/drive/1nHCQV8glR7S3H3mWFJqlOMzWSwsue8pG) \n",
    "### 📓 &nbsp; [function_plotting_py.ipynb](https://colab.research.google.com/drive/1UbPaXtrQBhW5eHFCG0l37svA2bl0HGUj)"
   ]
  },
  {
   "cell_type": "markdown",
   "metadata": {},
   "source": [
    "## &#x1F4D1; &nbsp; Machine Learning for Trading\n",
    "<br/><details><summary>Python</summary>\n",
    "\n",
    "### 📓 &nbsp; [Part 1](https://github.com/OlgaBelitskaya/reflection2/blob/master/c_bank_Py_part1.ipynb)\n",
    "### 📓 &nbsp; [Part 2](https://github.com/OlgaBelitskaya/reflection2/blob/master/c_bank_Py_part2.ipynb) \n",
    "### 📓 &nbsp; [Part 3](https://github.com/OlgaBelitskaya/reflection2/blob/master/c_bank_Py_part3.ipynb)\n"
   ]
  },
  {
   "cell_type": "markdown",
   "metadata": {},
   "source": [
    "<br/><details><summary>R</summary>\n",
    "\n",
    "### 📓 &nbsp; [Part 1](https://github.com/OlgaBelitskaya/large-repo/blob/master/c_bank_R_part1.ipynb)\n",
    "### 📓 &nbsp; [Part 2](https://github.com/OlgaBelitskaya/large-repo/blob/master/c_bank_R_part2.ipynb)\n",
    "### 📓 &nbsp; [Part 3](https://github.com/OlgaBelitskaya/large-repo/blob/master/c_bank_R_part3.ipynb)\n"
   ]
  },
  {
   "cell_type": "code",
   "execution_count": 1,
   "metadata": {},
   "outputs": [
    {
     "data": {
      "text/html": [
       "<style>\n",
       "@import url('https://fonts.googleapis.com/css?family=Orbitron|Roboto');\n",
       "body {background-color:#CBE5FA;}\n",
       "h1,h3 {color:#3883C2; font-family:Orbitron; text-shadow:4px 4px 4px #aaa;}\n",
       "h2,summary {color:#346187; font-family:Orbitron; text-shadow:4px 4px 4px #aaa;}\n",
       "h4,a {color:#slategray; font-family:Roboto;}\n",
       "div.input_prompt {color:white} \n",
       "div.text_cell_render {color:slategray}\n",
       "span {text-shadow:4px 4px 4px #ccc;}   \n",
       "</style>\n",
       "<script>\n",
       "code_show=true; \n",
       "function code_display() {\n",
       "    if (code_show) {\n",
       "        $('div.input').each(function(id) {\n",
       "            if (id==0 || $(this).html().indexOf('hide_code')>-1) {$(this).hide();}\n",
       "        });\n",
       "        $('div.output_prompt').css('opacity',0);\n",
       "    } else {\n",
       "        $('div.input').each(function(id) {$(this).show();});\n",
       "        $('div.output_prompt').css('opacity',1);\n",
       "    };\n",
       "    code_show=!code_show;\n",
       "} \n",
       "$(document).ready(code_display);\n",
       "</script>\n",
       "<form action=\"javascript: code_display()\">\n",
       "<input style=\"color:slategray; font-family:Orbitron; background:#CBE5FA; opacity:.8;\" \\ \n",
       "type=\"submit\" value=\"click to display or hide code cells\">\n",
       "</form>"
      ],
      "text/plain": [
       "<IPython.core.display.HTML object>"
      ]
     },
     "metadata": {},
     "output_type": "display_data"
    }
   ],
   "source": [
    "%%html\n",
    "<style>\n",
    "@import url('https://fonts.googleapis.com/css?family=Orbitron|Roboto');\n",
    "body {background-color:#CBE5FA;}\n",
    "h1,h3 {color:#3883C2; font-family:Orbitron; text-shadow:4px 4px 4px #aaa;}\n",
    "h2,summary {color:#346187; font-family:Orbitron; text-shadow:4px 4px 4px #aaa;}\n",
    "h4,a {color:#slategray; font-family:Roboto;}\n",
    "div.input_prompt {color:white} \n",
    "div.text_cell_render {color:slategray}\n",
    "span {text-shadow:4px 4px 4px #ccc;}   \n",
    "</style>\n",
    "<script>\n",
    "code_show=true; \n",
    "function code_display() {\n",
    "    if (code_show) {\n",
    "        $('div.input').each(function(id) {\n",
    "            if (id==0 || $(this).html().indexOf('hide_code')>-1) {$(this).hide();}\n",
    "        });\n",
    "        $('div.output_prompt').css('opacity',0);\n",
    "    } else {\n",
    "        $('div.input').each(function(id) {$(this).show();});\n",
    "        $('div.output_prompt').css('opacity',1);\n",
    "    };\n",
    "    code_show=!code_show;\n",
    "} \n",
    "$(document).ready(code_display);\n",
    "</script>\n",
    "<form action=\"javascript: code_display()\">\n",
    "<input style=\"color:slategray; font-family:Orbitron; background:#CBE5FA; opacity:.8;\" \\ \n",
    "type=\"submit\" value=\"click to display or hide code cells\">\n",
    "</form>"
   ]
  }
 ],
 "metadata": {
  "kernelspec": {
   "display_name": "Python 3",
   "language": "python",
   "name": "python3"
  },
  "language_info": {
   "codemirror_mode": {
    "name": "ipython",
    "version": 3
   },
   "file_extension": ".py",
   "mimetype": "text/x-python",
   "name": "python",
   "nbconvert_exporter": "python",
   "pygments_lexer": "ipython3",
   "version": "3.7.3"
  }
 },
 "nbformat": 4,
 "nbformat_minor": 4
}
