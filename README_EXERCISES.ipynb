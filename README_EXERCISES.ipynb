{
 "cells": [
  {
   "cell_type": "markdown",
   "metadata": {},
   "source": [
    "# &#x1F3D9; &nbsp;  Various Exam Exercises &nbsp; &nbsp; &nbsp; &nbsp; &nbsp; &nbsp; &nbsp; &nbsp; &nbsp;<a href=\"https://olgabelitskaya.github.io/README.html\">&#x1F300; &nbsp; Home Page &nbsp; &nbsp;</a>"
   ]
  },
  {
   "cell_type": "markdown",
   "metadata": {},
   "source": [
    "## &#x1F4D1;  &nbsp; Pages Created for the Student Website 2019-2020\n",
    "## Maths\n",
    "WolframCloud\n",
    "#### [🌀 Example № 1](https://olgabelitskaya.github.io/mathTF1319W.html)\n",
    "Google Colaboratory\n",
    "#### [📓 Example № 1](https://colab.research.google.com/drive/1MT0iq9l_Hzeh6FTbicvLuVdvNbV6J82p) &nbsp; &nbsp; [📓 Example № 2](https://colab.research.google.com/drive/1VF7zOPBWvfhnfUXfOgSgLnz65MiC4ULh)\n",
    "SageMathCell\n",
    "#### [🌀 № 12](https://olgabelitskaya.github.io/mathTF1319_12.html) &nbsp; &nbsp; [🌀 № 13](https://olgabelitskaya.github.io/mathTF1319_13.html) &nbsp; &nbsp; [🌀 № 14](https://olgabelitskaya.github.io/mathTF1319_14.html) &nbsp; &nbsp; [🌀 № 15](https://olgabelitskaya.github.io/mathTF1319_15.html) &nbsp; &nbsp; [🌀 № 16](https://olgabelitskaya.github.io/mathTF1319_16.html) &nbsp; &nbsp; [🌀 № 17](https://olgabelitskaya.github.io/mathTF1319_17.html)\n",
    "## IT\n",
    "WolframCloud\n",
    "#### [🌀 Example № 1](https://olgabelitskaya.github.io/itTF1319W.html)\n",
    "Google Colaboratory\n",
    "#### [📓 Example № 1](https://colab.research.google.com/drive/1c1iJqa66AdXCwUru2aRfbAg4j-CGLVRe)\n",
    "SageMathCell\n",
    "#### [🌀 № 1](https://olgabelitskaya.github.io/itTF1319_01.html)\n",
    "LabWorks\n",
    "#### [📑 № 1](https://docs.google.com/document/d/15g3Hm42l0WJaqMxwerUl2HWQxJFOpKgrvaEuuURwWLo) &nbsp; &nbsp; [📑 № 2](https://docs.google.com/document/d/1qahs_lncNFbVxrEggxDzxutKP7DOKf1EVXtvvZvGz10) &nbsp; &nbsp; [📑 № 3](https://docs.google.com/document/d/1aSbf2zEQRXJ728eMVgP1HJXz2dRR4sQC-f-65aHnOT0)  &nbsp; &nbsp; [📑 № 4](https://docs.google.com/document/d/1b7o0D6wCijJidhQmmQheDaqLvLEy_LnmSUrZWBsX5Jg) &nbsp; &nbsp; [📑 № 5](https://docs.google.com/document/d/1b2ziteabKv_FaR9Z9sXLvVuJ3QyN-ksDwzSWQXn_gME) &nbsp; &nbsp; [📑 № 6](https://docs.google.com/document/d/1x9ZzUw5v-J5q6uZenXASNhIbSLFRANUL8jE2i1iditQ)  &nbsp; &nbsp; [📑 № 7](https://docs.google.com/document/d/1nt93DgaLz6KazU12X8sp6a_W9PkOAXoaYUtQUtd4-EM)\n",
    "#### [📑 № 8](https://docs.google.com/document/d/10ycOFJnu3CBLfcH3qb-PrT-3UgFBuS4ZBvhpCLELPeY) &nbsp; &nbsp; [📑 № 9](https://docs.google.com/document/d/1Z_9ldVTFs5wkjK3TU3Clib7pkD0nVqhNJzlhIdfwUZE) &nbsp; &nbsp; [📑 № 10](https://docs.google.com/document/d/1Yvt6AaV7HWrir117VMG_G4kb-IAcCwGBprKbuB8TPZY)  &nbsp; &nbsp; [📑 № 11](https://docs.google.com/document/d/1OnVT1f6RmmfzezaynuYaT7ZC3-mv38Re-xLFHqZi7JE) &nbsp; &nbsp; [📑 № 12](https://docs.google.com/document/d/1RhFsUdJWjplfGeYpEV2DZ2toC6Y7lJXgdaZyyqUvs3Q) &nbsp; &nbsp; [📑 № 13](https://docs.google.com/document/d/1lWVOZi7Qo4bLpLg2ZD753TIJ43hRLzNxTsgofIzIUHI) \n",
    "## Physics\n",
    "\n",
    "## Chemistry"
   ]
  },
  {
   "cell_type": "markdown",
   "metadata": {},
   "source": [
    "<h2>&#x1F4D1; &nbsp; SageMathCell Practice & IT Studying Tasks</h2>\n",
    "\n",
    "<a href=\"https://olgabelitskaya.github.io/it_mini_campus/Task_1_1_Task_1_2.html\"> 🌀 &nbsp; Task 1.1. Task1.2</a> &nbsp; &nbsp; <a href=\"https://olgabelitskaya.github.io/it_mini_campus/Task_1_3_1.html\"> 🌀 &nbsp; Task 1.3.1</a> &nbsp; &nbsp; <a href=\"https://olgabelitskaya.github.io/it_mini_campus/Task_1_3_2.html\"> 🌀 &nbsp; Task 1.3.2</a> &nbsp; &nbsp;\n",
    "<a href=\"https://olgabelitskaya.github.io/it_mini_campus/Task_1_3_3.html\"> 🌀 &nbsp; Task 1.3.3</a> &nbsp; &nbsp;\n",
    "<a href=\"https://olgabelitskaya.github.io/it_mini_campus/Task_1_4_1.html\"> 🌀 &nbsp; Task 1.4.1</a> &nbsp; &nbsp;\n",
    "<a href=\"https://olgabelitskaya.github.io/it_mini_campus/Task_1_4_2.html\"> 🌀 &nbsp; Task 1.4.2</a> &nbsp; &nbsp; \n",
    "<a href=\"https://olgabelitskaya.github.io/it_mini_campus/Task_1_4_3.html\"> 🌀 &nbsp; Task 1.4.3</a><br/><br/>\n",
    "<a href=\"https://olgabelitskaya.github.io/it_mini_campus/Task_1_5.html\"> 🌀 &nbsp; Task 1.5</a> &nbsp; &nbsp;\n",
    "<a href=\"https://olgabelitskaya.github.io/it_mini_campus/Task_1_6.html\"> 🌀 &nbsp; Task 1.6</a> &nbsp; &nbsp;\n",
    "<a href=\"https://olgabelitskaya.github.io/it_mini_campus/Task_1_7.html\"> 🌀 &nbsp; Task 1.7</a> &nbsp; &nbsp;\n",
    "<a href=\"https://olgabelitskaya.github.io/it_mini_campus/Task_1_8.html\"> 🌀 &nbsp; Task 1.8</a> &nbsp; &nbsp;\n",
    "<a href=\"https://olgabelitskaya.github.io/it_mini_campus/Task_1_9_1.html\"> 🌀 &nbsp; Task 1.9.1</a> &nbsp; &nbsp;\n",
    "<a href=\"https://olgabelitskaya.github.io/it_mini_campus/Task_1_9_2.html\"> 🌀 &nbsp; Task 1.9.2</a> &nbsp; &nbsp;\n",
    "<a href=\"https://olgabelitskaya.github.io/it_mini_campus/Task_1_9_3.html\"> 🌀 &nbsp; Task 1.9.3</a> &nbsp; &nbsp;\n",
    "<a href=\"https://olgabelitskaya.github.io/it_mini_campus/Task_1_9_4.html\"> 🌀 &nbsp; Task 1.9.4</a><br/><br/>\n",
    "<a href=\"https://olgabelitskaya.github.io/it_mini_campus/Task_2_2.html\"> 🌀 &nbsp; Task 2.2</a> &nbsp; &nbsp;\n",
    "<a href=\"https://olgabelitskaya.github.io/it_mini_campus/Task_2_3.html\"> 🌀 &nbsp; Task 2.3</a> &nbsp; &nbsp;\n",
    "<a href=\"https://olgabelitskaya.github.io/it_mini_campus/Task_2_4.html\"> 🌀 &nbsp; Task 2.4</a> &nbsp; &nbsp;\n",
    "<a href=\"https://olgabelitskaya.github.io/it_mini_campus/Task_2_5_1.html\"> 🌀 &nbsp; Task 2.5.1</a> &nbsp; &nbsp;\n",
    "<a href=\"https://olgabelitskaya.github.io/it_mini_campus/Task_2_5_2.html\"> 🌀 &nbsp; Task 2.5.2</a> &nbsp; &nbsp;\n",
    "<a href=\"https://olgabelitskaya.github.io/it_mini_campus/Task_2_5_3.html\"> 🌀 &nbsp; Task 2.5.3</a> &nbsp; &nbsp;\n",
    "<a href=\"https://olgabelitskaya.github.io/it_mini_campus/Task_2_5_4.html\"> 🌀 &nbsp; Task 2.5.4</a> &nbsp; &nbsp;\n",
    "<a href=\"https://olgabelitskaya.github.io/it_mini_campus/Task_2_6.html\"> 🌀 &nbsp; Task 2.6</a> <br/><br/>\n",
    "<a href=\"https://olgabelitskaya.github.io/it_mini_campus/Task_3_1_1.html\"> 🌀 &nbsp; Task 3.3.1</a> &nbsp; &nbsp;\n",
    "<a href=\"https://olgabelitskaya.github.io/it_mini_campus/Task_3_1_2.html\"> 🌀 &nbsp; Task 3.3.2</a> &nbsp; &nbsp;"
   ]
  },
  {
   "cell_type": "markdown",
   "metadata": {},
   "source": [
    "## &#x1F4D1; Maths & IT. Standard Calculations & Labs 2018-2019\n",
    "### Linear Algebra\n",
    "\n",
    "#### [Standard Calculations 1-3](https://olgabelitskaya.github.io/linearalgebra_practice101102103.html) &nbsp; &nbsp; [Standard Calculations 4-6](https://olgabelitskaya.github.io/linearalgebra_practice104105106.html) &nbsp; &nbsp; [Standard Calculations 7-9](https://olgabelitskaya.github.io/linearalgebra_practice107108109.html)\n",
    "\n",
    "#### [Standard Calculations 10-12](https://olgabelitskaya.github.io/linearalgebra_practice110111112.html) &nbsp; &nbsp;  [Standard Calculations 13-15](https://olgabelitskaya.github.io/linearalgebra_practice113114115.html) &nbsp; &nbsp;  [Standard Calculations 16-18](https://olgabelitskaya.github.io/linearalgebra_practice116117118.html)\n",
    "\n",
    "### Math Analysis\n",
    "\n",
    "#### [Standard Calculations 1.1-1.9](https://olgabelitskaya.github.io/mathanalysis_standardcalc101-109.html) &nbsp; &nbsp; [Standard Calculations 1.10-1.15](https://olgabelitskaya.github.io/mathanalysis_standardcalc110-115.html)\n",
    "\n",
    "#### [Standard Calculations 2.1-2.8](https://olgabelitskaya.github.io/mathanalysis_standardcalc201-208.html) &nbsp; &nbsp; [Standard Calculations 2.9-2.15](https://olgabelitskaya.github.io/mathanalysis_standardcalc209-215.html)\n",
    "\n",
    "### Programming\n",
    "\n",
    "#### [Lab Works 2-4](https://olgabelitskaya.github.io/program_lab234.html) &nbsp; &nbsp; [Lab Work 5](https://olgabelitskaya.github.io/program_lab5.html) &nbsp; &nbsp; [Lab Work 6](https://olgabelitskaya.github.io/program_lab6.html)\n",
    "\n",
    "#### [Lab Work 7](https://olgabelitskaya.github.io/program_lab7.html) &nbsp; &nbsp; [Lab Work 8](https://olgabelitskaya.github.io/program_lab8.html) &nbsp; &nbsp; [Lab Work 9](https://olgabelitskaya.github.io/program_lab9.html)\n",
    "\n",
    "#### [Lab Works 10](https://olgabelitskaya.github.io/program_lab10.html) &nbsp; &nbsp; [Lab Works 11](https://olgabelitskaya.github.io/program_lab11.html) &nbsp; &nbsp; [Standard Calculation](https://olgabelitskaya.github.io/program_standardcalc.html)"
   ]
  },
  {
   "cell_type": "markdown",
   "metadata": {},
   "source": [
    "## &#x1F4D1; &nbsp; School Exams \n",
    "### Math Exam Variants\n",
    "[Математика. Профильный уровень. 20 вариантов тестов. Тематическая рабочая тетрадь.](https://drive.google.com/file/d/0B8CJrELbJAyodmtvbV8xcEtZXzA/view)\n",
    "#### Variant 11:  &nbsp; [Notebook 📓](https://github.com/OlgaBelitskaya/math_20172018/blob/master/2018_Variant11.ipynb) [Web &#x1F310;](https://olgabelitskaya.github.io/2018_Variant11.html)\n",
    "#### Variant 12:  &nbsp; [Notebook 📓](https://github.com/OlgaBelitskaya/math_20172018/blob/master/2018_Variant12.ipynb) &nbsp; [Web &#x1F310;](https://olgabelitskaya.github.io/2018_Variant12.html)\n",
    "#### Variant 13:  &nbsp; [Notebook 📓](https://github.com/OlgaBelitskaya/math_20172018/blob/master/2018_Variant13.ipynb) &nbsp; [Web &#x1F310;](https://olgabelitskaya.github.io/2018_Variant13.html)\n",
    "#### Variant 14: &nbsp; [Notebook 📓](https://github.com/OlgaBelitskaya/math_20172018/blob/master/2018_Variant14.ipynb) &nbsp; [Web &#x1F310;](https://olgabelitskaya.github.io/2018_Variant14.html)\n",
    "#### Variant 15:  &nbsp; [Notebook 📓](https://github.com/OlgaBelitskaya/math_20172018/blob/master/2018_Variant15.ipynb) &nbsp; [Web &#x1F310;](https://olgabelitskaya.github.io/2018_Variant15.html)\n",
    "#### Variant 16:  &nbsp; [Notebook 📓](https://github.com/OlgaBelitskaya/math_20172018/blob/master/2018_Variant16.ipynb) &nbsp; [Web &#x1F310;](https://olgabelitskaya.github.io/2018_Variant16.html)\n",
    "#### Variant 17:  &nbsp; [Notebook 📓](https://github.com/OlgaBelitskaya/math_20172018/blob/master/2018_Variant17.ipynb) &nbsp; [Web &#x1F310;](https://olgabelitskaya.github.io/2018_Variant17.html)\n",
    "#### Variant 18:  &nbsp; [Notebook 📓](https://github.com/OlgaBelitskaya/math_20172018/blob/master/2018_Variant18.ipynb) &nbsp; [Web &#x1F310;](https://olgabelitskaya.github.io/2018_Variant18.html)\n",
    "#### Variant 19:  &nbsp; [Notebook 📓](https://github.com/OlgaBelitskaya/math_20172018/blob/master/2018_Variant19.ipynb) &nbsp; [Web &#x1F310;](https://olgabelitskaya.github.io/2018_Variant19.html)\n",
    "#### Variant 20:  &nbsp; [Notebook 📓](https://github.com/OlgaBelitskaya/math_20172018/blob/master/2018_Variant20.ipynb) &nbsp; [Web &#x1F310;](https://olgabelitskaya.github.io/2018_Variant20.html)\n",
    "### IT Exam Variants\n",
    "### 2017\n",
    "#### [ЕГЭ-2017. Информатика. 10 тренировочных вариантов. Ушаков Д.М](https://drive.google.com/file/d/0B6696ckkWj_zS2ptblAxNERHZzQ/view)\n",
    "#### Variant 1:  &nbsp; &nbsp; Python &nbsp; [Notebook 📓](https://github.com/OlgaBelitskaya/it_20172018/blob/master/2017_Variant1.ipynb) &nbsp; [Web &#x1F310;](https://olgabelitskaya.github.io/2017_Variant1.html) &nbsp; &nbsp; R &nbsp;  [Notebook 📓](https://github.com/OlgaBelitskaya/it_20172018/blob/master/2017_Variant1_R.ipynb) &nbsp; [Web &#x1F310;](https://olgabelitskaya.github.io/2017_Variant1_R.html)\n",
    "#### Variant 2:  &nbsp; &nbsp; Python &nbsp; [Notebook 📓](https://github.com/OlgaBelitskaya/it_20172018/blob/master/2017_Variant2.ipynb) &nbsp; [Web &#x1F310;](https://olgabelitskaya.github.io/2017_Variant2.html) &nbsp; &nbsp; R &nbsp;  [Notebook 📓](https://github.com/OlgaBelitskaya/it_20172018/blob/master/2017_Variant2_R.ipynb) &nbsp; [Web &#x1F310;](https://olgabelitskaya.github.io/2017_Variant2_R.html)\n",
    "#### Variant 3:  &nbsp; &nbsp; Python &nbsp; [Notebook 📓](https://github.com/OlgaBelitskaya/it_20172018/blob/master/2017_Variant3.ipynb) &nbsp; [Web &#x1F310;](https://olgabelitskaya.github.io/2017_Variant3.html) &nbsp; &nbsp; R &nbsp; [Notebook 📓](https://github.com/OlgaBelitskaya/it_20172018/blob/master/2017_Variant3_R.ipynb) &nbsp; [Web &#x1F310;](https://olgabelitskaya.github.io/2017_Variant3_R.html)\n",
    "#### Variant 4:  &nbsp; &nbsp; Python &nbsp; [Notebook 📓](https://github.com/OlgaBelitskaya/it_20172018/blob/master/2017_Variant4.ipynb) &nbsp; [Web &#x1F310;](https://olgabelitskaya.github.io/2017_Variant4.html) &nbsp; &nbsp; R &nbsp;  [Notebook 📓](https://github.com/OlgaBelitskaya/it_20172018/blob/master/2017_Variant4_R.ipynb) &nbsp; [Web &#x1F310;](https://olgabelitskaya.github.io/2017_Variant4_R.html)\n",
    "#### Variant 5:  &nbsp; &nbsp; Python &nbsp; [Notebook 📓](https://github.com/OlgaBelitskaya/it_20172018/blob/master/2017_Variant5.ipynb) &nbsp; [Web &#x1F310;](https://olgabelitskaya.github.io/2017_Variant5.html) &nbsp; &nbsp; R &nbsp;  [Notebook 📓](https://github.com/OlgaBelitskaya/it_20172018/blob/master/2017_Variant5_R.ipynb) &nbsp; [Web &#x1F310;](https://olgabelitskaya.github.io/2017_Variant5_R.html)\n",
    "#### Variant 6:  &nbsp; &nbsp; Python &nbsp; [Notebook 📓](https://github.com/OlgaBelitskaya/it_20172018/blob/master/2017_Variant6.ipynb) &nbsp; [Web &#x1F310;](https://olgabelitskaya.github.io/2017_Variant6.html) &nbsp; &nbsp; R &nbsp;  [Notebook 📓](https://github.com/OlgaBelitskaya/it_20172018/blob/master/2017_Variant6_R.ipynb) &nbsp; [Web &#x1F310;](https://olgabelitskaya.github.io/2017_Variant6_R.html)\n",
    "#### Variant 7:  &nbsp; &nbsp; Python &nbsp; [Notebook 📓](https://github.com/OlgaBelitskaya/it_20172018/blob/master/2017_Variant7.ipynb) &nbsp; [Web &#x1F310;](https://olgabelitskaya.github.io/2017_Variant7.html) &nbsp; &nbsp; R &nbsp; [Notebook 📓](https://github.com/OlgaBelitskaya/it_20172018/blob/master/2017_Variant7_R.ipynb) &nbsp; [Web &#x1F310;](https://olgabelitskaya.github.io/2017_Variant7_R.html)\n",
    "#### Variant 8:  &nbsp; &nbsp; Python &nbsp; [Notebook 📓](https://github.com/OlgaBelitskaya/it_20172018/blob/master/2017_Variant8.ipynb) &nbsp; [Web &#x1F310;](https://olgabelitskaya.github.io/2017_Variant8.html) &nbsp; &nbsp; R &nbsp;  [Notebook 📓](https://github.com/OlgaBelitskaya/it_20172018/blob/master/2017_Variant8_R.ipynb) &nbsp; [Web &#x1F310;](https://olgabelitskaya.github.io/2017_Variant8_R.html)\n",
    "#### Variant 9:  &nbsp; &nbsp; Python &nbsp; [Notebook 📓](https://github.com/OlgaBelitskaya/it_20172018/blob/master/2017_Variant9.ipynb) &nbsp; [Web &#x1F310;](https://olgabelitskaya.github.io/2017_Variant9.html) &nbsp; &nbsp; R &nbsp;  [Notebook 📓](https://github.com/OlgaBelitskaya/it_20172018/blob/master/2017_Variant9_R.ipynb) &nbsp; [Web &#x1F310;](https://olgabelitskaya.github.io/2017_Variant9_R.html)\n",
    "#### Variant 10:  &nbsp; &nbsp; Python &nbsp; [Notebook 📓](https://github.com/OlgaBelitskaya/it_20172018/blob/master/2017_Variant10.ipynb) &nbsp; [Web &#x1F310;](https://olgabelitskaya.github.io/2017_Variant10.html) &nbsp; &nbsp; R &nbsp; [Notebook 📓](https://github.com/OlgaBelitskaya/it_20172018/blob/master/2017_Variant10_R.ipynb) &nbsp; [Web &#x1F310;](https://olgabelitskaya.github.io/2017_Variant10_R.html)\n",
    "#### Д. В. Богданов:  &nbsp; &nbsp; Variant 1702:  &nbsp; [Notebook 📓](https://github.com/OlgaBelitskaya/it_20172018/blob/master/2017_Variant1702.ipynb) &nbsp; [Web &#x1F310;](https://olgabelitskaya.github.io/2017_Variant1702.html)\n",
    "### 2016\n",
    "#### СтатГрад: &nbsp; &nbsp; Variant ИН 10403:  &nbsp; [Notebook 📓](https://github.com/OlgaBelitskaya/it_20172018/blob/master/statgrad_in_10403_solutions.ipynb) &nbsp; [Web &#x1F310;](https://olgabelitskaya.github.io/statgrad_in_10403_solutions.html)"
   ]
  },
  {
   "cell_type": "code",
   "execution_count": 1,
   "metadata": {},
   "outputs": [
    {
     "data": {
      "text/html": [
       "<style>\n",
       "@import url('https://fonts.googleapis.com/css?family=Orbitron');\n",
       "@import url('https://fonts.googleapis.com/css?family=Roboto');\n",
       "body {background-color: #CBE5FA;}\n",
       "a {color: slategray; font-family: Roboto;}\n",
       "h1, h2 {color: #3883c2; font-family: Orbitron; text-shadow: 4px 4px 4px #aaa;}\n",
       "h3 {color: #346187; font-family: Orbitron; text-shadow: 4px 4px 4px #aaa;}\n",
       "h4 {color: #slategray; font-family: Roboto;}\n",
       "div.input_prompt {color: white;} \n",
       "div.text_cell_render {color: slategray}\n",
       "span {text-shadow: 4px 4px 4px #ccc;}   \n",
       "</style>"
      ],
      "text/plain": [
       "<IPython.core.display.HTML object>"
      ]
     },
     "metadata": {},
     "output_type": "display_data"
    }
   ],
   "source": [
    "%%html\n",
    "<style>\n",
    "@import url('https://fonts.googleapis.com/css?family=Orbitron');\n",
    "@import url('https://fonts.googleapis.com/css?family=Roboto');\n",
    "body {background-color: #CBE5FA;}\n",
    "a {color: slategray; font-family: Roboto;}\n",
    "h1, h2 {color: #3883c2; font-family: Orbitron; text-shadow: 4px 4px 4px #aaa;}\n",
    "h3 {color: #346187; font-family: Orbitron; text-shadow: 4px 4px 4px #aaa;}\n",
    "h4 {color: #slategray; font-family: Roboto;}\n",
    "div.input_prompt {color: white;} \n",
    "div.text_cell_render {color: slategray}\n",
    "span {text-shadow: 4px 4px 4px #ccc;}   \n",
    "</style>"
   ]
  }
 ],
 "metadata": {
  "kernelspec": {
   "display_name": "SageMath 8.8",
   "language": "sage",
   "name": "sagemath"
  },
  "language_info": {
   "codemirror_mode": {
    "name": "ipython",
    "version": 2
   },
   "file_extension": ".py",
   "mimetype": "text/x-python",
   "name": "python",
   "nbconvert_exporter": "python",
   "pygments_lexer": "ipython2",
   "version": "2.7.15"
  }
 },
 "nbformat": 4,
 "nbformat_minor": 2
}
