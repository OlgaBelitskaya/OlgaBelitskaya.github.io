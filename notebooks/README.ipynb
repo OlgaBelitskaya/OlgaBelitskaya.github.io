{
 "cells": [
  {
   "cell_type": "markdown",
   "metadata": {},
   "source": [
    "# &#x1F4DA; &nbsp; Notebooks:\n",
    "##### <span style=\"color:#338DD4\">click on the links to load</span>"
   ]
  },
  {
   "cell_type": "markdown",
   "metadata": {},
   "source": [
    "#### Data_Analyst_ND_Project0.ipynb:  https://olgabelitskaya.github.io/notebooks/Data_Analyst_ND_Project0.ipynb\n",
    "#### Data_Analyst_ND_Project1.ipynb:  https://olgabelitskaya.github.io/notebooks/Data_Analyst_ND_Project1.ipynb\n",
    "#### Data_Analyst_ND_Project2.ipynb:  https://olgabelitskaya.github.io/notebooks/Data_Analyst_ND_Project2.ipynb\n",
    "#### Data_Analyst_ND_Project3_Dubai-AbuDhabi_Extraction_MongoDB.ipynb:\n",
    "https://olgabelitskaya.github.io/notebooks/Data_Analyst_ND_Project3_Dubai-AbuDhabi_Extraction_MongoDB.ipynb\n",
    "#### Data_Analyst_ND_Project3_Dubai-AbuDhabi_MongoDB.ipynb: \n",
    "https://olgabelitskaya.github.io/notebooks/Data_Analyst_ND_Project3_Dubai-AbuDhabi_MongoDB.ipynb\n",
    "#### Data_Analyst_ND_Project3_Dubai-AbuDhabi_SQL.ipynb: \n",
    "https://olgabelitskaya.github.io/notebooks/Data_Analyst_ND_Project3_Dubai-AbuDhabi_SQL.ipynb\n",
    "#### Data_Analyst_ND_Project3_MoscowRegion.ipynb: \n",
    "https://olgabelitskaya.github.io/notebooks/Data_Analyst_ND_Project3_MoscowRegion.ipynb\n",
    "#### P3_postcodes.ipynb: https://olgabelitskaya.github.io/notebooks/P3_postcodes.ipynb\n",
    "#### P3_R_SQL_MongoDB.ipynb: https://olgabelitskaya.github.io/notebooks/P3_R_SQL_MongoDB.ipynb\n",
    "#### P4.Rmd: https://olgabelitskaya.github.io/notebooks/P4.Rmd\n",
    "#### P4Beta.Rmd: https://olgabelitskaya.github.io/notebooks/P4Beta.Rmd\n",
    "#### P5_Identify_Fraud_from_Enron_Email.ipynb: https://olgabelitskaya.github.io/notebooks/P5_Identify_Fraud_from_Enron_Email.ipynb\n",
    "#### P7_Design_an_A_B_Test_Overview.ipynb: https://olgabelitskaya.github.io/notebooks/P7_Design_an_A_B_Test_Overview.ipynb"
   ]
  },
  {
   "cell_type": "markdown",
   "metadata": {},
   "source": [
    "# &#x1F5C3; &nbsp; Files:\n",
    "##### <span style=\"color:#338DD4\">click on the links to load\n",
    "#### huge_cities.tsv: https://olgabelitskaya.github.io/notebooks/huge_cities.tsv\n",
    "#### c_bank.xlsx: https://olgabelitskaya.github.io/notebooks/c_bank.xlsx\n",
    "#### world_countries.json: https://olgabelitskaya.github.io/notebooks/world_countries.json\n",
    "#### enron.csv: https://olgabelitskaya.github.io/notebooks/enron.csv\n",
    "##### <span style=\"color:#338DD4\">click on the links to view</span>\n",
    "#### moscow_region.osm.json: https://github.com/OlgaBelitskaya/large-repo/blob/master/moscow_region.osm.json\n",
    "#### dubai_abu-dhabi.osm.json: https://github.com/OlgaBelitskaya/large-repo/blob/master/dubai_abu-dhabi.osm.json"
   ]
  }
 ],
 "metadata": {
  "anaconda-cloud": {},
  "hide_input": false,
  "kernelspec": {
   "display_name": "Python [conda root]",
   "language": "python",
   "name": "conda-root-py"
  },
  "language_info": {
   "codemirror_mode": {
    "name": "ipython",
    "version": 3
   },
   "file_extension": ".py",
   "mimetype": "text/x-python",
   "name": "python",
   "nbconvert_exporter": "python",
   "pygments_lexer": "ipython3",
   "version": "3.5.2"
  },
  "latex_envs": {
   "bibliofile": "biblio.bib",
   "cite_by": "apalike",
   "current_citInitial": 1,
   "eqLabelWithNumbers": true,
   "eqNumInitial": 0
  }
 },
 "nbformat": 4,
 "nbformat_minor": 2
}
