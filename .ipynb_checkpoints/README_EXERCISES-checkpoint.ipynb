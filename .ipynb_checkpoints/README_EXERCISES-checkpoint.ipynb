{
 "cells": [
  {
   "cell_type": "markdown",
   "metadata": {},
   "source": [
    "# &#x1F3D9; &nbsp;  Various Exam Exercises &nbsp; &nbsp; &nbsp; &nbsp; &nbsp; &nbsp; &nbsp; &nbsp; &nbsp;<a href=\"https://olgabelitskaya.github.io/README.html\">&#x1F300; &nbsp; Home Page &nbsp; &nbsp;</a>"
   ]
  },
  {
   "cell_type": "markdown",
   "metadata": {},
   "source": [
    "## &#x1F4D1;  &nbsp; Pages Created for the Example of Student Websites\n",
    "<br/><details><summary>Maths</summary>\n",
    "    \n",
    "<br/>WolframCloud\n",
    "#### [🌀 Example № 1](https://olgabelitskaya.github.io/mathTF1319W.html)\n",
    "<br/>Google Colaboratory\n",
    "#### [📓 Example № 1](https://colab.research.google.com/drive/1MT0iq9l_Hzeh6FTbicvLuVdvNbV6J82p) \n",
    "#### [📓 Example № 2](https://colab.research.google.com/drive/1VF7zOPBWvfhnfUXfOgSgLnz65MiC4ULh)\n",
    "<br/>SageMathCell<br/><br/>\n",
    "<a href=\"https://olgabelitskaya.github.io/mathTF1319_01.html\">🌀 № 1</a> &nbsp; &nbsp;\n",
    "<a href=\"https://olgabelitskaya.github.io/mathTF1319_02.html\">🌀 № 2</a> &nbsp; &nbsp;\n",
    "<a href=\"https://olgabelitskaya.github.io/mathTF1319_03.html\">🌀 № 3</a> &nbsp; &nbsp;\n",
    "<br/><br/>\n",
    "<a href=\"https://olgabelitskaya.github.io/mathTF1319_04.html\">🌀 № 4</a> &nbsp; &nbsp;\n",
    "<a href=\"https://olgabelitskaya.github.io/mathTF1319_05.html\">🌀 № 5</a> &nbsp; &nbsp;\n",
    "<a href=\"https://olgabelitskaya.github.io/mathTF1319_09.html\">🌀 № 9</a> \n",
    "<br/><br/>\n",
    "<a href=\"https://olgabelitskaya.github.io/mathTF1319_11.html\">🌀 № 11</a> &nbsp; &nbsp;\n",
    "<a href=\"https://olgabelitskaya.github.io/mathTF1319_12.html\">🌀 № 12</a> &nbsp; &nbsp;\n",
    "<a href=\"https://olgabelitskaya.github.io/mathTF1319_13.html\">🌀 № 13</a> &nbsp; &nbsp;\n",
    "<a href=\"https://olgabelitskaya.github.io/mathTF1319_14.html\">🌀 № 14</a> &nbsp; &nbsp;\n",
    "<br/><br/>\n",
    "<a href=\"https://olgabelitskaya.github.io/mathTF1319_15.html\">🌀 № 15</a> &nbsp; &nbsp;\n",
    "<a href=\"https://olgabelitskaya.github.io/mathTF1319_16.html\">🌀 № 16</a> &nbsp; &nbsp;\n",
    "<a href=\"https://olgabelitskaya.github.io/mathTF1319_17.html\">🌀 № 17</a>\n",
    "<br/><br/>"
   ]
  },
  {
   "cell_type": "markdown",
   "metadata": {},
   "source": [
    "<br/><details><summary>IT</summary>\n",
    "    \n",
    "<br/>WolframCloud\n",
    "#### [🌀 Example № 1](https://olgabelitskaya.github.io/itTF1319W.html)\n",
    "<br/>Google Colaboratory\n",
    "#### [📓 Example № 1](https://colab.research.google.com/drive/1c1iJqa66AdXCwUru2aRfbAg4j-CGLVRe)\n",
    "<br/>SageMathCell<br/><br/>\n",
    "<a href=\"https://olgabelitskaya.github.io/itTF1319_01.html\">🌀 № 1</a> &nbsp; &nbsp;\n",
    "<a href=\"https://olgabelitskaya.github.io/itTF1319_02.html\">🌀 № 2</a> &nbsp; &nbsp;\n",
    "<a href=\"https://olgabelitskaya.github.io/itTF1319_03.html\">🌀 № 3</a> &nbsp; &nbsp;\n",
    "<a href=\"https://olgabelitskaya.github.io/itTF1319_04.html\">🌀 № 4</a> \n",
    "<br/><br/>"
   ]
  },
  {
   "cell_type": "markdown",
   "metadata": {},
   "source": [
    "<h2>&#x1F4D1; SageMathCell Practice & IT Studying Tasks</h2>\n",
    "<br/><details><summary>Interactive Pages</summary>\n",
    "    \n",
    "<a href=\"https://olgabelitskaya.github.io/it_mini_campus/Task_1_1_Task_1_2.html\"> 🌀 &nbsp; Task 1.1. Task1.2</a> &nbsp; &nbsp; \n",
    "<a href=\"https://olgabelitskaya.github.io/it_mini_campus/Task_1_3_1.html\"> 🌀 &nbsp; Task 1.3.1</a> &nbsp; &nbsp; \n",
    "<a href=\"https://olgabelitskaya.github.io/it_mini_campus/Task_1_3_2.html\"> 🌀 &nbsp; Task 1.3.2</a> &nbsp; &nbsp;\n",
    "<a href=\"https://olgabelitskaya.github.io/it_mini_campus/Task_1_3_3.html\"> 🌀 &nbsp; Task 1.3.3</a> &nbsp; &nbsp;\n",
    "<br/><br/>\n",
    "<a href=\"https://olgabelitskaya.github.io/it_mini_campus/Task_1_4_1.html\"> 🌀 &nbsp; Task 1.4.1</a> &nbsp; &nbsp;\n",
    "<a href=\"https://olgabelitskaya.github.io/it_mini_campus/Task_1_4_2.html\"> 🌀 &nbsp; Task 1.4.2</a> &nbsp; &nbsp; \n",
    "<a href=\"https://olgabelitskaya.github.io/it_mini_campus/Task_1_4_3.html\"> 🌀 &nbsp; Task 1.4.3</a>\n",
    "<br/><br/>\n",
    "<a href=\"https://olgabelitskaya.github.io/it_mini_campus/Task_1_5.html\"> 🌀 &nbsp; Task 1.5</a> &nbsp; &nbsp;\n",
    "<a href=\"https://olgabelitskaya.github.io/it_mini_campus/Task_1_6.html\"> 🌀 &nbsp; Task 1.6</a> &nbsp; &nbsp;\n",
    "<a href=\"https://olgabelitskaya.github.io/it_mini_campus/Task_1_7.html\"> 🌀 &nbsp; Task 1.7</a> &nbsp; &nbsp;\n",
    "<a href=\"https://olgabelitskaya.github.io/it_mini_campus/Task_1_8.html\"> 🌀 &nbsp; Task 1.8</a> &nbsp; &nbsp;\n",
    "<br/><br/>\n",
    "<a href=\"https://olgabelitskaya.github.io/it_mini_campus/Task_1_9_1.html\"> 🌀 &nbsp; Task 1.9.1</a> &nbsp; &nbsp;\n",
    "<a href=\"https://olgabelitskaya.github.io/it_mini_campus/Task_1_9_2.html\"> 🌀 &nbsp; Task 1.9.2</a> &nbsp; &nbsp;\n",
    "<a href=\"https://olgabelitskaya.github.io/it_mini_campus/Task_1_9_3.html\"> 🌀 &nbsp; Task 1.9.3</a> &nbsp; &nbsp;\n",
    "<a href=\"https://olgabelitskaya.github.io/it_mini_campus/Task_1_9_4.html\"> 🌀 &nbsp; Task 1.9.4</a>\n",
    "<br/><br/>\n",
    "<a href=\"https://olgabelitskaya.github.io/it_mini_campus/Task_2_2.html\"> 🌀 &nbsp; Task 2.2</a> &nbsp; &nbsp;\n",
    "<a href=\"https://olgabelitskaya.github.io/it_mini_campus/Task_2_3.html\"> 🌀 &nbsp; Task 2.3</a> &nbsp; &nbsp;\n",
    "<a href=\"https://olgabelitskaya.github.io/it_mini_campus/Task_2_4.html\"> 🌀 &nbsp; Task 2.4</a> &nbsp; &nbsp;\n",
    "<br/><br/>\n",
    "<a href=\"https://olgabelitskaya.github.io/it_mini_campus/Task_2_5_1.html\"> 🌀 &nbsp; Task 2.5.1</a> &nbsp; &nbsp;\n",
    "<a href=\"https://olgabelitskaya.github.io/it_mini_campus/Task_2_5_2.html\"> 🌀 &nbsp; Task 2.5.2</a> &nbsp; &nbsp;\n",
    "<a href=\"https://olgabelitskaya.github.io/it_mini_campus/Task_2_5_3.html\"> 🌀 &nbsp; Task 2.5.3</a> &nbsp; &nbsp;\n",
    "<a href=\"https://olgabelitskaya.github.io/it_mini_campus/Task_2_5_4.html\"> 🌀 &nbsp; Task 2.5.4</a> &nbsp; &nbsp;\n",
    "<a href=\"https://olgabelitskaya.github.io/it_mini_campus/Task_2_6.html\"> 🌀 &nbsp; Task 2.6</a> \n",
    "<br/><br/>\n",
    "<a href=\"https://olgabelitskaya.github.io/it_mini_campus/Task_3_1_1.html\"> 🌀 &nbsp; Task 3.3.1</a> &nbsp; &nbsp;\n",
    "<a href=\"https://olgabelitskaya.github.io/it_mini_campus/Task_3_1_2.html\"> 🌀 &nbsp; Task 3.3.2</a> &nbsp; &nbsp;"
   ]
  },
  {
   "cell_type": "code",
   "execution_count": 1,
   "metadata": {},
   "outputs": [
    {
     "data": {
      "text/html": [
       "<style>\n",
       "@import url('https://fonts.googleapis.com/css?family=Orbitron|Roboto');\n",
       "body {background-color:#CBE5FA;}\n",
       "h1,h3 {color:#3883C2; font-family:Orbitron; text-shadow:4px 4px 4px #aaa;}\n",
       "h2,summary {color:#346187; font-family:Orbitron; text-shadow:4px 4px 4px #aaa;}\n",
       "h4,a {color:#slategray; font-family:Roboto;}\n",
       "div.input_prompt {color:white} \n",
       "div.text_cell_render {color:slategray}\n",
       "span {text-shadow:4px 4px 4px #ccc;}   \n",
       "</style>\n",
       "<script>\n",
       "code_show=true; \n",
       "function code_display() {\n",
       "    if (code_show) {\n",
       "        $('div.input').each(function(id) {\n",
       "            if (id==0 || $(this).html().indexOf('hide_code')>-1) {$(this).hide();}\n",
       "        });\n",
       "        $('div.output_prompt').css('opacity',0);\n",
       "    } else {\n",
       "        $('div.input').each(function(id) {$(this).show();});\n",
       "        $('div.output_prompt').css('opacity',1);\n",
       "    };\n",
       "    code_show=!code_show;\n",
       "} \n",
       "$(document).ready(code_display);\n",
       "</script>\n",
       "<form action=\"javascript: code_display()\">\n",
       "<input style=\"color:slategray; font-family:Orbitron; background:#CBE5FA; opacity:.8;\" \\ \n",
       "type=\"submit\" value=\"click to display or hide code cells\">\n",
       "</form>"
      ],
      "text/plain": [
       "<IPython.core.display.HTML object>"
      ]
     },
     "metadata": {},
     "output_type": "display_data"
    }
   ],
   "source": [
    "%%html\n",
    "<style>\n",
    "@import url('https://fonts.googleapis.com/css?family=Orbitron|Roboto');\n",
    "body {background-color:#CBE5FA;}\n",
    "h1,h3 {color:#3883C2; font-family:Orbitron; text-shadow:4px 4px 4px #aaa;}\n",
    "h2,summary {color:#346187; font-family:Orbitron; text-shadow:4px 4px 4px #aaa;}\n",
    "h4,a {color:#slategray; font-family:Roboto;}\n",
    "div.input_prompt {color:white} \n",
    "div.text_cell_render {color:slategray}\n",
    "span {text-shadow:4px 4px 4px #ccc;}   \n",
    "</style>\n",
    "<script>\n",
    "code_show=true; \n",
    "function code_display() {\n",
    "    if (code_show) {\n",
    "        $('div.input').each(function(id) {\n",
    "            if (id==0 || $(this).html().indexOf('hide_code')>-1) {$(this).hide();}\n",
    "        });\n",
    "        $('div.output_prompt').css('opacity',0);\n",
    "    } else {\n",
    "        $('div.input').each(function(id) {$(this).show();});\n",
    "        $('div.output_prompt').css('opacity',1);\n",
    "    };\n",
    "    code_show=!code_show;\n",
    "} \n",
    "$(document).ready(code_display);\n",
    "</script>\n",
    "<form action=\"javascript: code_display()\">\n",
    "<input style=\"color:slategray; font-family:Orbitron; background:#CBE5FA; opacity:.8;\" \\ \n",
    "type=\"submit\" value=\"click to display or hide code cells\">\n",
    "</form>"
   ]
  }
 ],
 "metadata": {
  "kernelspec": {
   "display_name": "SageMath 9.0",
   "language": "sage",
   "name": "sagemath"
  },
  "language_info": {
   "codemirror_mode": {
    "name": "ipython",
    "version": 3
   },
   "file_extension": ".py",
   "mimetype": "text/x-python",
   "name": "python",
   "nbconvert_exporter": "python",
   "pygments_lexer": "ipython3",
   "version": "3.7.3"
  }
 },
 "nbformat": 4,
 "nbformat_minor": 2
}
