{
 "cells": [
  {
   "cell_type": "markdown",
   "metadata": {},
   "source": [
    "# &#x1F5A5; &nbsp; List of Courses &nbsp; &nbsp; &nbsp; &nbsp; &nbsp; &nbsp; &nbsp; &nbsp; &nbsp; &nbsp; &nbsp; &nbsp; &nbsp; &nbsp; &nbsp; &nbsp; &nbsp; &nbsp; &nbsp; &nbsp; [🌀   Home Page    ](https://olgabelitskaya.github.io/README.html)\n",
    "### [Built with Udacity](https://www.udacity.com)"
   ]
  },
  {
   "cell_type": "markdown",
   "metadata": {
    "collapsed": true
   },
   "source": [
    "## &#x1F517; &nbsp; UDACITY `bio110` Tales from the Genome\n",
    "<br/><details><summary>Reflections</summary>\n",
    "\n",
    "#### [Lesson 5-6](https://olgabelitskaya.github.io/reflections/reflections-bio110-5-6.html) \n",
    "#### [Lesson 7-8](https://olgabelitskaya.github.io/reflections/reflections-bio110-7-8.html) \n",
    "#### [Lesson 9-10](https://olgabelitskaya.github.io/reflections/reflections-bio110-9-10.html)\n",
    "#### [Exam 2](https://olgabelitskaya.github.io/reflections/reflections-bio110-exam2.html)\n"
   ]
  },
  {
   "cell_type": "markdown",
   "metadata": {},
   "source": [
    "## &#x1F578; &nbsp; UDACITY `cs215`   Intro to Algorithms\n",
    "<br/><details><summary>Reflections</summary>\n",
    "    \n",
    "####  [Lesson 1-2](https://github.com/OlgaBelitskaya/reflections/tree/master/cs215/reflections-cs215-1-2.ipynb) \n",
    "#### [Lesson 3-4](https://github.com/OlgaBelitskaya/reflections/tree/master/cs215/reflections-cs215-3-4.ipynb) \n",
    "#### [Lesson 5-6](https://github.com/OlgaBelitskaya/reflections/tree/master/cs215/reflections-cs215-5-6.ipynb) \n",
    "#### [Lesson 7-F](https://github.com/OlgaBelitskaya/reflections/tree/master/cs215/reflections-cs215-7-F.ipynb)\n"
   ]
  },
  {
   "cell_type": "markdown",
   "metadata": {},
   "source": [
    "##  &#x1F4CA; &nbsp; UDACITY `ud359` Intro to Data Science\n",
    "<br/><details><summary>Reflections</summary>\n",
    "    \n",
    "#### [Lesson 1-2](https://github.com/OlgaBelitskaya/reflections/tree/master/ud359/reflections-ud359-1-2.ipynb)\n",
    "#### [Lesson 3-4](https://github.com/OlgaBelitskaya/reflections/tree/master/ud359/reflections-ud359-3-4.ipynb) \n",
    "#### [Lesson 5](https://github.com/OlgaBelitskaya/reflections/tree/master/ud359/reflections-ud359-5.ipynb)\n",
    "#### [Project](https://github.com/OlgaBelitskaya/machine_learning_engineer_nd009/blob/master/Machine_Learning_Engineer_ND_P8/MLE_ND_P8_V0.ipynb)\n"
   ]
  },
  {
   "cell_type": "markdown",
   "metadata": {
    "collapsed": true
   },
   "source": [
    "##  &#x1F4CA; &nbsp; UDACITY `ud827` Intro to Descriptive Statistics\n",
    "#### [Lesson 1-7](https://github.com/OlgaBelitskaya/reflections/tree/master/ud827/reflections-ud827-1-7.ipynb)"
   ]
  },
  {
   "cell_type": "markdown",
   "metadata": {},
   "source": [
    "##  &#x1F4CA; &nbsp; UDACITY `ud501` Machine Learning for Trading\n",
    "<br/><details><summary>Reflections</summary>\n",
    "    \n",
    "#### [Lesson 1](https://github.com/OlgaBelitskaya/reflection2/blob/master/reflections-ud501-1.ipynb) \n",
    "#### [Lesson 2](https://github.com/OlgaBelitskaya/reflection2/blob/master/reflections-ud501-2.ipynb)\n",
    "#### [Lesson 3](https://github.com/OlgaBelitskaya/reflection2/blob/master/reflections-ud501-3.ipynb)\n"
   ]
  },
  {
   "cell_type": "markdown",
   "metadata": {},
   "source": [
    "##  &#x1F916; &nbsp; UDACITY `ud600` Introduction To Reinforcement Learning\n",
    "<br/><details><summary>Reflections</summary>\n",
    "\n",
    "#### [Lesson 1-2](https://olgabelitskaya.github.io/reflections/reflections-ud600-1-2.html) \n",
    "#### [Lesson 3-4](https://github.com/OlgaBelitskaya/reflections/tree/master/ud600/reflections-ud600-3-4.ipynb) \n",
    "#### [Lesson 5-6](https://github.com/OlgaBelitskaya/reflections/tree/master/ud600/reflections-ud600-5-6.ipynb) \n",
    "#### [Lesson 7-8](https://github.com/OlgaBelitskaya/reflections/tree/master/ud600/reflections-ud600-7-8.ipynb) \n",
    "#### [Lesson 9-10](https://github.com/OlgaBelitskaya/reflections/tree/master/ud600/reflections-ud600-9-10.ipynb) \n",
    "#### [Lesson 11-12](https://github.com/OlgaBelitskaya/reflections/tree/master/ud600/reflections-ud600-11-12-C.ipynb)\n",
    "#### [Lesson HW](https://github.com/OlgaBelitskaya/reflections/tree/master/ud600/reflections-ud600-HW.ipynb)\n"
   ]
  },
  {
   "cell_type": "markdown",
   "metadata": {},
   "source": [
    "##  &#x1F916; &nbsp; UDACITY `ud730` Deep Learning\n",
    "<br/><details><summary>Reflections</summary>\n",
    "\n",
    "#### [Lesson 1-2](https://github.com/OlgaBelitskaya/reflection2/blob/master/reflections-ud730-1-2.ipynb)\n",
    "#### [Lesson 3](https://github.com/OlgaBelitskaya/reflection2/blob/master/reflections-ud730-3.ipynb)\n",
    "#### [Lesson 4](https://github.com/OlgaBelitskaya/reflection2/blob/master/reflections-ud730-4.ipynb)   \n",
    "#### [Lesson 5](https://github.com/OlgaBelitskaya/reflection2/blob/master/reflections-ud730-5.ipynb) \n",
    "#### [Lesson 6](https://github.com/OlgaBelitskaya/reflection2/blob/master/reflections-ud730-6.ipynb)\n",
    "#### [Project](https://github.com/OlgaBelitskaya/reflection2/blob/master/reflections-ud730-P.ipynb)\n"
   ]
  },
  {
   "cell_type": "markdown",
   "metadata": {},
   "source": [
    "##  &#x1F916; &nbsp; UDACITY `cs373` Artificial Intelligence for Robotics\n",
    "<br/><details><summary>Reflections</summary>\n",
    "    \n",
    "#### [Sections 1-3](https://github.com/OlgaBelitskaya/reflections/blob/master/cs373/reflections-cs373-1-3.ipynb) \n",
    "#### [Sections 4-7](https://github.com/OlgaBelitskaya/reflections/blob/master/cs373/reflections-cs373-4-7.ipynb) \n",
    "#### [Sections 8-11](https://github.com/OlgaBelitskaya/reflections/blob/master/cs373/reflections-cs373-8-11.ipynb) \n",
    "#### [Sections 12-14](https://github.com/OlgaBelitskaya/reflections/blob/master/cs373/reflections-cs373-12-14.ipynb) \n",
    "#### [Sections 15-18](https://github.com/OlgaBelitskaya/reflections/blob/master/cs373/reflections-cs373-15-18.ipynb)\n",
    "#### [Sections 19-22](https://github.com/OlgaBelitskaya/reflections/blob/master/cs373/reflections-cs373-19-22.ipynb)\n",
    "#### [Section 23P](https://github.com/OlgaBelitskaya/reflections/blob/master/cs373/reflections-cs373-23P.ipynb)\n"
   ]
  },
  {
   "cell_type": "code",
   "execution_count": 1,
   "metadata": {},
   "outputs": [
    {
     "data": {
      "text/html": [
       "<style>\n",
       "@import url('https://fonts.googleapis.com/css?family=Orbitron|Roboto');\n",
       "body {background-color:#CBE5FA;}\n",
       "h1,h3 {color:#3883C2; font-family:Orbitron; text-shadow:4px 4px 4px #aaa;}\n",
       "h2,summary {color:#346187; font-family:Orbitron; text-shadow:4px 4px 4px #aaa;}\n",
       "h4,a {color:#slategray; font-family:Roboto;}\n",
       "div.input_prompt {color:white} \n",
       "div.text_cell_render {color:slategray}\n",
       "span {text-shadow:4px 4px 4px #ccc;}   \n",
       "</style>\n",
       "<script>\n",
       "code_show=true; \n",
       "function code_display() {\n",
       "    if (code_show) {\n",
       "        $('div.input').each(function(id) {\n",
       "            if (id==0 || $(this).html().indexOf('hide_code')>-1) {$(this).hide();}\n",
       "        });\n",
       "        $('div.output_prompt').css('opacity',0);\n",
       "    } else {\n",
       "        $('div.input').each(function(id) {$(this).show();});\n",
       "        $('div.output_prompt').css('opacity',1);\n",
       "    };\n",
       "    code_show=!code_show;\n",
       "} \n",
       "$(document).ready(code_display);\n",
       "</script>\n",
       "<form action=\"javascript: code_display()\">\n",
       "<input style=\"color:slategray; font-family:Orbitron; background:#CBE5FA; opacity:.8;\" \\ \n",
       "type=\"submit\" value=\"click to display or hide code cells\">\n",
       "</form>"
      ],
      "text/plain": [
       "<IPython.core.display.HTML object>"
      ]
     },
     "metadata": {},
     "output_type": "display_data"
    }
   ],
   "source": [
    "%%html\n",
    "<style>\n",
    "@import url('https://fonts.googleapis.com/css?family=Orbitron|Roboto');\n",
    "body {background-color:#CBE5FA;}\n",
    "h1,h3 {color:#3883C2; font-family:Orbitron; text-shadow:4px 4px 4px #aaa;}\n",
    "h2,summary {color:#346187; font-family:Orbitron; text-shadow:4px 4px 4px #aaa;}\n",
    "h4,a {color:#slategray; font-family:Roboto;}\n",
    "div.input_prompt {color:white} \n",
    "div.text_cell_render {color:slategray}\n",
    "span {text-shadow:4px 4px 4px #ccc;}   \n",
    "</style>\n",
    "<script>\n",
    "code_show=true; \n",
    "function code_display() {\n",
    "    if (code_show) {\n",
    "        $('div.input').each(function(id) {\n",
    "            if (id==0 || $(this).html().indexOf('hide_code')>-1) {$(this).hide();}\n",
    "        });\n",
    "        $('div.output_prompt').css('opacity',0);\n",
    "    } else {\n",
    "        $('div.input').each(function(id) {$(this).show();});\n",
    "        $('div.output_prompt').css('opacity',1);\n",
    "    };\n",
    "    code_show=!code_show;\n",
    "} \n",
    "$(document).ready(code_display);\n",
    "</script>\n",
    "<form action=\"javascript: code_display()\">\n",
    "<input style=\"color:slategray; font-family:Orbitron; background:#CBE5FA; opacity:.8;\" \\ \n",
    "type=\"submit\" value=\"click to display or hide code cells\">\n",
    "</form>"
   ]
  }
 ],
 "metadata": {
  "anaconda-cloud": {},
  "hide_input": false,
  "kernelspec": {
   "display_name": "Python 3",
   "language": "python",
   "name": "python3"
  },
  "language_info": {
   "codemirror_mode": {
    "name": "ipython",
    "version": 3
   },
   "file_extension": ".py",
   "mimetype": "text/x-python",
   "name": "python",
   "nbconvert_exporter": "python",
   "pygments_lexer": "ipython3",
   "version": "3.7.3"
  },
  "latex_envs": {
   "bibliofile": "biblio.bib",
   "cite_by": "apalike",
   "current_citInitial": 1,
   "eqLabelWithNumbers": true,
   "eqNumInitial": 0
  }
 },
 "nbformat": 4,
 "nbformat_minor": 2
}
