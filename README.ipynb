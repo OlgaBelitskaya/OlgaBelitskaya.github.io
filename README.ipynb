{
 "cells": [
  {
   "cell_type": "markdown",
   "metadata": {
    "outputExpanded": false
   },
   "source": [
    "# &#x1F3D9; &nbsp; Projects"
   ]
  },
  {
   "cell_type": "markdown",
   "metadata": {
    "outputExpanded": false
   },
   "source": [
    "## &#x1F4D1; &nbsp; Data Analyst Nanodegree \n",
    "### [Built with Udacity](https://www.udacity.com) &nbsp; [Certificate](https://olgabelitskaya.github.io/certificate.pdf)\n",
    "\n",
    "### &#x1F310; &nbsp; [click to view the github repository](https://github.com/OlgaBelitskaya/data-analyst-nd002)\n",
    "\n",
    "#### [P0: Chopsticks!](https://olgabelitskaya.github.io/Data_Analyst_ND_Project0.html) &nbsp;  [P1: The Stroop Effect](https://olgabelitskaya.github.io/Data_Analyst_ND_Project1.html) &nbsp;  [P2: Titanic](https://olgabelitskaya.github.io/Data_Analyst_ND_Project2.html)  &nbsp; \n",
    "#### [P3 Extraction MongoDB](https://olgabelitskaya.github.io/Data_Analyst_ND_Project3_Dubai-AbuDhabi_Extraction_MongoDB.html) &nbsp;  [P3 MongoDB](https://olgabelitskaya.github.io/Data_Analyst_ND_Project3_Dubai-AbuDhabi_MongoDB.html) &nbsp; [P3 Postcodes](https://olgabelitskaya.github.io/P3_postcodes.html) &nbsp; [P3 Additional SQL](https://olgabelitskaya.github.io/Data_Analyst_ND_Project3_Dubai-AbuDhabi_SQL.html) &nbsp;  [P3 Additional R SQL MongoDB](https://olgabelitskaya.github.io/P3_R_SQL_MongoDB.html) &nbsp; [P3 Additional Moscow Region](https://olgabelitskaya.github.io/Data_Analyst_ND_Project3_MoscowRegion.html)\n",
    "#### [P4: Explore and Summarize Data](https://olgabelitskaya.github.io/P4Beta.html)\n",
    "#### [P5: Identify Fraud from Enron Email. Extraction](https://olgabelitskaya.github.io/P5_Identify_Fraud_from_Enron_Email_Extraction.txt) &nbsp;  [P5: Identify Fraud from Enron Email](https://olgabelitskaya.github.io/P5_Identify_Fraud_from_Enron_Email.html) &nbsp;  [P5: Identify Fraud from Enron Email. Response Questions](https://olgabelitskaya.github.io/P5_Enron_Submission_Free_Response_Questions.txt)\n",
    "#### [P6: Make Effective Data Visualization. Review](https://olgabelitskaya.github.io/P6_Readme.html) &nbsp;  [P6: Make Effective Data Visualization](https://olgabelitskaya.github.io/P6_index_final.html)\n",
    "#### [P7: Design an A/B Test](https://olgabelitskaya.github.io/P7_Design_an_A_B_Test_Overview.html) &nbsp;  [P7: Design an A/B Test. Extraction](https://olgabelitskaya.github.io/P7_Design_an_A_B_Test_Extraction.pdf)"
   ]
  },
  {
   "cell_type": "markdown",
   "metadata": {},
   "source": [
    "## &#x1F4D1; &nbsp; Machine Learning Engineer Nanodegree\n",
    "### [Built with Udacity](https://www.udacity.com) \n",
    "\n",
    "### &#x1F310; &nbsp; [click to view the github repository](https://github.com/OlgaBelitskaya/machine_learning_engineer_nd009)\n",
    "\n",
    "#### [P0: Titanic Survival Exploration](https://olgabelitskaya.github.io/MLE_ND_P0_V0.html) &nbsp;  [P1: Predicting Boston Housing Prices](https://olgabelitskaya.github.io/MLE_ND_P1_V0.html) &nbsp;  [P2: Finding Donors for CharityML](https://olgabelitskaya.github.io/MLE_ND_P2_V0.html) &nbsp; [P3: Creating Customer Segments](https://olgabelitskaya.github.io/MLE_ND_P3_V0.html)\n",
    "#### P4: Train a Smartcab to Drive \n",
    "* [Version 0](https://olgabelitskaya.github.io/MLE_ND_P4_V0.html)\n",
    "* [Version 1](https://olgabelitskaya.github.io/MLE_ND_P4_V1.html)\n",
    "\n",
    "#### P5: Build a Digit Recognition Program \n",
    "* [Step 1](https://olgabelitskaya.github.io/MLE_ND_P5_V0_S1.html)\n",
    "* [Step 2](https://olgabelitskaya.github.io/MLE_ND_P5_V0_S2.html)\n",
    "* [Step 3](https://olgabelitskaya.github.io/MLE_ND_P5_V0_S3.html)\n",
    "\n",
    "#### P6: Capstone Project \n",
    "* [Version 0](https://olgabelitskaya.github.io/MLE_ND_P6_V0.html)\n",
    "* [Version 1](https://olgabelitskaya.github.io/MLE_ND_P6_V1.html)\n",
    "\n",
    "#### [P7: Building a Student Intervention System](https://olgabelitskaya.github.io/MLE_ND_P7_V0.html) &nbsp; [P8: Analyzing the NYC Subway Dataset](https://olgabelitskaya.github.io/MLE_ND_P8_V0.html)\n",
    "#### P9: Image Classification \n",
    "* [Version 0](https://olgabelitskaya.github.io/MLE_ND_P9_V0.html)\n",
    "* [Version 3](https://olgabelitskaya.github.io/MLE_ND_P9_V3.html)\n",
    "\n",
    "#### [P10: Write an Algorithm for a Dog Identification App](https://olgabelitskaya.github.io/MLE_ND_P10_V0.html)"
   ]
  },
  {
   "cell_type": "markdown",
   "metadata": {},
   "source": [
    "## &#x1F4D1; &nbsp; Deep Learning Nanodegree \n",
    "### [Built with Udacity](https://www.udacity.com) \n",
    "\n",
    "### &#x1F310; &nbsp; [click to view the github repository](https://github.com/OlgaBelitskaya/deep_learning_nanodegree_nd101)\n",
    "\n",
    "#### [P1: Your first neural network](https://olgabelitskaya.github.io/DL_ND_P1_V0.html)  &nbsp;  [P2:  Image Classification](https://olgabelitskaya.github.io/DL_ND_P2_V0.html) &nbsp;  [P3  Generate TV scripts](https://olgabelitskaya.github.io/DL_ND_P3_V0.html) &nbsp;  [P4:  Translate a Language](https://olgabelitskaya.github.io/DL_ND_P4_V0.html) &nbsp;  [P5: Generate Faces ](https://olgabelitskaya.github.io/DL_ND_P5_V0.html)"
   ]
  },
  {
   "cell_type": "markdown",
   "metadata": {
    "outputExpanded": false
   },
   "source": [
    "## &#x1F4D1; &nbsp; Interview and Technical Interview Practice.\n",
    "#### Udacity_Interview_Practice.ipynb &nbsp; [&#x1F310;](https://gist.github.com/OlgaBelitskaya/1ddb287592832cf581fc122d6bc2732e)\n",
    "#### Udacity_Technical_Interview_Practice_Lessons.ipynb &nbsp; [&#x1F310;](https://gist.github.com/OlgaBelitskaya/a6cb19e1f3a041e6f6a56ccf58b4701c)\n",
    "#### Udacity_Technical_Interview_Practice_Project.ipynb &nbsp; [&#x1F310;](https://gist.github.com/OlgaBelitskaya/849e983dd6e90943d5760be4c4986501)"
   ]
  },
  {
   "cell_type": "markdown",
   "metadata": {
    "outputExpanded": false
   },
   "source": [
    "---\n",
    "# &#x1F4D8; &nbsp; Courses and Programs \n",
    "https://olgabelitskaya.github.io/reflections/README.html\n",
    "\n",
    "# &#x1F4D8; &nbsp; Notebooks and Data Files\n",
    "https://olgabelitskaya.github.io/notebooks/README.html\n",
    "\n",
    "# &#x1F4D8; &nbsp; Additional Exercises\n",
    "https://olgabelitskaya.github.io/README_EXERCISES.html\n",
    "\n",
    "# &#x1F4D8; &nbsp;  Cookbooks\n",
    "### Keras Python &nbsp; [&#x1F310;](https://olgabelitskaya.github.io/keras_cookbook.html)\n",
    "### Keras R &nbsp; [&#x1F310;](https://olgabelitskaya.github.io/keras_cookbook_r.html)\n",
    "### Sklearn Python&nbsp; [&#x1F310;](https://olgabelitskaya.github.io/sklearn_cookbook.html)\n",
    "### TensorFlow Python &nbsp; [&#x1F310;](https://olgabelitskaya.github.io/tensorflow_cookbook.html)\n",
    "### OpenCV Python &nbsp; [&#x1F310;](https://olgabelitskaya.github.io/opencv_cookbook.html)"
   ]
  },
  {
   "cell_type": "markdown",
   "metadata": {},
   "source": [
    "---\n",
    "# &#x1F3D9; &nbsp;  Other Web Links:\n",
    "## &#x1F4D1; &nbsp; Kaggle\n",
    "- Build a Digit Recognition Models \n",
    "  - https://www.kaggle.com/olgabelitskaya/build-a-digit-recognition-models-2\n",
    "  - https://olgabelitskaya.github.io/kaggle_digits.html\n",
    " \n",
    "- Titanic_Survival_Exploration \n",
    "  - https://www.kaggle.com/olgabelitskaya/titanic-survival-exploration\n",
    "  - https://olgabelitskaya.github.io/kaggle_titanic.html\n",
    "\n",
    "- Sberbank Russian Housing Market \n",
    "  - https://www.kaggle.com/olgabelitskaya/sberbank-russian-housing-market\n",
    "  - https://olgabelitskaya.github.io/kaggle_sberbank.html\n",
    "  \n",
    "- House Prices: Advanced Regression Techniques\n",
    "  - https://www.kaggle.com/olgabelitskaya/regressors\n",
    "  - https://olgabelitskaya.github.io/kaggle_house.html\n",
    "\n",
    "## &#x1F4D1; &nbsp; GitHub gists https://gist.github.com/OlgaBelitskaya\n",
    "\n",
    "## &#x1F4D1; &nbsp; Pages on http://bl.ocks.org/\n",
    "\n",
    "- [Visualization. Map I](http://bl.ocks.org/OlgaBelitskaya/bcc84d52267612a32b2a5bf79ae11b94)\n",
    "- [Visualization. Map II](http://bl.ocks.org/OlgaBelitskaya/de4685ce8630c2ea00229750097e1fb4)\n",
    "- [Visualization. Interpolation](http://bl.ocks.org/OlgaBelitskaya/aec204a67eec24cec8568258395ce62b)\n",
    "- [Visualization. Multiline Chart](https://bl.ocks.org/OlgaBelitskaya/2ec3804fd98d4cbd86e28eed38cddbdb)\n",
    "\n",
    "#### [Block's Example](https://olgabelitskaya.github.io/multiline.html)\n",
    "\n",
    "## &#x1F4D1; &nbsp; Cocal.com Projects \n",
    "https://cocalc.com/projects\n",
    "\n",
    "## &#x1F4D1; &nbsp; Microsoft AML Studio\n",
    "https://studio.azureml.net/Home/"
   ]
  },
  {
   "cell_type": "code",
   "execution_count": 1,
   "metadata": {
    "collapsed": false
   },
   "outputs": [
    {
     "data": {
      "text/html": [
       "<style>\n",
       "@import url('https://fonts.googleapis.com/css?family=Orbitron');\n",
       "@import url('https://fonts.googleapis.com/css?family=Roboto');\n",
       "body {background-color: #CBE5FA;}\n",
       "a {color: #7d7d7d; font-family: Roboto;}\n",
       "h1, h2 {color: #3883c2; font-family: Orbitron; text-shadow: 4px 4px 4px #aaa;}\n",
       "h3 {color: #346187; font-family: Orbitron; text-shadow: 4px 4px 4px #aaa;}\n",
       "h4 {color: #7d7d7d; font-family: Roboto;}\n",
       "</style>\n",
       "<script>\n",
       "code_show = true; \n",
       "function code_display() {\n",
       "    if (code_show) {\n",
       "        $('div.input').each(function(id) {\n",
       "            if (id == 0 || $(this).html().indexOf('hide_code') > -1) {$(this).hide();}\n",
       "        });\n",
       "        $('div.output_prompt').css('opacity', 0);\n",
       "    } else {\n",
       "        $('div.input').each(function(id) {$(this).show();});\n",
       "        $('div.output_prompt').css('opacity', 1);\n",
       "    };\n",
       "    code_show = !code_show;\n",
       "} \n",
       "$(document).ready(code_display);\n",
       "</script>\n",
       "<form action=\"javascript: code_display()\">\n",
       "<input style=\"color: #346187; background: #CBE5FA; opacity: 0.8;\" \\ \n",
       "type=\"submit\" value=\"Click to display or hide code cells\">\n",
       "</form>"
      ],
      "text/plain": [
       "<IPython.core.display.HTML object>"
      ]
     },
     "metadata": {},
     "output_type": "display_data"
    }
   ],
   "source": [
    "%%html\n",
    "<style>\n",
    "@import url('https://fonts.googleapis.com/css?family=Orbitron');\n",
    "@import url('https://fonts.googleapis.com/css?family=Roboto');\n",
    "body {background-color: #CBE5FA;}\n",
    "a {color: #7d7d7d; font-family: Roboto;}\n",
    "h1, h2 {color: #3883c2; font-family: Orbitron; text-shadow: 4px 4px 4px #aaa;}\n",
    "h3 {color: #346187; font-family: Orbitron; text-shadow: 4px 4px 4px #aaa;}\n",
    "h4 {color: #7d7d7d; font-family: Roboto;}\n",
    "</style>\n",
    "<script>\n",
    "code_show = true; \n",
    "function code_display() {\n",
    "    if (code_show) {\n",
    "        $('div.input').each(function(id) {\n",
    "            if (id == 0 || $(this).html().indexOf('hide_code') > -1) {$(this).hide();}\n",
    "        });\n",
    "        $('div.output_prompt').css('opacity', 0);\n",
    "    } else {\n",
    "        $('div.input').each(function(id) {$(this).show();});\n",
    "        $('div.output_prompt').css('opacity', 1);\n",
    "    };\n",
    "    code_show = !code_show;\n",
    "} \n",
    "$(document).ready(code_display);\n",
    "</script>\n",
    "<form action=\"javascript: code_display()\">\n",
    "<input style=\"color: #346187; background: #CBE5FA; opacity: 0.8;\" \\ \n",
    "type=\"submit\" value=\"Click to display or hide code cells\">\n",
    "</form>"
   ]
  }
 ],
 "metadata": {
  "anaconda-cloud": {},
  "hide_input": false,
  "kernel_info": {
   "name": "python3"
  },
  "kernelspec": {
   "display_name": "Python 3",
   "language": "python",
   "name": "python3"
  },
  "language_info": {
   "codemirror_mode": {
    "name": "ipython",
    "version": 3
   },
   "file_extension": ".py",
   "mimetype": "text/x-python",
   "name": "python",
   "nbconvert_exporter": "python",
   "pygments_lexer": "ipython3",
   "version": "3.6.1"
  },
  "latex_envs": {
   "bibliofile": "biblio.bib",
   "cite_by": "apalike",
   "current_citInitial": 1,
   "eqLabelWithNumbers": true,
   "eqNumInitial": 0
  }
 },
 "nbformat": 4,
 "nbformat_minor": 2
}
